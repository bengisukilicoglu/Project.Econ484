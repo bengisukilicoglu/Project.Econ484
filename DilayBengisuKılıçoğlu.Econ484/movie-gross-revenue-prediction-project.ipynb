{
 "cells": [
  {
   "cell_type": "markdown",
   "id": "1f0ee416",
   "metadata": {
    "papermill": {
     "duration": 0.007052,
     "end_time": "2024-01-05T16:40:18.480159",
     "exception": false,
     "start_time": "2024-01-05T16:40:18.473107",
     "status": "completed"
    },
    "tags": []
   },
   "source": [
    "# Movie Gross Revenue Prediction Project"
   ]
  },
  {
   "cell_type": "markdown",
   "id": "12f7f16b",
   "metadata": {
    "papermill": {
     "duration": 0.006503,
     "end_time": "2024-01-05T16:40:18.493257",
     "exception": false,
     "start_time": "2024-01-05T16:40:18.486754",
     "status": "completed"
    },
    "tags": []
   },
   "source": [
    "The goal of this project is to predict the gross revenue of a movie from the IMDB Top 1000 Movies list.\n",
    "First, I will clean the data to address inconsistencies such as null values and changing data types.\n",
    "Next, I will perform EDA to identify possible relationships between gross revenue and other factors.\n",
    "Then, I will create a machine learning model to try to predict the gross revenue.\n",
    "\n",
    "Dataset: https://www.kaggle.com/datasets/harshitshankhdhar/imdb-dataset-of-top-1000-movies-and-tv-shows"
   ]
  },
  {
   "cell_type": "code",
   "execution_count": 1,
   "id": "9899b73d",
   "metadata": {
    "execution": {
     "iopub.execute_input": "2024-01-05T16:40:18.508469Z",
     "iopub.status.busy": "2024-01-05T16:40:18.507939Z",
     "iopub.status.idle": "2024-01-05T16:40:19.563872Z",
     "shell.execute_reply": "2024-01-05T16:40:19.562491Z"
    },
    "papermill": {
     "duration": 1.066315,
     "end_time": "2024-01-05T16:40:19.566206",
     "exception": false,
     "start_time": "2024-01-05T16:40:18.499891",
     "status": "completed"
    },
    "tags": []
   },
   "outputs": [],
   "source": [
    "import numpy as np\n",
    "import pandas as pd\n",
    "import plotly.express as px\n",
    "import plotly.graph_objects as go\n",
    "import re"
   ]
  },
  {
   "cell_type": "markdown",
   "id": "4a68f9bd",
   "metadata": {
    "papermill": {
     "duration": 0.006418,
     "end_time": "2024-01-05T16:40:19.579442",
     "exception": false,
     "start_time": "2024-01-05T16:40:19.573024",
     "status": "completed"
    },
    "tags": []
   },
   "source": [
    "## Data Cleaning"
   ]
  },
  {
   "cell_type": "code",
   "execution_count": 2,
   "id": "4560271b",
   "metadata": {
    "execution": {
     "iopub.execute_input": "2024-01-05T16:40:19.594229Z",
     "iopub.status.busy": "2024-01-05T16:40:19.593647Z",
     "iopub.status.idle": "2024-01-05T16:40:19.665985Z",
     "shell.execute_reply": "2024-01-05T16:40:19.664190Z"
    },
    "papermill": {
     "duration": 0.082259,
     "end_time": "2024-01-05T16:40:19.668123",
     "exception": false,
     "start_time": "2024-01-05T16:40:19.585864",
     "status": "completed"
    },
    "tags": []
   },
   "outputs": [
    {
     "data": {
      "text/html": [
       "<div>\n",
       "<style scoped>\n",
       "    .dataframe tbody tr th:only-of-type {\n",
       "        vertical-align: middle;\n",
       "    }\n",
       "\n",
       "    .dataframe tbody tr th {\n",
       "        vertical-align: top;\n",
       "    }\n",
       "\n",
       "    .dataframe thead th {\n",
       "        text-align: right;\n",
       "    }\n",
       "</style>\n",
       "<table border=\"1\" class=\"dataframe\">\n",
       "  <thead>\n",
       "    <tr style=\"text-align: right;\">\n",
       "      <th></th>\n",
       "      <th>Poster_Link</th>\n",
       "      <th>Series_Title</th>\n",
       "      <th>Released_Year</th>\n",
       "      <th>Certificate</th>\n",
       "      <th>Runtime</th>\n",
       "      <th>Genre</th>\n",
       "      <th>IMDB_Rating</th>\n",
       "      <th>Overview</th>\n",
       "      <th>Meta_score</th>\n",
       "      <th>Director</th>\n",
       "      <th>Star1</th>\n",
       "      <th>Star2</th>\n",
       "      <th>Star3</th>\n",
       "      <th>Star4</th>\n",
       "      <th>No_of_Votes</th>\n",
       "      <th>Gross</th>\n",
       "    </tr>\n",
       "  </thead>\n",
       "  <tbody>\n",
       "    <tr>\n",
       "      <th>0</th>\n",
       "      <td>https://m.media-amazon.com/images/M/MV5BMDFkYT...</td>\n",
       "      <td>The Shawshank Redemption</td>\n",
       "      <td>1994</td>\n",
       "      <td>A</td>\n",
       "      <td>142 min</td>\n",
       "      <td>Drama</td>\n",
       "      <td>9.3</td>\n",
       "      <td>Two imprisoned men bond over a number of years...</td>\n",
       "      <td>80.0</td>\n",
       "      <td>Frank Darabont</td>\n",
       "      <td>Tim Robbins</td>\n",
       "      <td>Morgan Freeman</td>\n",
       "      <td>Bob Gunton</td>\n",
       "      <td>William Sadler</td>\n",
       "      <td>2343110</td>\n",
       "      <td>28,341,469</td>\n",
       "    </tr>\n",
       "    <tr>\n",
       "      <th>1</th>\n",
       "      <td>https://m.media-amazon.com/images/M/MV5BM2MyNj...</td>\n",
       "      <td>The Godfather</td>\n",
       "      <td>1972</td>\n",
       "      <td>A</td>\n",
       "      <td>175 min</td>\n",
       "      <td>Crime, Drama</td>\n",
       "      <td>9.2</td>\n",
       "      <td>An organized crime dynasty's aging patriarch t...</td>\n",
       "      <td>100.0</td>\n",
       "      <td>Francis Ford Coppola</td>\n",
       "      <td>Marlon Brando</td>\n",
       "      <td>Al Pacino</td>\n",
       "      <td>James Caan</td>\n",
       "      <td>Diane Keaton</td>\n",
       "      <td>1620367</td>\n",
       "      <td>134,966,411</td>\n",
       "    </tr>\n",
       "    <tr>\n",
       "      <th>2</th>\n",
       "      <td>https://m.media-amazon.com/images/M/MV5BMTMxNT...</td>\n",
       "      <td>The Dark Knight</td>\n",
       "      <td>2008</td>\n",
       "      <td>UA</td>\n",
       "      <td>152 min</td>\n",
       "      <td>Action, Crime, Drama</td>\n",
       "      <td>9.0</td>\n",
       "      <td>When the menace known as the Joker wreaks havo...</td>\n",
       "      <td>84.0</td>\n",
       "      <td>Christopher Nolan</td>\n",
       "      <td>Christian Bale</td>\n",
       "      <td>Heath Ledger</td>\n",
       "      <td>Aaron Eckhart</td>\n",
       "      <td>Michael Caine</td>\n",
       "      <td>2303232</td>\n",
       "      <td>534,858,444</td>\n",
       "    </tr>\n",
       "    <tr>\n",
       "      <th>3</th>\n",
       "      <td>https://m.media-amazon.com/images/M/MV5BMWMwMG...</td>\n",
       "      <td>The Godfather: Part II</td>\n",
       "      <td>1974</td>\n",
       "      <td>A</td>\n",
       "      <td>202 min</td>\n",
       "      <td>Crime, Drama</td>\n",
       "      <td>9.0</td>\n",
       "      <td>The early life and career of Vito Corleone in ...</td>\n",
       "      <td>90.0</td>\n",
       "      <td>Francis Ford Coppola</td>\n",
       "      <td>Al Pacino</td>\n",
       "      <td>Robert De Niro</td>\n",
       "      <td>Robert Duvall</td>\n",
       "      <td>Diane Keaton</td>\n",
       "      <td>1129952</td>\n",
       "      <td>57,300,000</td>\n",
       "    </tr>\n",
       "    <tr>\n",
       "      <th>4</th>\n",
       "      <td>https://m.media-amazon.com/images/M/MV5BMWU4N2...</td>\n",
       "      <td>12 Angry Men</td>\n",
       "      <td>1957</td>\n",
       "      <td>U</td>\n",
       "      <td>96 min</td>\n",
       "      <td>Crime, Drama</td>\n",
       "      <td>9.0</td>\n",
       "      <td>A jury holdout attempts to prevent a miscarria...</td>\n",
       "      <td>96.0</td>\n",
       "      <td>Sidney Lumet</td>\n",
       "      <td>Henry Fonda</td>\n",
       "      <td>Lee J. Cobb</td>\n",
       "      <td>Martin Balsam</td>\n",
       "      <td>John Fiedler</td>\n",
       "      <td>689845</td>\n",
       "      <td>4,360,000</td>\n",
       "    </tr>\n",
       "  </tbody>\n",
       "</table>\n",
       "</div>"
      ],
      "text/plain": [
       "                                         Poster_Link  \\\n",
       "0  https://m.media-amazon.com/images/M/MV5BMDFkYT...   \n",
       "1  https://m.media-amazon.com/images/M/MV5BM2MyNj...   \n",
       "2  https://m.media-amazon.com/images/M/MV5BMTMxNT...   \n",
       "3  https://m.media-amazon.com/images/M/MV5BMWMwMG...   \n",
       "4  https://m.media-amazon.com/images/M/MV5BMWU4N2...   \n",
       "\n",
       "               Series_Title Released_Year Certificate  Runtime  \\\n",
       "0  The Shawshank Redemption          1994           A  142 min   \n",
       "1             The Godfather          1972           A  175 min   \n",
       "2           The Dark Knight          2008          UA  152 min   \n",
       "3    The Godfather: Part II          1974           A  202 min   \n",
       "4              12 Angry Men          1957           U   96 min   \n",
       "\n",
       "                  Genre  IMDB_Rating  \\\n",
       "0                 Drama          9.3   \n",
       "1          Crime, Drama          9.2   \n",
       "2  Action, Crime, Drama          9.0   \n",
       "3          Crime, Drama          9.0   \n",
       "4          Crime, Drama          9.0   \n",
       "\n",
       "                                            Overview  Meta_score  \\\n",
       "0  Two imprisoned men bond over a number of years...        80.0   \n",
       "1  An organized crime dynasty's aging patriarch t...       100.0   \n",
       "2  When the menace known as the Joker wreaks havo...        84.0   \n",
       "3  The early life and career of Vito Corleone in ...        90.0   \n",
       "4  A jury holdout attempts to prevent a miscarria...        96.0   \n",
       "\n",
       "               Director           Star1           Star2          Star3  \\\n",
       "0        Frank Darabont     Tim Robbins  Morgan Freeman     Bob Gunton   \n",
       "1  Francis Ford Coppola   Marlon Brando       Al Pacino     James Caan   \n",
       "2     Christopher Nolan  Christian Bale    Heath Ledger  Aaron Eckhart   \n",
       "3  Francis Ford Coppola       Al Pacino  Robert De Niro  Robert Duvall   \n",
       "4          Sidney Lumet     Henry Fonda     Lee J. Cobb  Martin Balsam   \n",
       "\n",
       "            Star4  No_of_Votes        Gross  \n",
       "0  William Sadler      2343110   28,341,469  \n",
       "1    Diane Keaton      1620367  134,966,411  \n",
       "2   Michael Caine      2303232  534,858,444  \n",
       "3    Diane Keaton      1129952   57,300,000  \n",
       "4    John Fiedler       689845    4,360,000  "
      ]
     },
     "execution_count": 2,
     "metadata": {},
     "output_type": "execute_result"
    }
   ],
   "source": [
    "# Reading in data\n",
    "data = pd.read_csv('/kaggle/input/imdb-dataset-of-top-1000-movies-and-tv-shows/imdb_top_1000.csv')   # Saved locally\n",
    "data.head()"
   ]
  },
  {
   "cell_type": "code",
   "execution_count": 3,
   "id": "20fd81a6",
   "metadata": {
    "execution": {
     "iopub.execute_input": "2024-01-05T16:40:19.683624Z",
     "iopub.status.busy": "2024-01-05T16:40:19.683271Z",
     "iopub.status.idle": "2024-01-05T16:40:19.710143Z",
     "shell.execute_reply": "2024-01-05T16:40:19.708841Z"
    },
    "papermill": {
     "duration": 0.037345,
     "end_time": "2024-01-05T16:40:19.712422",
     "exception": false,
     "start_time": "2024-01-05T16:40:19.675077",
     "status": "completed"
    },
    "scrolled": true,
    "tags": []
   },
   "outputs": [
    {
     "data": {
      "text/html": [
       "<div>\n",
       "<style scoped>\n",
       "    .dataframe tbody tr th:only-of-type {\n",
       "        vertical-align: middle;\n",
       "    }\n",
       "\n",
       "    .dataframe tbody tr th {\n",
       "        vertical-align: top;\n",
       "    }\n",
       "\n",
       "    .dataframe thead th {\n",
       "        text-align: right;\n",
       "    }\n",
       "</style>\n",
       "<table border=\"1\" class=\"dataframe\">\n",
       "  <thead>\n",
       "    <tr style=\"text-align: right;\">\n",
       "      <th></th>\n",
       "      <th>Release Year</th>\n",
       "      <th>Age Rating</th>\n",
       "      <th>Runtime</th>\n",
       "      <th>Genre</th>\n",
       "      <th>IMDB Rating</th>\n",
       "      <th>Metascore</th>\n",
       "      <th>Votes</th>\n",
       "      <th>Gross Revenue</th>\n",
       "    </tr>\n",
       "  </thead>\n",
       "  <tbody>\n",
       "    <tr>\n",
       "      <th>0</th>\n",
       "      <td>1994</td>\n",
       "      <td>A</td>\n",
       "      <td>142 min</td>\n",
       "      <td>Drama</td>\n",
       "      <td>9.3</td>\n",
       "      <td>80.0</td>\n",
       "      <td>2343110</td>\n",
       "      <td>28,341,469</td>\n",
       "    </tr>\n",
       "    <tr>\n",
       "      <th>1</th>\n",
       "      <td>1972</td>\n",
       "      <td>A</td>\n",
       "      <td>175 min</td>\n",
       "      <td>Crime, Drama</td>\n",
       "      <td>9.2</td>\n",
       "      <td>100.0</td>\n",
       "      <td>1620367</td>\n",
       "      <td>134,966,411</td>\n",
       "    </tr>\n",
       "    <tr>\n",
       "      <th>2</th>\n",
       "      <td>2008</td>\n",
       "      <td>UA</td>\n",
       "      <td>152 min</td>\n",
       "      <td>Action, Crime, Drama</td>\n",
       "      <td>9.0</td>\n",
       "      <td>84.0</td>\n",
       "      <td>2303232</td>\n",
       "      <td>534,858,444</td>\n",
       "    </tr>\n",
       "    <tr>\n",
       "      <th>3</th>\n",
       "      <td>1974</td>\n",
       "      <td>A</td>\n",
       "      <td>202 min</td>\n",
       "      <td>Crime, Drama</td>\n",
       "      <td>9.0</td>\n",
       "      <td>90.0</td>\n",
       "      <td>1129952</td>\n",
       "      <td>57,300,000</td>\n",
       "    </tr>\n",
       "    <tr>\n",
       "      <th>4</th>\n",
       "      <td>1957</td>\n",
       "      <td>U</td>\n",
       "      <td>96 min</td>\n",
       "      <td>Crime, Drama</td>\n",
       "      <td>9.0</td>\n",
       "      <td>96.0</td>\n",
       "      <td>689845</td>\n",
       "      <td>4,360,000</td>\n",
       "    </tr>\n",
       "  </tbody>\n",
       "</table>\n",
       "</div>"
      ],
      "text/plain": [
       "  Release Year Age Rating  Runtime                 Genre  IMDB Rating  \\\n",
       "0         1994          A  142 min                 Drama          9.3   \n",
       "1         1972          A  175 min          Crime, Drama          9.2   \n",
       "2         2008         UA  152 min  Action, Crime, Drama          9.0   \n",
       "3         1974          A  202 min          Crime, Drama          9.0   \n",
       "4         1957          U   96 min          Crime, Drama          9.0   \n",
       "\n",
       "   Metascore    Votes Gross Revenue  \n",
       "0       80.0  2343110    28,341,469  \n",
       "1      100.0  1620367   134,966,411  \n",
       "2       84.0  2303232   534,858,444  \n",
       "3       90.0  1129952    57,300,000  \n",
       "4       96.0   689845     4,360,000  "
      ]
     },
     "execution_count": 3,
     "metadata": {},
     "output_type": "execute_result"
    }
   ],
   "source": [
    "# Dropping columns that won't be used for analysis\n",
    "data.drop(['Poster_Link','Series_Title','Overview','Director','Star1','Star2','Star3','Star4'], axis=1, inplace=True)\n",
    "\n",
    "# Renaming relevant columns\n",
    "data.rename(columns={'Released_Year':'Release Year', \n",
    "             'Certificate':'Age Rating', \n",
    "             'IMDB_Rating':'IMDB Rating',\n",
    "             'Meta_score':'Metascore',\n",
    "             'No_of_Votes':'Votes',\n",
    "             'Gross':'Gross Revenue'}, inplace=True)\n",
    "\n",
    "data.head()"
   ]
  },
  {
   "cell_type": "code",
   "execution_count": 4,
   "id": "43e21ac2",
   "metadata": {
    "execution": {
     "iopub.execute_input": "2024-01-05T16:40:19.730849Z",
     "iopub.status.busy": "2024-01-05T16:40:19.729896Z",
     "iopub.status.idle": "2024-01-05T16:40:19.739873Z",
     "shell.execute_reply": "2024-01-05T16:40:19.738354Z"
    },
    "papermill": {
     "duration": 0.022379,
     "end_time": "2024-01-05T16:40:19.742173",
     "exception": false,
     "start_time": "2024-01-05T16:40:19.719794",
     "status": "completed"
    },
    "tags": []
   },
   "outputs": [
    {
     "data": {
      "text/plain": [
       "Release Year       0\n",
       "Age Rating       101\n",
       "Runtime            0\n",
       "Genre              0\n",
       "IMDB Rating        0\n",
       "Metascore        157\n",
       "Votes              0\n",
       "Gross Revenue    169\n",
       "dtype: int64"
      ]
     },
     "execution_count": 4,
     "metadata": {},
     "output_type": "execute_result"
    }
   ],
   "source": [
    "# Checking columns for nulls\n",
    "data.isna().sum()"
   ]
  },
  {
   "cell_type": "code",
   "execution_count": 5,
   "id": "dc1bfda9",
   "metadata": {
    "execution": {
     "iopub.execute_input": "2024-01-05T16:40:19.758661Z",
     "iopub.status.busy": "2024-01-05T16:40:19.758276Z",
     "iopub.status.idle": "2024-01-05T16:40:19.777692Z",
     "shell.execute_reply": "2024-01-05T16:40:19.776509Z"
    },
    "papermill": {
     "duration": 0.030715,
     "end_time": "2024-01-05T16:40:19.780346",
     "exception": false,
     "start_time": "2024-01-05T16:40:19.749631",
     "status": "completed"
    },
    "tags": []
   },
   "outputs": [
    {
     "data": {
      "text/plain": [
       "Age Rating\n",
       "A     315\n",
       "U     237\n",
       "UA    232\n",
       "Name: count, dtype: int64"
      ]
     },
     "execution_count": 5,
     "metadata": {},
     "output_type": "execute_result"
    }
   ],
   "source": [
    "# Removing rows where Gross Revenue is null\n",
    "data = data[data['Gross Revenue'].isna() == False]\n",
    "\n",
    "# Standardizing the Age Rating column to U, UA, and A\n",
    "data['Age Rating'] = data['Age Rating'].map({'U':'U','G':'U','PG':'U','GP':'U','TV-PG':'U',\n",
    "                                             'UA':'UA','PG-13':'UA','U/A':'UA','Passed':'UA','Approved':'UA',\n",
    "                                             'A':'A','R':'A'})\n",
    "\n",
    "# Removing rows where Age Rating is null\n",
    "data = data[data['Age Rating'].isna() == False]\n",
    "\n",
    "data['Age Rating'].value_counts()"
   ]
  },
  {
   "cell_type": "code",
   "execution_count": 6,
   "id": "902ea1c6",
   "metadata": {
    "execution": {
     "iopub.execute_input": "2024-01-05T16:40:19.796863Z",
     "iopub.status.busy": "2024-01-05T16:40:19.796488Z",
     "iopub.status.idle": "2024-01-05T16:40:19.813226Z",
     "shell.execute_reply": "2024-01-05T16:40:19.812046Z"
    },
    "papermill": {
     "duration": 0.027224,
     "end_time": "2024-01-05T16:40:19.815114",
     "exception": false,
     "start_time": "2024-01-05T16:40:19.787890",
     "status": "completed"
    },
    "tags": []
   },
   "outputs": [
    {
     "data": {
      "text/html": [
       "<div>\n",
       "<style scoped>\n",
       "    .dataframe tbody tr th:only-of-type {\n",
       "        vertical-align: middle;\n",
       "    }\n",
       "\n",
       "    .dataframe tbody tr th {\n",
       "        vertical-align: top;\n",
       "    }\n",
       "\n",
       "    .dataframe thead th {\n",
       "        text-align: right;\n",
       "    }\n",
       "</style>\n",
       "<table border=\"1\" class=\"dataframe\">\n",
       "  <thead>\n",
       "    <tr style=\"text-align: right;\">\n",
       "      <th></th>\n",
       "      <th>Release Year</th>\n",
       "      <th>Age Rating</th>\n",
       "      <th>Runtime</th>\n",
       "      <th>Genre</th>\n",
       "      <th>IMDB Rating</th>\n",
       "      <th>Votes</th>\n",
       "      <th>Gross Revenue</th>\n",
       "      <th>Metascore Exists</th>\n",
       "    </tr>\n",
       "  </thead>\n",
       "  <tbody>\n",
       "    <tr>\n",
       "      <th>0</th>\n",
       "      <td>1994</td>\n",
       "      <td>A</td>\n",
       "      <td>142 min</td>\n",
       "      <td>Drama</td>\n",
       "      <td>9.3</td>\n",
       "      <td>2343110</td>\n",
       "      <td>28,341,469</td>\n",
       "      <td>True</td>\n",
       "    </tr>\n",
       "    <tr>\n",
       "      <th>1</th>\n",
       "      <td>1972</td>\n",
       "      <td>A</td>\n",
       "      <td>175 min</td>\n",
       "      <td>Crime, Drama</td>\n",
       "      <td>9.2</td>\n",
       "      <td>1620367</td>\n",
       "      <td>134,966,411</td>\n",
       "      <td>True</td>\n",
       "    </tr>\n",
       "    <tr>\n",
       "      <th>2</th>\n",
       "      <td>2008</td>\n",
       "      <td>UA</td>\n",
       "      <td>152 min</td>\n",
       "      <td>Action, Crime, Drama</td>\n",
       "      <td>9.0</td>\n",
       "      <td>2303232</td>\n",
       "      <td>534,858,444</td>\n",
       "      <td>True</td>\n",
       "    </tr>\n",
       "    <tr>\n",
       "      <th>3</th>\n",
       "      <td>1974</td>\n",
       "      <td>A</td>\n",
       "      <td>202 min</td>\n",
       "      <td>Crime, Drama</td>\n",
       "      <td>9.0</td>\n",
       "      <td>1129952</td>\n",
       "      <td>57,300,000</td>\n",
       "      <td>True</td>\n",
       "    </tr>\n",
       "    <tr>\n",
       "      <th>4</th>\n",
       "      <td>1957</td>\n",
       "      <td>U</td>\n",
       "      <td>96 min</td>\n",
       "      <td>Crime, Drama</td>\n",
       "      <td>9.0</td>\n",
       "      <td>689845</td>\n",
       "      <td>4,360,000</td>\n",
       "      <td>True</td>\n",
       "    </tr>\n",
       "  </tbody>\n",
       "</table>\n",
       "</div>"
      ],
      "text/plain": [
       "  Release Year Age Rating  Runtime                 Genre  IMDB Rating  \\\n",
       "0         1994          A  142 min                 Drama          9.3   \n",
       "1         1972          A  175 min          Crime, Drama          9.2   \n",
       "2         2008         UA  152 min  Action, Crime, Drama          9.0   \n",
       "3         1974          A  202 min          Crime, Drama          9.0   \n",
       "4         1957          U   96 min          Crime, Drama          9.0   \n",
       "\n",
       "     Votes Gross Revenue  Metascore Exists  \n",
       "0  2343110    28,341,469              True  \n",
       "1  1620367   134,966,411              True  \n",
       "2  2303232   534,858,444              True  \n",
       "3  1129952    57,300,000              True  \n",
       "4   689845     4,360,000              True  "
      ]
     },
     "execution_count": 6,
     "metadata": {},
     "output_type": "execute_result"
    }
   ],
   "source": [
    "# Creating new column to indicate whether a Metascore exists\n",
    "data['Metascore Exists'] = data['Metascore'].notnull()\n",
    "data.drop('Metascore',axis=1,inplace=True)\n",
    "data.head()"
   ]
  },
  {
   "cell_type": "code",
   "execution_count": 7,
   "id": "3f0f19f7",
   "metadata": {
    "execution": {
     "iopub.execute_input": "2024-01-05T16:40:19.832489Z",
     "iopub.status.busy": "2024-01-05T16:40:19.831558Z",
     "iopub.status.idle": "2024-01-05T16:40:19.839030Z",
     "shell.execute_reply": "2024-01-05T16:40:19.838135Z"
    },
    "papermill": {
     "duration": 0.018177,
     "end_time": "2024-01-05T16:40:19.841001",
     "exception": false,
     "start_time": "2024-01-05T16:40:19.822824",
     "status": "completed"
    },
    "tags": []
   },
   "outputs": [
    {
     "data": {
      "text/plain": [
       "Release Year         object\n",
       "Age Rating           object\n",
       "Runtime              object\n",
       "Genre                object\n",
       "IMDB Rating         float64\n",
       "Votes                 int64\n",
       "Gross Revenue        object\n",
       "Metascore Exists       bool\n",
       "dtype: object"
      ]
     },
     "execution_count": 7,
     "metadata": {},
     "output_type": "execute_result"
    }
   ],
   "source": [
    "# Checking datatypes of each column\n",
    "data.dtypes"
   ]
  },
  {
   "cell_type": "code",
   "execution_count": 8,
   "id": "5a06ac63",
   "metadata": {
    "execution": {
     "iopub.execute_input": "2024-01-05T16:40:19.858459Z",
     "iopub.status.busy": "2024-01-05T16:40:19.858081Z",
     "iopub.status.idle": "2024-01-05T16:40:19.882944Z",
     "shell.execute_reply": "2024-01-05T16:40:19.882023Z"
    },
    "papermill": {
     "duration": 0.035786,
     "end_time": "2024-01-05T16:40:19.884947",
     "exception": false,
     "start_time": "2024-01-05T16:40:19.849161",
     "status": "completed"
    },
    "tags": []
   },
   "outputs": [
    {
     "data": {
      "text/html": [
       "<div>\n",
       "<style scoped>\n",
       "    .dataframe tbody tr th:only-of-type {\n",
       "        vertical-align: middle;\n",
       "    }\n",
       "\n",
       "    .dataframe tbody tr th {\n",
       "        vertical-align: top;\n",
       "    }\n",
       "\n",
       "    .dataframe thead th {\n",
       "        text-align: right;\n",
       "    }\n",
       "</style>\n",
       "<table border=\"1\" class=\"dataframe\">\n",
       "  <thead>\n",
       "    <tr style=\"text-align: right;\">\n",
       "      <th></th>\n",
       "      <th>Release Year</th>\n",
       "      <th>Age Rating</th>\n",
       "      <th>Runtime</th>\n",
       "      <th>IMDB Rating</th>\n",
       "      <th>Votes</th>\n",
       "      <th>Gross Revenue</th>\n",
       "      <th>Metascore Exists</th>\n",
       "      <th>Genres</th>\n",
       "      <th>Primary Genre</th>\n",
       "    </tr>\n",
       "  </thead>\n",
       "  <tbody>\n",
       "    <tr>\n",
       "      <th>0</th>\n",
       "      <td>1994</td>\n",
       "      <td>A</td>\n",
       "      <td>142</td>\n",
       "      <td>9.3</td>\n",
       "      <td>2343110</td>\n",
       "      <td>28.341469</td>\n",
       "      <td>True</td>\n",
       "      <td>1</td>\n",
       "      <td>Drama</td>\n",
       "    </tr>\n",
       "    <tr>\n",
       "      <th>1</th>\n",
       "      <td>1972</td>\n",
       "      <td>A</td>\n",
       "      <td>175</td>\n",
       "      <td>9.2</td>\n",
       "      <td>1620367</td>\n",
       "      <td>134.966411</td>\n",
       "      <td>True</td>\n",
       "      <td>2</td>\n",
       "      <td>Crime</td>\n",
       "    </tr>\n",
       "    <tr>\n",
       "      <th>2</th>\n",
       "      <td>2008</td>\n",
       "      <td>UA</td>\n",
       "      <td>152</td>\n",
       "      <td>9.0</td>\n",
       "      <td>2303232</td>\n",
       "      <td>534.858444</td>\n",
       "      <td>True</td>\n",
       "      <td>3</td>\n",
       "      <td>Action</td>\n",
       "    </tr>\n",
       "    <tr>\n",
       "      <th>3</th>\n",
       "      <td>1974</td>\n",
       "      <td>A</td>\n",
       "      <td>202</td>\n",
       "      <td>9.0</td>\n",
       "      <td>1129952</td>\n",
       "      <td>57.300000</td>\n",
       "      <td>True</td>\n",
       "      <td>2</td>\n",
       "      <td>Crime</td>\n",
       "    </tr>\n",
       "    <tr>\n",
       "      <th>4</th>\n",
       "      <td>1957</td>\n",
       "      <td>U</td>\n",
       "      <td>96</td>\n",
       "      <td>9.0</td>\n",
       "      <td>689845</td>\n",
       "      <td>4.360000</td>\n",
       "      <td>True</td>\n",
       "      <td>2</td>\n",
       "      <td>Crime</td>\n",
       "    </tr>\n",
       "  </tbody>\n",
       "</table>\n",
       "</div>"
      ],
      "text/plain": [
       "   Release Year Age Rating  Runtime  IMDB Rating    Votes  Gross Revenue  \\\n",
       "0          1994          A      142          9.3  2343110      28.341469   \n",
       "1          1972          A      175          9.2  1620367     134.966411   \n",
       "2          2008         UA      152          9.0  2303232     534.858444   \n",
       "3          1974          A      202          9.0  1129952      57.300000   \n",
       "4          1957          U       96          9.0   689845       4.360000   \n",
       "\n",
       "   Metascore Exists  Genres Primary Genre  \n",
       "0              True       1         Drama  \n",
       "1              True       2         Crime  \n",
       "2              True       3        Action  \n",
       "3              True       2         Crime  \n",
       "4              True       2         Crime  "
      ]
     },
     "execution_count": 8,
     "metadata": {},
     "output_type": "execute_result"
    }
   ],
   "source": [
    "# Filtering Release Year values for right format and changing type to int\n",
    "year_format = r'\\d\\d\\d\\d'\n",
    "data = data[data['Release Year'].str.match(year_format)]\n",
    "data['Release Year'] = data['Release Year'].astype(int)\n",
    "\n",
    "# Changing Runtime type to int \n",
    "data['Runtime'] = data['Runtime'].str[:-4].astype(int)\n",
    "\n",
    "# Changing Gross Revenue type to int and changing units to millions\n",
    "data['Gross Revenue'] = data['Gross Revenue'].str.replace(',','').astype(int)\n",
    "data['Gross Revenue'] = data['Gross Revenue']*(10**-6)\n",
    "\n",
    "# Creating new column to count the number of Genres\n",
    "data['Genres'] = data['Genre'].apply(lambda x: len(x.split(', ')))\n",
    "\n",
    "# Creating new column for Primary Genre which will be the first genre listed, then dropping Genre column\n",
    "data['Primary Genre'] = data['Genre'].str.split(', ').str[0]\n",
    "data.drop('Genre', axis=1, inplace=True)\n",
    "\n",
    "data.head()"
   ]
  },
  {
   "cell_type": "code",
   "execution_count": 9,
   "id": "892da5f6",
   "metadata": {
    "execution": {
     "iopub.execute_input": "2024-01-05T16:40:19.902197Z",
     "iopub.status.busy": "2024-01-05T16:40:19.901862Z",
     "iopub.status.idle": "2024-01-05T16:40:19.910692Z",
     "shell.execute_reply": "2024-01-05T16:40:19.909034Z"
    },
    "papermill": {
     "duration": 0.020814,
     "end_time": "2024-01-05T16:40:19.913755",
     "exception": false,
     "start_time": "2024-01-05T16:40:19.892941",
     "status": "completed"
    },
    "tags": []
   },
   "outputs": [
    {
     "name": "stdout",
     "output_type": "stream",
     "text": [
      "Release Year        0\n",
      "Age Rating          0\n",
      "Runtime             0\n",
      "IMDB Rating         0\n",
      "Votes               0\n",
      "Gross Revenue       0\n",
      "Metascore Exists    0\n",
      "Genres              0\n",
      "Primary Genre       0\n",
      "dtype: int64\n",
      "Release Year          int64\n",
      "Age Rating           object\n",
      "Runtime               int64\n",
      "IMDB Rating         float64\n",
      "Votes                 int64\n",
      "Gross Revenue       float64\n",
      "Metascore Exists       bool\n",
      "Genres                int64\n",
      "Primary Genre        object\n",
      "dtype: object\n"
     ]
    }
   ],
   "source": [
    "# Confirming data is clean\n",
    "print(data.isna().sum())\n",
    "print(data.dtypes)"
   ]
  },
  {
   "cell_type": "markdown",
   "id": "2c7c1f99",
   "metadata": {
    "papermill": {
     "duration": 0.007937,
     "end_time": "2024-01-05T16:40:19.930163",
     "exception": false,
     "start_time": "2024-01-05T16:40:19.922226",
     "status": "completed"
    },
    "tags": []
   },
   "source": [
    "## Exploratory Data Analysis"
   ]
  },
  {
   "cell_type": "code",
   "execution_count": 10,
   "id": "af40db2e",
   "metadata": {
    "execution": {
     "iopub.execute_input": "2024-01-05T16:40:19.947610Z",
     "iopub.status.busy": "2024-01-05T16:40:19.947260Z",
     "iopub.status.idle": "2024-01-05T16:40:24.862368Z",
     "shell.execute_reply": "2024-01-05T16:40:24.861370Z"
    },
    "papermill": {
     "duration": 4.926189,
     "end_time": "2024-01-05T16:40:24.864246",
     "exception": false,
     "start_time": "2024-01-05T16:40:19.938057",
     "status": "completed"
    },
    "tags": []
   },
   "outputs": [
    {
     "data": {
      "text/html": [
       "        <script type=\"text/javascript\">\n",
       "        window.PlotlyConfig = {MathJaxConfig: 'local'};\n",
       "        if (window.MathJax && window.MathJax.Hub && window.MathJax.Hub.Config) {window.MathJax.Hub.Config({SVG: {font: \"STIX-Web\"}});}\n",
       "        if (typeof require !== 'undefined') {\n",
       "        require.undef(\"plotly\");\n",
       "        requirejs.config({\n",
       "            paths: {\n",
       "                'plotly': ['https://cdn.plot.ly/plotly-2.25.2.min']\n",
       "            }\n",
       "        });\n",
       "        require(['plotly'], function(Plotly) {\n",
       "            window._Plotly = Plotly;\n",
       "        });\n",
       "        }\n",
       "        </script>\n",
       "        "
      ]
     },
     "metadata": {},
     "output_type": "display_data"
    },
    {
     "data": {
      "text/html": [
       "<div>                            <div id=\"5b9816ef-ffa6-4696-b124-5a8acd218108\" class=\"plotly-graph-div\" style=\"height:525px; width:100%;\"></div>            <script type=\"text/javascript\">                require([\"plotly\"], function(Plotly) {                    window.PLOTLYENV=window.PLOTLYENV || {};                                    if (document.getElementById(\"5b9816ef-ffa6-4696-b124-5a8acd218108\")) {                    Plotly.newPlot(                        \"5b9816ef-ffa6-4696-b124-5a8acd218108\",                        [{\"hovertemplate\":\"IMDB Rating=%{x}\\u003cbr\\u003eGross Revenue=%{y}\\u003cextra\\u003e\\u003c\\u002fextra\\u003e\",\"legendgroup\":\"\",\"marker\":{\"color\":\"#636efa\",\"symbol\":\"circle\"},\"mode\":\"markers\",\"name\":\"\",\"orientation\":\"v\",\"showlegend\":false,\"x\":[9.3,9.2,9.0,9.0,9.0,8.9,8.9,8.9,8.8,8.8,8.8,8.8,8.8,8.7,8.7,8.7,8.7,8.7,8.6,8.6,8.6,8.6,8.6,8.6,8.6,8.6,8.6,8.6,8.6,8.5,8.5,8.5,8.5,8.5,8.5,8.5,8.5,8.5,8.5,8.5,8.5,8.5,8.5,8.5,8.5,8.5,8.5,8.5,8.4,8.4,8.4,8.4,8.4,8.4,8.4,8.4,8.4,8.4,8.4,8.4,8.4,8.4,8.4,8.4,8.4,8.4,8.4,8.4,8.4,8.4,8.4,8.4,8.4,8.3,8.3,8.3,8.3,8.3,8.3,8.3,8.3,8.3,8.3,8.3,8.3,8.3,8.3,8.3,8.3,8.3,8.3,8.3,8.3,8.3,8.3,8.3,8.3,8.3,8.3,8.3,8.3,8.3,8.3,8.3,8.3,8.3,8.3,8.3,8.3,8.2,8.2,8.2,8.2,8.2,8.2,8.2,8.2,8.2,8.2,8.2,8.2,8.2,8.2,8.2,8.2,8.2,8.2,8.2,8.2,8.2,8.2,8.2,8.2,8.2,8.2,8.2,8.2,8.2,8.2,8.2,8.2,8.2,8.2,8.2,8.2,8.2,8.2,8.2,8.2,8.2,8.2,8.2,8.2,8.2,8.2,8.2,8.2,8.1,8.1,8.1,8.1,8.1,8.1,8.1,8.1,8.1,8.1,8.1,8.1,8.1,8.1,8.1,8.1,8.1,8.1,8.1,8.1,8.1,8.1,8.1,8.1,8.1,8.1,8.1,8.1,8.1,8.1,8.1,8.1,8.1,8.1,8.1,8.1,8.1,8.1,8.1,8.1,8.1,8.1,8.1,8.1,8.1,8.1,8.1,8.1,8.1,8.1,8.1,8.1,8.1,8.1,8.1,8.1,8.1,8.1,8.1,8.1,8.1,8.1,8.1,8.1,8.1,8.1,8.1,8.1,8.1,8.1,8.1,8.1,8.1,8.1,8.1,8.1,8.1,8.1,8.1,8.1,8.1,8.1,8.1,8.1,8.1,8.1,8.1,8.1,8.1,8.1,8.1,8.0,8.0,8.0,8.0,8.0,8.0,8.0,8.0,8.0,8.0,8.0,8.0,8.0,8.0,8.0,8.0,8.0,8.0,8.0,8.0,8.0,8.0,8.0,8.0,8.0,8.0,8.0,8.0,8.0,8.0,8.0,8.0,8.0,8.0,8.0,8.0,8.0,8.0,8.0,8.0,8.0,8.0,8.0,8.0,8.0,8.0,8.0,8.0,8.0,8.0,8.0,8.0,8.0,8.0,8.0,8.0,8.0,8.0,8.0,8.0,8.0,8.0,8.0,8.0,8.0,8.0,8.0,8.0,8.0,8.0,8.0,8.0,8.0,8.0,8.0,8.0,8.0,8.0,8.0,8.0,8.0,8.0,8.0,8.0,8.0,8.0,8.0,8.0,8.0,8.0,8.0,8.0,8.0,8.0,8.0,8.0,8.0,8.0,8.0,8.0,8.0,8.0,8.0,8.0,8.0,7.9,7.9,7.9,7.9,7.9,7.9,7.9,7.9,7.9,7.9,7.9,7.9,7.9,7.9,7.9,7.9,7.9,7.9,7.9,7.9,7.9,7.9,7.9,7.9,7.9,7.9,7.9,7.9,7.9,7.9,7.9,7.9,7.9,7.9,7.9,7.9,7.9,7.9,7.9,7.9,7.9,7.9,7.9,7.9,7.9,7.9,7.9,7.9,7.9,7.9,7.9,7.9,7.9,7.9,7.9,7.9,7.9,7.9,7.9,7.9,7.9,7.9,7.9,7.9,7.9,7.9,7.9,7.9,7.9,7.9,7.9,7.9,7.9,7.9,7.9,7.9,7.9,7.9,7.9,7.9,7.9,7.9,7.9,7.9,7.8,7.8,7.8,7.8,7.8,7.8,7.8,7.8,7.8,7.8,7.8,7.8,7.8,7.8,7.8,7.8,7.8,7.8,7.8,7.8,7.8,7.8,7.8,7.8,7.8,7.8,7.8,7.8,7.8,7.8,7.8,7.8,7.8,7.8,7.8,7.8,7.8,7.8,7.8,7.8,7.8,7.8,7.8,7.8,7.8,7.8,7.8,7.8,7.8,7.8,7.8,7.8,7.8,7.8,7.8,7.8,7.8,7.8,7.8,7.8,7.8,7.8,7.8,7.8,7.8,7.8,7.8,7.8,7.8,7.8,7.8,7.8,7.8,7.8,7.8,7.8,7.8,7.8,7.8,7.8,7.8,7.8,7.8,7.8,7.8,7.8,7.8,7.8,7.8,7.8,7.8,7.8,7.8,7.8,7.8,7.8,7.8,7.8,7.8,7.8,7.8,7.8,7.8,7.8,7.8,7.8,7.8,7.8,7.8,7.8,7.8,7.8,7.8,7.7,7.7,7.7,7.7,7.7,7.7,7.7,7.7,7.7,7.7,7.7,7.7,7.7,7.7,7.7,7.7,7.7,7.7,7.7,7.7,7.7,7.7,7.7,7.7,7.7,7.7,7.7,7.7,7.7,7.7,7.7,7.7,7.7,7.7,7.7,7.7,7.7,7.7,7.7,7.7,7.7,7.7,7.7,7.7,7.7,7.7,7.7,7.7,7.7,7.7,7.7,7.7,7.7,7.7,7.7,7.7,7.7,7.7,7.7,7.7,7.7,7.7,7.7,7.7,7.7,7.7,7.7,7.7,7.7,7.7,7.7,7.7,7.7,7.7,7.7,7.7,7.7,7.7,7.7,7.7,7.7,7.7,7.7,7.7,7.7,7.7,7.7,7.7,7.7,7.7,7.7,7.7,7.7,7.7,7.7,7.7,7.7,7.7,7.7,7.7,7.7,7.7,7.7,7.7,7.7,7.7,7.7,7.7,7.7,7.7,7.7,7.7,7.7,7.7,7.7,7.7,7.7,7.7,7.7,7.7,7.7,7.7,7.7,7.7,7.7,7.7,7.7,7.6,7.6,7.6,7.6,7.6,7.6,7.6,7.6,7.6,7.6,7.6,7.6,7.6,7.6,7.6,7.6,7.6,7.6,7.6,7.6,7.6,7.6,7.6,7.6,7.6,7.6,7.6,7.6,7.6,7.6,7.6,7.6,7.6,7.6,7.6,7.6,7.6,7.6,7.6,7.6,7.6,7.6,7.6,7.6,7.6,7.6,7.6,7.6,7.6,7.6,7.6,7.6,7.6,7.6,7.6,7.6,7.6,7.6,7.6,7.6,7.6,7.6,7.6,7.6,7.6,7.6,7.6,7.6,7.6,7.6,7.6,7.6,7.6,7.6,7.6,7.6,7.6,7.6,7.6,7.6,7.6,7.6,7.6,7.6,7.6,7.6,7.6,7.6,7.6,7.6,7.6,7.6,7.6,7.6,7.6,7.6,7.6,7.6,7.6,7.6,7.6,7.6,7.6,7.6,7.6,7.6],\"xaxis\":\"x\",\"y\":[28.341469,134.966411,534.858444,57.3,4.359999999999999,377.84590499999996,107.92876199999999,96.89881799999999,292.576195,37.030102,315.54474999999996,330.252182,6.1,342.551365,171.47993,46.836394,290.47506699999997,112.0,53.367844,188.020017,7.563396999999999,10.055859,216.540909,136.80137399999998,57.598247,100.125643,130.742922,322.74014,0.269061,335.451311,13.091999999999999,13.182281,53.089890999999994,132.384315,32.572576999999995,187.705427,6.719863999999999,23.341568,19.501238,422.783777,204.84335,11.990401,210.609762,5.321508,32.0,1.02456,0.163245,0.019181,1.661096,5.017246,12.391760999999999,190.24131,858.3729999999999,678.815482,209.726015,162.805434,448.139099,6.532908,1.2238689999999999,223.80816399999998,11.286112,0.7074809999999999,25.544867,2.375308,5.321508,248.15997099999998,44.017374,83.47151099999999,78.89999999999999,0.275902,8.174999999999999,36.764313,0.288475,159.227644,1.373943,0.6871849999999999,7.098491999999999,6.857095999999999,120.540719,34.400301,33.225499,30.328156,3.6354819999999997,130.096601,138.433435,0.933933,191.796233,75.6,2.832029,46.357676,85.160248,51.973029,45.598982,309.125409,11.487675999999999,28.262573999999997,159.6,6.207725,56.954992,15.0,44.824144,18.599999999999998,13.274999999999999,3.1999999999999997,8.819028,5.72,1.585634,0.028877,5.45,0.898575,4.1861679999999994,85.08017099999999,54.51374,0.34237,20.186659,0.739478,1.4295339999999999,1.6262889999999999,0.007461,0.039567,6.391436,13.657115,128.012934,293.004164,116.900694,1.113541,40.222514,37.634615,415.00487999999996,70.51103499999999,2.1973309999999997,0.7330939999999999,206.852432,1.2232399999999999,5.50904,4.7110959999999995,170.74234099999998,3.897569,64.61694,67.436818,42.4383,101.15744699999999,197.171806,0.280015,1.105564,83.00885199999999,4.13575,23.383986999999998,0.234723,1.2291969999999999,12.1,25.0,0.012562,0.010177,5.013999999999999,5.45,0.977375,3.759854,1.241223,2.006788,3.4927539999999997,0.9016099999999999,226.27706799999999,14.677674,3.107072,10.616104,0.923221,59.100317999999994,167.767189,67.209615,356.461711,2.804874,56.671993,26.947623999999998,117.624028,45.055775999999994,0.857524,1.035953,3.108485,61.002302,154.05834,148.095302,381.011219,1.49821,217.581231,18.354356,74.283625,2.217561,100.49220299999999,23.530891999999998,1.1110609999999999,5.8206489999999995,0.014131,70.099045,380.843261,164.615351,5.383833999999999,289.916256,0.070147,293.506292,0.259127,125.618201,0.34865999999999997,17.498804,2.734044,16.501784999999998,24.611974999999997,0.309811,5.535405,4.043686,0.6002,402.45388199999996,25.01041,5.216888,2.603061,95.86011599999999,52.287414,138.530565,2.181987,0.49577,13.782838,22.244207,4.97134,32.868943,20.045115,48.979327999999995,117.235247,0.177345,29.0,30.933743,1.742348,0.039480999999999995,16.217772999999998,0.102021,4.05,1.526,74.7,44.908,9.6,3.969893,0.449191,4.359999999999999,9.6,198.676459,4.359999999999999,0.021877,0.53954,1.033895,8.178001,151.101803,51.739495,228.433663,341.26824799999997,6.7379999999999995,1.506975,132.422809,5.566534,1.079369,1.010414,2.625803,91.125683,333.1766,92.054159,25.568251,216.42804199999998,183.637894,17.73857,138.797449,169.708112,363.07070899999997,0.10666199999999999,0.01095,4.018695,141.319928,106.954678,0.00806,623.279547,4.445755999999999,27.298285,163.56645899999998,57.366262,227.47107,0.238507,74.10382,5.990075,206.445654,167.44595999999999,66.20818299999999,2.380788,2.086345,61.649910999999996,1.787378,0.169659,305.41391799999997,66.257002,261.44109199999997,1.530386,1.480006,22.455976,4.184036,6.203043999999999,0.7766649999999999,1.64778,5.595428,23.159305,24.475416,13.417292,57.141459,0.515905,75.082668,70.906973,4.496583,63.895607,217.35021899999998,70.405498,218.96761999999998,184.208848,27.545444999999997,178.79999999999998,0.553171,30.857813999999998,3.3339689999999997,4.542825,38.4,52.767889,30.177511,39.199999999999996,260.0,50.0,86.3,53.266999999999996,232.90614499999998,4.0812539999999995,29.133,80.5,0.54194,102.308889,33.395426,104.94530499999999,163.214286,111.722,14.5,8.283999999999999,19.516,12.535,2.237659,17.570324,8.0,4.359999999999999,23.65,0.055,2.0760199999999998,3.27,165.359751,3.313513,2.0,18.095701,0.258168,32.015231,5.202582,5.875006,3.2371179999999997,315.058289,32.381218,0.349555,100.546139,936.6622249999999,8.114627,233.92153399999998,44.671682,100.206256,6.739491999999999,7.0,2.084637,5.009677,2.122065,115.64623499999999,26.236603,0.4108,25.379974999999998,257.73001899999997,7.75713,13.756082,2.280348,124.987023,21.002919,3.6351639999999996,318.412101,13.542874,90.13519099999999,249.358727,53.710018999999996,9.284265,1.05983,1.0000449999999999,121.661683,1.221261,35.552383,32.53485,7.220243,245.85217899999998,26.40064,2.201126,12.2815,1.3249739999999999,36.948322,56.362351999999994,14.743390999999999,18.254701999999998,76.270454,40.084041,9.929134999999999,0.188751,20.605209,57.22989,45.699999999999996,37.823676,5.1,70.6,0.061001,0.19880899999999999,61.699999999999996,12.064472,22.276975,24.379977999999998,13.474587999999999,30.0,93.74,9.45,7.63,10.464,6.54,9.459999999999999,0.296,3.981,2.5375199999999998,10.0,2.4020669999999997,188.37316099999998,169.60728699999999,40.442052,48.023088,1.782795,47.695119999999996,0.435266,532.177324,408.084349,54.117416,108.101214,6.735118,1.330596,4.2315,0.169209,222.527828,15.322921,1.6707729999999998,5.20958,434.038008,0.085433,45.512465999999996,177.00292399999998,70.25986999999999,102.515793,107.100855,0.00646,161.19778499999998,0.547292,258.366855,2.222647,10.09517,93.617009,145.000989,9.030581,9.439923,303.003568,50.927067,35.061555,130.164645,760.507625,0.0036,50.866634999999995,59.891098,23.637265,127.50932599999999,2.921738,0.001305,38.405088,5.128124,0.128985,25.514516999999998,119.519402,81.001787,16.756372,0.18165499999999998,7.002255,54.234061999999994,2.8920109999999997,115.65475099999999,128.078872,8.264529999999999,233.632142,0.025811999999999998,28.965197,32.481825,267.665011,659.325379,12.339633,48.323648,4.040691,5.8874569999999995,9.170214,56.505064999999995,32.416585999999995,22.954967999999997,183.87575999999999,17.266970999999998,5.617391,2.01581,1.999955,57.504068999999994,61.276872,52.096475,26.83,118.5,34.603943,59.735547999999994,5.923044,70.136369,1.436,61.503218,98.467863,45.875170999999995,34.700291,238.63212399999998,21.5,2.5,435.110554,106.25999999999999,31.799999999999997,4.42,0.193817,16.056255,42.765,4.0,44.785053,72.0,102.27272699999999,39.1,2.616,0.336705,324.59173499999997,33.800858999999996,176.040665,220.15910399999999,3.3585179999999997,3.3329999999999997,0.765127,35.893536999999995,128.261724,124.87235,6.7437759999999995,42.340598,2.199675,1.122527,259.766572,0.985912,17.654912,189.422889,1.339152,56.816662,257.760692,274.09270499999997,228.778661,96.962694,146.40830499999998,277.322503,304.360277,132.09295799999998,136.025503,32.391374,295.983305,15.090399999999999,18.593156,0.8813019999999999,35.739802,1.752214,25.442957999999997,0.41254399999999997,17.605861,33.080084,22.494487,1.0543609999999999,0.8715769999999999,200.821936,4.398391999999999,83.04376099999999,53.606916,54.580299999999994,17.108591,176.241941,1.0827149999999999,75.3316,44.585453,290.013036,77.911774,75.28622899999999,111.110575,4.890878,4.0642,15.539266,40.311851999999995,22.245860999999998,108.638745,104.454762,0.141072,21.995262999999998,3.0290809999999997,183.41715,0.151086,45.512588,52.037603,10.824921,76.631907,17.105218999999998,0.368234,22.858926,148.47801099999998,63.54002,4.065116,41.909762,35.811509,56.116183,4.414535,10.019307,21.848931999999998,3.1511299999999998,6.1109789999999995,77.324422,27.281506999999998,48.169908,75.505856,10.725228,141.34017799999998,82.41850099999999,6.153938999999999,5.0804089999999995,156.45237,1.544889,43.98423,22.238695999999997,7.153486999999999,8.551228,10.631333,10.6,11.798615999999999,54.0,78.91296299999999,47.212903999999995,54.8,83.39999999999999,47.0,1.9247329999999998,119.5,29.799999999999997,25.0,7.056013,15.630709999999999,35.9,44.527234,0.026331,28.349999999999998,51.081061999999996,11.403528999999999,4.904999999999999,10.549999999999999,0.536118,76.408097,26.020957,142.502728,0.566356,5.904366,24.801212,13.122641999999999,0.845464,389.81310099999996,107.825862,18.340051,72.313754,608.581744,248.75704399999998,46.889292999999995,109.76758099999999,1.0928,26.86245,37.707719,208.54558899999998,4.105123,41.003371,19.202742999999998,215.28886599999998,171.24300499999998,1.008098,251.513985,35.014192,48.071303,75.605492,3.185812,75.59028599999999,209.02867899999998,255.959475,9.422422,69.951824,17.114881999999998,38.634938,88.51349499999999,20.300217999999997,10.301706,24.63373,39.868642,301.95919699999996,210.614939,23.089926,107.509799,24.149632,56.000369,3.081925,0.6971809999999999,0.548707,6.167816999999999,5.739376,16.290475999999998,0.045288999999999996,51.680613,13.060843,57.938693,45.064915,52.36401,13.622333,317.57554999999996,96.52268699999999,52.990775,51.401758,132.072926,50.668906,15.070285,7.2675849999999995,36.400490999999995,120.62025399999999,10.680275,14.378331,49.099999999999994,3.796699,43.182776,100.01249899999999,1.037847,71.516617,1.4646249999999998,40.903593,7.993039,52.929168,0.453243,1.794187,285.761243,66.666062,92.8236,111.54347899999999,78.756177,49.53028,65.207127,2.15,119.285432,12.465371,22.490039,76.657,43.0,35.0,132.08863499999998,0.959,0.6966899999999999,1.3784349999999999,141.843612,13.780024,30.5],\"yaxis\":\"y\",\"type\":\"scatter\"},{\"hovertemplate\":\"\\u003cb\\u003eOLS trendline\\u003c\\u002fb\\u003e\\u003cbr\\u003eGross Revenue = 38.0264 * IMDB Rating + -230.49\\u003cbr\\u003eR\\u003csup\\u003e2\\u003c\\u002fsup\\u003e=0.009568\\u003cbr\\u003e\\u003cbr\\u003eIMDB Rating=%{x}\\u003cbr\\u003eGross Revenue=%{y} \\u003cb\\u003e(trend)\\u003c\\u002fb\\u003e\\u003cextra\\u003e\\u003c\\u002fextra\\u003e\",\"legendgroup\":\"\",\"marker\":{\"color\":\"#636efa\",\"symbol\":\"circle\"},\"mode\":\"lines\",\"name\":\"\",\"showlegend\":false,\"x\":[7.6,7.6,7.6,7.6,7.6,7.6,7.6,7.6,7.6,7.6,7.6,7.6,7.6,7.6,7.6,7.6,7.6,7.6,7.6,7.6,7.6,7.6,7.6,7.6,7.6,7.6,7.6,7.6,7.6,7.6,7.6,7.6,7.6,7.6,7.6,7.6,7.6,7.6,7.6,7.6,7.6,7.6,7.6,7.6,7.6,7.6,7.6,7.6,7.6,7.6,7.6,7.6,7.6,7.6,7.6,7.6,7.6,7.6,7.6,7.6,7.6,7.6,7.6,7.6,7.6,7.6,7.6,7.6,7.6,7.6,7.6,7.6,7.6,7.6,7.6,7.6,7.6,7.6,7.6,7.6,7.6,7.6,7.6,7.6,7.6,7.6,7.6,7.6,7.6,7.6,7.6,7.6,7.6,7.6,7.6,7.6,7.6,7.6,7.6,7.6,7.6,7.6,7.6,7.6,7.6,7.6,7.7,7.7,7.7,7.7,7.7,7.7,7.7,7.7,7.7,7.7,7.7,7.7,7.7,7.7,7.7,7.7,7.7,7.7,7.7,7.7,7.7,7.7,7.7,7.7,7.7,7.7,7.7,7.7,7.7,7.7,7.7,7.7,7.7,7.7,7.7,7.7,7.7,7.7,7.7,7.7,7.7,7.7,7.7,7.7,7.7,7.7,7.7,7.7,7.7,7.7,7.7,7.7,7.7,7.7,7.7,7.7,7.7,7.7,7.7,7.7,7.7,7.7,7.7,7.7,7.7,7.7,7.7,7.7,7.7,7.7,7.7,7.7,7.7,7.7,7.7,7.7,7.7,7.7,7.7,7.7,7.7,7.7,7.7,7.7,7.7,7.7,7.7,7.7,7.7,7.7,7.7,7.7,7.7,7.7,7.7,7.7,7.7,7.7,7.7,7.7,7.7,7.7,7.7,7.7,7.7,7.7,7.7,7.7,7.7,7.7,7.7,7.7,7.7,7.7,7.7,7.7,7.7,7.7,7.7,7.7,7.7,7.7,7.7,7.7,7.7,7.7,7.7,7.8,7.8,7.8,7.8,7.8,7.8,7.8,7.8,7.8,7.8,7.8,7.8,7.8,7.8,7.8,7.8,7.8,7.8,7.8,7.8,7.8,7.8,7.8,7.8,7.8,7.8,7.8,7.8,7.8,7.8,7.8,7.8,7.8,7.8,7.8,7.8,7.8,7.8,7.8,7.8,7.8,7.8,7.8,7.8,7.8,7.8,7.8,7.8,7.8,7.8,7.8,7.8,7.8,7.8,7.8,7.8,7.8,7.8,7.8,7.8,7.8,7.8,7.8,7.8,7.8,7.8,7.8,7.8,7.8,7.8,7.8,7.8,7.8,7.8,7.8,7.8,7.8,7.8,7.8,7.8,7.8,7.8,7.8,7.8,7.8,7.8,7.8,7.8,7.8,7.8,7.8,7.8,7.8,7.8,7.8,7.8,7.8,7.8,7.8,7.8,7.8,7.8,7.8,7.8,7.8,7.8,7.8,7.8,7.8,7.8,7.8,7.8,7.8,7.9,7.9,7.9,7.9,7.9,7.9,7.9,7.9,7.9,7.9,7.9,7.9,7.9,7.9,7.9,7.9,7.9,7.9,7.9,7.9,7.9,7.9,7.9,7.9,7.9,7.9,7.9,7.9,7.9,7.9,7.9,7.9,7.9,7.9,7.9,7.9,7.9,7.9,7.9,7.9,7.9,7.9,7.9,7.9,7.9,7.9,7.9,7.9,7.9,7.9,7.9,7.9,7.9,7.9,7.9,7.9,7.9,7.9,7.9,7.9,7.9,7.9,7.9,7.9,7.9,7.9,7.9,7.9,7.9,7.9,7.9,7.9,7.9,7.9,7.9,7.9,7.9,7.9,7.9,7.9,7.9,7.9,7.9,7.9,8.0,8.0,8.0,8.0,8.0,8.0,8.0,8.0,8.0,8.0,8.0,8.0,8.0,8.0,8.0,8.0,8.0,8.0,8.0,8.0,8.0,8.0,8.0,8.0,8.0,8.0,8.0,8.0,8.0,8.0,8.0,8.0,8.0,8.0,8.0,8.0,8.0,8.0,8.0,8.0,8.0,8.0,8.0,8.0,8.0,8.0,8.0,8.0,8.0,8.0,8.0,8.0,8.0,8.0,8.0,8.0,8.0,8.0,8.0,8.0,8.0,8.0,8.0,8.0,8.0,8.0,8.0,8.0,8.0,8.0,8.0,8.0,8.0,8.0,8.0,8.0,8.0,8.0,8.0,8.0,8.0,8.0,8.0,8.0,8.0,8.0,8.0,8.0,8.0,8.0,8.0,8.0,8.0,8.0,8.0,8.0,8.0,8.0,8.0,8.0,8.0,8.0,8.0,8.0,8.0,8.1,8.1,8.1,8.1,8.1,8.1,8.1,8.1,8.1,8.1,8.1,8.1,8.1,8.1,8.1,8.1,8.1,8.1,8.1,8.1,8.1,8.1,8.1,8.1,8.1,8.1,8.1,8.1,8.1,8.1,8.1,8.1,8.1,8.1,8.1,8.1,8.1,8.1,8.1,8.1,8.1,8.1,8.1,8.1,8.1,8.1,8.1,8.1,8.1,8.1,8.1,8.1,8.1,8.1,8.1,8.1,8.1,8.1,8.1,8.1,8.1,8.1,8.1,8.1,8.1,8.1,8.1,8.1,8.1,8.1,8.1,8.1,8.1,8.1,8.1,8.1,8.1,8.1,8.1,8.1,8.1,8.1,8.1,8.1,8.1,8.1,8.1,8.1,8.1,8.1,8.1,8.2,8.2,8.2,8.2,8.2,8.2,8.2,8.2,8.2,8.2,8.2,8.2,8.2,8.2,8.2,8.2,8.2,8.2,8.2,8.2,8.2,8.2,8.2,8.2,8.2,8.2,8.2,8.2,8.2,8.2,8.2,8.2,8.2,8.2,8.2,8.2,8.2,8.2,8.2,8.2,8.2,8.2,8.2,8.2,8.2,8.2,8.2,8.2,8.3,8.3,8.3,8.3,8.3,8.3,8.3,8.3,8.3,8.3,8.3,8.3,8.3,8.3,8.3,8.3,8.3,8.3,8.3,8.3,8.3,8.3,8.3,8.3,8.3,8.3,8.3,8.3,8.3,8.3,8.3,8.3,8.3,8.3,8.3,8.3,8.4,8.4,8.4,8.4,8.4,8.4,8.4,8.4,8.4,8.4,8.4,8.4,8.4,8.4,8.4,8.4,8.4,8.4,8.4,8.4,8.4,8.4,8.4,8.4,8.4,8.5,8.5,8.5,8.5,8.5,8.5,8.5,8.5,8.5,8.5,8.5,8.5,8.5,8.5,8.5,8.5,8.5,8.5,8.5,8.6,8.6,8.6,8.6,8.6,8.6,8.6,8.6,8.6,8.6,8.6,8.7,8.7,8.7,8.7,8.7,8.8,8.8,8.8,8.8,8.8,8.9,8.9,8.9,9.0,9.0,9.0,9.2,9.3],\"xaxis\":\"x\",\"y\":[58.51008741586605,58.51008741586605,58.51008741586605,58.51008741586605,58.51008741586605,58.51008741586605,58.51008741586605,58.51008741586605,58.51008741586605,58.51008741586605,58.51008741586605,58.51008741586605,58.51008741586605,58.51008741586605,58.51008741586605,58.51008741586605,58.51008741586605,58.51008741586605,58.51008741586605,58.51008741586605,58.51008741586605,58.51008741586605,58.51008741586605,58.51008741586605,58.51008741586605,58.51008741586605,58.51008741586605,58.51008741586605,58.51008741586605,58.51008741586605,58.51008741586605,58.51008741586605,58.51008741586605,58.51008741586605,58.51008741586605,58.51008741586605,58.51008741586605,58.51008741586605,58.51008741586605,58.51008741586605,58.51008741586605,58.51008741586605,58.51008741586605,58.51008741586605,58.51008741586605,58.51008741586605,58.51008741586605,58.51008741586605,58.51008741586605,58.51008741586605,58.51008741586605,58.51008741586605,58.51008741586605,58.51008741586605,58.51008741586605,58.51008741586605,58.51008741586605,58.51008741586605,58.51008741586605,58.51008741586605,58.51008741586605,58.51008741586605,58.51008741586605,58.51008741586605,58.51008741586605,58.51008741586605,58.51008741586605,58.51008741586605,58.51008741586605,58.51008741586605,58.51008741586605,58.51008741586605,58.51008741586605,58.51008741586605,58.51008741586605,58.51008741586605,58.51008741586605,58.51008741586605,58.51008741586605,58.51008741586605,58.51008741586605,58.51008741586605,58.51008741586605,58.51008741586605,58.51008741586605,58.51008741586605,58.51008741586605,58.51008741586605,58.51008741586605,58.51008741586605,58.51008741586605,58.51008741586605,58.51008741586605,58.51008741586605,58.51008741586605,58.51008741586605,58.51008741586605,58.51008741586605,58.51008741586605,58.51008741586605,58.51008741586605,58.51008741586605,58.51008741586605,58.51008741586605,58.51008741586605,58.51008741586605,62.31272322442874,62.31272322442874,62.31272322442874,62.31272322442874,62.31272322442874,62.31272322442874,62.31272322442874,62.31272322442874,62.31272322442874,62.31272322442874,62.31272322442874,62.31272322442874,62.31272322442874,62.31272322442874,62.31272322442874,62.31272322442874,62.31272322442874,62.31272322442874,62.31272322442874,62.31272322442874,62.31272322442874,62.31272322442874,62.31272322442874,62.31272322442874,62.31272322442874,62.31272322442874,62.31272322442874,62.31272322442874,62.31272322442874,62.31272322442874,62.31272322442874,62.31272322442874,62.31272322442874,62.31272322442874,62.31272322442874,62.31272322442874,62.31272322442874,62.31272322442874,62.31272322442874,62.31272322442874,62.31272322442874,62.31272322442874,62.31272322442874,62.31272322442874,62.31272322442874,62.31272322442874,62.31272322442874,62.31272322442874,62.31272322442874,62.31272322442874,62.31272322442874,62.31272322442874,62.31272322442874,62.31272322442874,62.31272322442874,62.31272322442874,62.31272322442874,62.31272322442874,62.31272322442874,62.31272322442874,62.31272322442874,62.31272322442874,62.31272322442874,62.31272322442874,62.31272322442874,62.31272322442874,62.31272322442874,62.31272322442874,62.31272322442874,62.31272322442874,62.31272322442874,62.31272322442874,62.31272322442874,62.31272322442874,62.31272322442874,62.31272322442874,62.31272322442874,62.31272322442874,62.31272322442874,62.31272322442874,62.31272322442874,62.31272322442874,62.31272322442874,62.31272322442874,62.31272322442874,62.31272322442874,62.31272322442874,62.31272322442874,62.31272322442874,62.31272322442874,62.31272322442874,62.31272322442874,62.31272322442874,62.31272322442874,62.31272322442874,62.31272322442874,62.31272322442874,62.31272322442874,62.31272322442874,62.31272322442874,62.31272322442874,62.31272322442874,62.31272322442874,62.31272322442874,62.31272322442874,62.31272322442874,62.31272322442874,62.31272322442874,62.31272322442874,62.31272322442874,62.31272322442874,62.31272322442874,62.31272322442874,62.31272322442874,62.31272322442874,62.31272322442874,62.31272322442874,62.31272322442874,62.31272322442874,62.31272322442874,62.31272322442874,62.31272322442874,62.31272322442874,62.31272322442874,62.31272322442874,62.31272322442874,62.31272322442874,66.11535903299136,66.11535903299136,66.11535903299136,66.11535903299136,66.11535903299136,66.11535903299136,66.11535903299136,66.11535903299136,66.11535903299136,66.11535903299136,66.11535903299136,66.11535903299136,66.11535903299136,66.11535903299136,66.11535903299136,66.11535903299136,66.11535903299136,66.11535903299136,66.11535903299136,66.11535903299136,66.11535903299136,66.11535903299136,66.11535903299136,66.11535903299136,66.11535903299136,66.11535903299136,66.11535903299136,66.11535903299136,66.11535903299136,66.11535903299136,66.11535903299136,66.11535903299136,66.11535903299136,66.11535903299136,66.11535903299136,66.11535903299136,66.11535903299136,66.11535903299136,66.11535903299136,66.11535903299136,66.11535903299136,66.11535903299136,66.11535903299136,66.11535903299136,66.11535903299136,66.11535903299136,66.11535903299136,66.11535903299136,66.11535903299136,66.11535903299136,66.11535903299136,66.11535903299136,66.11535903299136,66.11535903299136,66.11535903299136,66.11535903299136,66.11535903299136,66.11535903299136,66.11535903299136,66.11535903299136,66.11535903299136,66.11535903299136,66.11535903299136,66.11535903299136,66.11535903299136,66.11535903299136,66.11535903299136,66.11535903299136,66.11535903299136,66.11535903299136,66.11535903299136,66.11535903299136,66.11535903299136,66.11535903299136,66.11535903299136,66.11535903299136,66.11535903299136,66.11535903299136,66.11535903299136,66.11535903299136,66.11535903299136,66.11535903299136,66.11535903299136,66.11535903299136,66.11535903299136,66.11535903299136,66.11535903299136,66.11535903299136,66.11535903299136,66.11535903299136,66.11535903299136,66.11535903299136,66.11535903299136,66.11535903299136,66.11535903299136,66.11535903299136,66.11535903299136,66.11535903299136,66.11535903299136,66.11535903299136,66.11535903299136,66.11535903299136,66.11535903299136,66.11535903299136,66.11535903299136,66.11535903299136,66.11535903299136,66.11535903299136,66.11535903299136,66.11535903299136,66.11535903299136,66.11535903299136,66.11535903299136,69.91799484155405,69.91799484155405,69.91799484155405,69.91799484155405,69.91799484155405,69.91799484155405,69.91799484155405,69.91799484155405,69.91799484155405,69.91799484155405,69.91799484155405,69.91799484155405,69.91799484155405,69.91799484155405,69.91799484155405,69.91799484155405,69.91799484155405,69.91799484155405,69.91799484155405,69.91799484155405,69.91799484155405,69.91799484155405,69.91799484155405,69.91799484155405,69.91799484155405,69.91799484155405,69.91799484155405,69.91799484155405,69.91799484155405,69.91799484155405,69.91799484155405,69.91799484155405,69.91799484155405,69.91799484155405,69.91799484155405,69.91799484155405,69.91799484155405,69.91799484155405,69.91799484155405,69.91799484155405,69.91799484155405,69.91799484155405,69.91799484155405,69.91799484155405,69.91799484155405,69.91799484155405,69.91799484155405,69.91799484155405,69.91799484155405,69.91799484155405,69.91799484155405,69.91799484155405,69.91799484155405,69.91799484155405,69.91799484155405,69.91799484155405,69.91799484155405,69.91799484155405,69.91799484155405,69.91799484155405,69.91799484155405,69.91799484155405,69.91799484155405,69.91799484155405,69.91799484155405,69.91799484155405,69.91799484155405,69.91799484155405,69.91799484155405,69.91799484155405,69.91799484155405,69.91799484155405,69.91799484155405,69.91799484155405,69.91799484155405,69.91799484155405,69.91799484155405,69.91799484155405,69.91799484155405,69.91799484155405,69.91799484155405,69.91799484155405,69.91799484155405,69.91799484155405,73.72063065011668,73.72063065011668,73.72063065011668,73.72063065011668,73.72063065011668,73.72063065011668,73.72063065011668,73.72063065011668,73.72063065011668,73.72063065011668,73.72063065011668,73.72063065011668,73.72063065011668,73.72063065011668,73.72063065011668,73.72063065011668,73.72063065011668,73.72063065011668,73.72063065011668,73.72063065011668,73.72063065011668,73.72063065011668,73.72063065011668,73.72063065011668,73.72063065011668,73.72063065011668,73.72063065011668,73.72063065011668,73.72063065011668,73.72063065011668,73.72063065011668,73.72063065011668,73.72063065011668,73.72063065011668,73.72063065011668,73.72063065011668,73.72063065011668,73.72063065011668,73.72063065011668,73.72063065011668,73.72063065011668,73.72063065011668,73.72063065011668,73.72063065011668,73.72063065011668,73.72063065011668,73.72063065011668,73.72063065011668,73.72063065011668,73.72063065011668,73.72063065011668,73.72063065011668,73.72063065011668,73.72063065011668,73.72063065011668,73.72063065011668,73.72063065011668,73.72063065011668,73.72063065011668,73.72063065011668,73.72063065011668,73.72063065011668,73.72063065011668,73.72063065011668,73.72063065011668,73.72063065011668,73.72063065011668,73.72063065011668,73.72063065011668,73.72063065011668,73.72063065011668,73.72063065011668,73.72063065011668,73.72063065011668,73.72063065011668,73.72063065011668,73.72063065011668,73.72063065011668,73.72063065011668,73.72063065011668,73.72063065011668,73.72063065011668,73.72063065011668,73.72063065011668,73.72063065011668,73.72063065011668,73.72063065011668,73.72063065011668,73.72063065011668,73.72063065011668,73.72063065011668,73.72063065011668,73.72063065011668,73.72063065011668,73.72063065011668,73.72063065011668,73.72063065011668,73.72063065011668,73.72063065011668,73.72063065011668,73.72063065011668,73.72063065011668,73.72063065011668,73.72063065011668,73.72063065011668,77.5232664586793,77.5232664586793,77.5232664586793,77.5232664586793,77.5232664586793,77.5232664586793,77.5232664586793,77.5232664586793,77.5232664586793,77.5232664586793,77.5232664586793,77.5232664586793,77.5232664586793,77.5232664586793,77.5232664586793,77.5232664586793,77.5232664586793,77.5232664586793,77.5232664586793,77.5232664586793,77.5232664586793,77.5232664586793,77.5232664586793,77.5232664586793,77.5232664586793,77.5232664586793,77.5232664586793,77.5232664586793,77.5232664586793,77.5232664586793,77.5232664586793,77.5232664586793,77.5232664586793,77.5232664586793,77.5232664586793,77.5232664586793,77.5232664586793,77.5232664586793,77.5232664586793,77.5232664586793,77.5232664586793,77.5232664586793,77.5232664586793,77.5232664586793,77.5232664586793,77.5232664586793,77.5232664586793,77.5232664586793,77.5232664586793,77.5232664586793,77.5232664586793,77.5232664586793,77.5232664586793,77.5232664586793,77.5232664586793,77.5232664586793,77.5232664586793,77.5232664586793,77.5232664586793,77.5232664586793,77.5232664586793,77.5232664586793,77.5232664586793,77.5232664586793,77.5232664586793,77.5232664586793,77.5232664586793,77.5232664586793,77.5232664586793,77.5232664586793,77.5232664586793,77.5232664586793,77.5232664586793,77.5232664586793,77.5232664586793,77.5232664586793,77.5232664586793,77.5232664586793,77.5232664586793,77.5232664586793,77.5232664586793,77.5232664586793,77.5232664586793,77.5232664586793,77.5232664586793,77.5232664586793,77.5232664586793,77.5232664586793,77.5232664586793,77.5232664586793,77.5232664586793,81.32590226724199,81.32590226724199,81.32590226724199,81.32590226724199,81.32590226724199,81.32590226724199,81.32590226724199,81.32590226724199,81.32590226724199,81.32590226724199,81.32590226724199,81.32590226724199,81.32590226724199,81.32590226724199,81.32590226724199,81.32590226724199,81.32590226724199,81.32590226724199,81.32590226724199,81.32590226724199,81.32590226724199,81.32590226724199,81.32590226724199,81.32590226724199,81.32590226724199,81.32590226724199,81.32590226724199,81.32590226724199,81.32590226724199,81.32590226724199,81.32590226724199,81.32590226724199,81.32590226724199,81.32590226724199,81.32590226724199,81.32590226724199,81.32590226724199,81.32590226724199,81.32590226724199,81.32590226724199,81.32590226724199,81.32590226724199,81.32590226724199,81.32590226724199,81.32590226724199,81.32590226724199,81.32590226724199,81.32590226724199,85.12853807580467,85.12853807580467,85.12853807580467,85.12853807580467,85.12853807580467,85.12853807580467,85.12853807580467,85.12853807580467,85.12853807580467,85.12853807580467,85.12853807580467,85.12853807580467,85.12853807580467,85.12853807580467,85.12853807580467,85.12853807580467,85.12853807580467,85.12853807580467,85.12853807580467,85.12853807580467,85.12853807580467,85.12853807580467,85.12853807580467,85.12853807580467,85.12853807580467,85.12853807580467,85.12853807580467,85.12853807580467,85.12853807580467,85.12853807580467,85.12853807580467,85.12853807580467,85.12853807580467,85.12853807580467,85.12853807580467,85.12853807580467,88.9311738843673,88.9311738843673,88.9311738843673,88.9311738843673,88.9311738843673,88.9311738843673,88.9311738843673,88.9311738843673,88.9311738843673,88.9311738843673,88.9311738843673,88.9311738843673,88.9311738843673,88.9311738843673,88.9311738843673,88.9311738843673,88.9311738843673,88.9311738843673,88.9311738843673,88.9311738843673,88.9311738843673,88.9311738843673,88.9311738843673,88.9311738843673,88.9311738843673,92.73380969292998,92.73380969292998,92.73380969292998,92.73380969292998,92.73380969292998,92.73380969292998,92.73380969292998,92.73380969292998,92.73380969292998,92.73380969292998,92.73380969292998,92.73380969292998,92.73380969292998,92.73380969292998,92.73380969292998,92.73380969292998,92.73380969292998,92.73380969292998,92.73380969292998,96.53644550149261,96.53644550149261,96.53644550149261,96.53644550149261,96.53644550149261,96.53644550149261,96.53644550149261,96.53644550149261,96.53644550149261,96.53644550149261,96.53644550149261,100.33908131005524,100.33908131005524,100.33908131005524,100.33908131005524,100.33908131005524,104.14171711861798,104.14171711861798,104.14171711861798,104.14171711861798,104.14171711861798,107.9443529271806,107.9443529271806,107.9443529271806,111.74698873574323,111.74698873574323,111.74698873574323,119.35226035286854,123.15489616143122],\"yaxis\":\"y\",\"type\":\"scatter\"}],                        {\"template\":{\"data\":{\"histogram2dcontour\":[{\"type\":\"histogram2dcontour\",\"colorbar\":{\"outlinewidth\":0,\"ticks\":\"\"},\"colorscale\":[[0.0,\"#0d0887\"],[0.1111111111111111,\"#46039f\"],[0.2222222222222222,\"#7201a8\"],[0.3333333333333333,\"#9c179e\"],[0.4444444444444444,\"#bd3786\"],[0.5555555555555556,\"#d8576b\"],[0.6666666666666666,\"#ed7953\"],[0.7777777777777778,\"#fb9f3a\"],[0.8888888888888888,\"#fdca26\"],[1.0,\"#f0f921\"]]}],\"choropleth\":[{\"type\":\"choropleth\",\"colorbar\":{\"outlinewidth\":0,\"ticks\":\"\"}}],\"histogram2d\":[{\"type\":\"histogram2d\",\"colorbar\":{\"outlinewidth\":0,\"ticks\":\"\"},\"colorscale\":[[0.0,\"#0d0887\"],[0.1111111111111111,\"#46039f\"],[0.2222222222222222,\"#7201a8\"],[0.3333333333333333,\"#9c179e\"],[0.4444444444444444,\"#bd3786\"],[0.5555555555555556,\"#d8576b\"],[0.6666666666666666,\"#ed7953\"],[0.7777777777777778,\"#fb9f3a\"],[0.8888888888888888,\"#fdca26\"],[1.0,\"#f0f921\"]]}],\"heatmap\":[{\"type\":\"heatmap\",\"colorbar\":{\"outlinewidth\":0,\"ticks\":\"\"},\"colorscale\":[[0.0,\"#0d0887\"],[0.1111111111111111,\"#46039f\"],[0.2222222222222222,\"#7201a8\"],[0.3333333333333333,\"#9c179e\"],[0.4444444444444444,\"#bd3786\"],[0.5555555555555556,\"#d8576b\"],[0.6666666666666666,\"#ed7953\"],[0.7777777777777778,\"#fb9f3a\"],[0.8888888888888888,\"#fdca26\"],[1.0,\"#f0f921\"]]}],\"heatmapgl\":[{\"type\":\"heatmapgl\",\"colorbar\":{\"outlinewidth\":0,\"ticks\":\"\"},\"colorscale\":[[0.0,\"#0d0887\"],[0.1111111111111111,\"#46039f\"],[0.2222222222222222,\"#7201a8\"],[0.3333333333333333,\"#9c179e\"],[0.4444444444444444,\"#bd3786\"],[0.5555555555555556,\"#d8576b\"],[0.6666666666666666,\"#ed7953\"],[0.7777777777777778,\"#fb9f3a\"],[0.8888888888888888,\"#fdca26\"],[1.0,\"#f0f921\"]]}],\"contourcarpet\":[{\"type\":\"contourcarpet\",\"colorbar\":{\"outlinewidth\":0,\"ticks\":\"\"}}],\"contour\":[{\"type\":\"contour\",\"colorbar\":{\"outlinewidth\":0,\"ticks\":\"\"},\"colorscale\":[[0.0,\"#0d0887\"],[0.1111111111111111,\"#46039f\"],[0.2222222222222222,\"#7201a8\"],[0.3333333333333333,\"#9c179e\"],[0.4444444444444444,\"#bd3786\"],[0.5555555555555556,\"#d8576b\"],[0.6666666666666666,\"#ed7953\"],[0.7777777777777778,\"#fb9f3a\"],[0.8888888888888888,\"#fdca26\"],[1.0,\"#f0f921\"]]}],\"surface\":[{\"type\":\"surface\",\"colorbar\":{\"outlinewidth\":0,\"ticks\":\"\"},\"colorscale\":[[0.0,\"#0d0887\"],[0.1111111111111111,\"#46039f\"],[0.2222222222222222,\"#7201a8\"],[0.3333333333333333,\"#9c179e\"],[0.4444444444444444,\"#bd3786\"],[0.5555555555555556,\"#d8576b\"],[0.6666666666666666,\"#ed7953\"],[0.7777777777777778,\"#fb9f3a\"],[0.8888888888888888,\"#fdca26\"],[1.0,\"#f0f921\"]]}],\"mesh3d\":[{\"type\":\"mesh3d\",\"colorbar\":{\"outlinewidth\":0,\"ticks\":\"\"}}],\"scatter\":[{\"fillpattern\":{\"fillmode\":\"overlay\",\"size\":10,\"solidity\":0.2},\"type\":\"scatter\"}],\"parcoords\":[{\"type\":\"parcoords\",\"line\":{\"colorbar\":{\"outlinewidth\":0,\"ticks\":\"\"}}}],\"scatterpolargl\":[{\"type\":\"scatterpolargl\",\"marker\":{\"colorbar\":{\"outlinewidth\":0,\"ticks\":\"\"}}}],\"bar\":[{\"error_x\":{\"color\":\"#2a3f5f\"},\"error_y\":{\"color\":\"#2a3f5f\"},\"marker\":{\"line\":{\"color\":\"#E5ECF6\",\"width\":0.5},\"pattern\":{\"fillmode\":\"overlay\",\"size\":10,\"solidity\":0.2}},\"type\":\"bar\"}],\"scattergeo\":[{\"type\":\"scattergeo\",\"marker\":{\"colorbar\":{\"outlinewidth\":0,\"ticks\":\"\"}}}],\"scatterpolar\":[{\"type\":\"scatterpolar\",\"marker\":{\"colorbar\":{\"outlinewidth\":0,\"ticks\":\"\"}}}],\"histogram\":[{\"marker\":{\"pattern\":{\"fillmode\":\"overlay\",\"size\":10,\"solidity\":0.2}},\"type\":\"histogram\"}],\"scattergl\":[{\"type\":\"scattergl\",\"marker\":{\"colorbar\":{\"outlinewidth\":0,\"ticks\":\"\"}}}],\"scatter3d\":[{\"type\":\"scatter3d\",\"line\":{\"colorbar\":{\"outlinewidth\":0,\"ticks\":\"\"}},\"marker\":{\"colorbar\":{\"outlinewidth\":0,\"ticks\":\"\"}}}],\"scattermapbox\":[{\"type\":\"scattermapbox\",\"marker\":{\"colorbar\":{\"outlinewidth\":0,\"ticks\":\"\"}}}],\"scatterternary\":[{\"type\":\"scatterternary\",\"marker\":{\"colorbar\":{\"outlinewidth\":0,\"ticks\":\"\"}}}],\"scattercarpet\":[{\"type\":\"scattercarpet\",\"marker\":{\"colorbar\":{\"outlinewidth\":0,\"ticks\":\"\"}}}],\"carpet\":[{\"aaxis\":{\"endlinecolor\":\"#2a3f5f\",\"gridcolor\":\"white\",\"linecolor\":\"white\",\"minorgridcolor\":\"white\",\"startlinecolor\":\"#2a3f5f\"},\"baxis\":{\"endlinecolor\":\"#2a3f5f\",\"gridcolor\":\"white\",\"linecolor\":\"white\",\"minorgridcolor\":\"white\",\"startlinecolor\":\"#2a3f5f\"},\"type\":\"carpet\"}],\"table\":[{\"cells\":{\"fill\":{\"color\":\"#EBF0F8\"},\"line\":{\"color\":\"white\"}},\"header\":{\"fill\":{\"color\":\"#C8D4E3\"},\"line\":{\"color\":\"white\"}},\"type\":\"table\"}],\"barpolar\":[{\"marker\":{\"line\":{\"color\":\"#E5ECF6\",\"width\":0.5},\"pattern\":{\"fillmode\":\"overlay\",\"size\":10,\"solidity\":0.2}},\"type\":\"barpolar\"}],\"pie\":[{\"automargin\":true,\"type\":\"pie\"}]},\"layout\":{\"autotypenumbers\":\"strict\",\"colorway\":[\"#636efa\",\"#EF553B\",\"#00cc96\",\"#ab63fa\",\"#FFA15A\",\"#19d3f3\",\"#FF6692\",\"#B6E880\",\"#FF97FF\",\"#FECB52\"],\"font\":{\"color\":\"#2a3f5f\"},\"hovermode\":\"closest\",\"hoverlabel\":{\"align\":\"left\"},\"paper_bgcolor\":\"white\",\"plot_bgcolor\":\"#E5ECF6\",\"polar\":{\"bgcolor\":\"#E5ECF6\",\"angularaxis\":{\"gridcolor\":\"white\",\"linecolor\":\"white\",\"ticks\":\"\"},\"radialaxis\":{\"gridcolor\":\"white\",\"linecolor\":\"white\",\"ticks\":\"\"}},\"ternary\":{\"bgcolor\":\"#E5ECF6\",\"aaxis\":{\"gridcolor\":\"white\",\"linecolor\":\"white\",\"ticks\":\"\"},\"baxis\":{\"gridcolor\":\"white\",\"linecolor\":\"white\",\"ticks\":\"\"},\"caxis\":{\"gridcolor\":\"white\",\"linecolor\":\"white\",\"ticks\":\"\"}},\"coloraxis\":{\"colorbar\":{\"outlinewidth\":0,\"ticks\":\"\"}},\"colorscale\":{\"sequential\":[[0.0,\"#0d0887\"],[0.1111111111111111,\"#46039f\"],[0.2222222222222222,\"#7201a8\"],[0.3333333333333333,\"#9c179e\"],[0.4444444444444444,\"#bd3786\"],[0.5555555555555556,\"#d8576b\"],[0.6666666666666666,\"#ed7953\"],[0.7777777777777778,\"#fb9f3a\"],[0.8888888888888888,\"#fdca26\"],[1.0,\"#f0f921\"]],\"sequentialminus\":[[0.0,\"#0d0887\"],[0.1111111111111111,\"#46039f\"],[0.2222222222222222,\"#7201a8\"],[0.3333333333333333,\"#9c179e\"],[0.4444444444444444,\"#bd3786\"],[0.5555555555555556,\"#d8576b\"],[0.6666666666666666,\"#ed7953\"],[0.7777777777777778,\"#fb9f3a\"],[0.8888888888888888,\"#fdca26\"],[1.0,\"#f0f921\"]],\"diverging\":[[0,\"#8e0152\"],[0.1,\"#c51b7d\"],[0.2,\"#de77ae\"],[0.3,\"#f1b6da\"],[0.4,\"#fde0ef\"],[0.5,\"#f7f7f7\"],[0.6,\"#e6f5d0\"],[0.7,\"#b8e186\"],[0.8,\"#7fbc41\"],[0.9,\"#4d9221\"],[1,\"#276419\"]]},\"xaxis\":{\"gridcolor\":\"white\",\"linecolor\":\"white\",\"ticks\":\"\",\"title\":{\"standoff\":15},\"zerolinecolor\":\"white\",\"automargin\":true,\"zerolinewidth\":2},\"yaxis\":{\"gridcolor\":\"white\",\"linecolor\":\"white\",\"ticks\":\"\",\"title\":{\"standoff\":15},\"zerolinecolor\":\"white\",\"automargin\":true,\"zerolinewidth\":2},\"scene\":{\"xaxis\":{\"backgroundcolor\":\"#E5ECF6\",\"gridcolor\":\"white\",\"linecolor\":\"white\",\"showbackground\":true,\"ticks\":\"\",\"zerolinecolor\":\"white\",\"gridwidth\":2},\"yaxis\":{\"backgroundcolor\":\"#E5ECF6\",\"gridcolor\":\"white\",\"linecolor\":\"white\",\"showbackground\":true,\"ticks\":\"\",\"zerolinecolor\":\"white\",\"gridwidth\":2},\"zaxis\":{\"backgroundcolor\":\"#E5ECF6\",\"gridcolor\":\"white\",\"linecolor\":\"white\",\"showbackground\":true,\"ticks\":\"\",\"zerolinecolor\":\"white\",\"gridwidth\":2}},\"shapedefaults\":{\"line\":{\"color\":\"#2a3f5f\"}},\"annotationdefaults\":{\"arrowcolor\":\"#2a3f5f\",\"arrowhead\":0,\"arrowwidth\":1},\"geo\":{\"bgcolor\":\"white\",\"landcolor\":\"#E5ECF6\",\"subunitcolor\":\"white\",\"showland\":true,\"showlakes\":true,\"lakecolor\":\"white\"},\"title\":{\"x\":0.05},\"mapbox\":{\"style\":\"light\"}}},\"xaxis\":{\"anchor\":\"y\",\"domain\":[0.0,1.0],\"title\":{\"text\":\"IMDB Rating\"}},\"yaxis\":{\"anchor\":\"x\",\"domain\":[0.0,1.0],\"title\":{\"text\":\"Gross Revenue\"}},\"legend\":{\"tracegroupgap\":0},\"margin\":{\"t\":60},\"title\":{\"text\":\"IMDB Rating vs Gross Revenue\"}},                        {\"responsive\": true}                    ).then(function(){\n",
       "                            \n",
       "var gd = document.getElementById('5b9816ef-ffa6-4696-b124-5a8acd218108');\n",
       "var x = new MutationObserver(function (mutations, observer) {{\n",
       "        var display = window.getComputedStyle(gd).display;\n",
       "        if (!display || display === 'none') {{\n",
       "            console.log([gd, 'removed!']);\n",
       "            Plotly.purge(gd);\n",
       "            observer.disconnect();\n",
       "        }}\n",
       "}});\n",
       "\n",
       "// Listen for the removal of the full notebook cells\n",
       "var notebookContainer = gd.closest('#notebook-container');\n",
       "if (notebookContainer) {{\n",
       "    x.observe(notebookContainer, {childList: true});\n",
       "}}\n",
       "\n",
       "// Listen for the clearing of the current output cell\n",
       "var outputEl = gd.closest('.output');\n",
       "if (outputEl) {{\n",
       "    x.observe(outputEl, {childList: true});\n",
       "}}\n",
       "\n",
       "                        })                };                });            </script>        </div>"
      ]
     },
     "metadata": {},
     "output_type": "display_data"
    }
   ],
   "source": [
    "# Scatterplot\n",
    "# IMDB Rating vs Gross Revenue\n",
    "# No distinct trend\n",
    "\n",
    "fig = px.scatter(data, x='IMDB Rating', y='Gross Revenue', trendline='ols')\n",
    "fig.update_layout(title='IMDB Rating vs Gross Revenue')\n",
    "fig.show()"
   ]
  },
  {
   "cell_type": "code",
   "execution_count": 11,
   "id": "b553cd90",
   "metadata": {
    "execution": {
     "iopub.execute_input": "2024-01-05T16:40:24.887942Z",
     "iopub.status.busy": "2024-01-05T16:40:24.887237Z",
     "iopub.status.idle": "2024-01-05T16:40:24.951985Z",
     "shell.execute_reply": "2024-01-05T16:40:24.951033Z"
    },
    "papermill": {
     "duration": 0.080666,
     "end_time": "2024-01-05T16:40:24.954482",
     "exception": false,
     "start_time": "2024-01-05T16:40:24.873816",
     "status": "completed"
    },
    "tags": []
   },
   "outputs": [
    {
     "data": {
      "text/html": [
       "<div>                            <div id=\"5e38390d-23c1-4405-953e-07f67a9d10e1\" class=\"plotly-graph-div\" style=\"height:525px; width:100%;\"></div>            <script type=\"text/javascript\">                require([\"plotly\"], function(Plotly) {                    window.PLOTLYENV=window.PLOTLYENV || {};                                    if (document.getElementById(\"5e38390d-23c1-4405-953e-07f67a9d10e1\")) {                    Plotly.newPlot(                        \"5e38390d-23c1-4405-953e-07f67a9d10e1\",                        [{\"hovertemplate\":\"Runtime=%{x}\\u003cbr\\u003eGross Revenue=%{y}\\u003cextra\\u003e\\u003c\\u002fextra\\u003e\",\"legendgroup\":\"\",\"marker\":{\"color\":\"#636efa\",\"symbol\":\"circle\"},\"mode\":\"markers\",\"name\":\"\",\"orientation\":\"v\",\"showlegend\":false,\"x\":[142,175,152,202,96,201,154,195,148,139,178,142,161,179,136,146,124,133,132,169,130,125,169,189,116,127,118,121,207,122,106,112,130,151,150,155,119,106,110,88,137,155,116,165,109,102,87,87,126,106,161,117,181,149,105,165,164,170,165,98,137,101,113,134,229,115,146,147,117,95,116,112,125,119,139,115,123,131,153,108,122,104,102,122,126,89,81,178,99,116,137,160,170,131,149,114,129,136,149,132,228,125,136,128,103,107,119,117,68,143,138,130,115,132,167,163,146,186,134,135,129,140,138,96,180,153,158,118,103,132,167,122,140,210,156,119,135,107,138,170,178,130,127,142,86,132,162,129,162,91,172,121,105,138,126,95,45,122,136,145,139,160,137,118,122,153,125,99,149,139,95,151,134,123,152,129,93,122,155,153,120,116,130,130,98,148,122,144,132,121,140,80,131,111,100,141,154,92,224,107,169,103,127,117,98,93,98,98,101,99,102,127,133,171,125,128,89,120,145,117,109,95,188,117,94,183,120,107,130,102,91,105,127,205,134,89,212,161,108,111,104,130,129,238,105,110,94,67,163,128,118,144,108,159,137,113,154,144,96,150,114,121,164,126,134,156,103,118,146,108,119,144,165,120,108,115,143,96,117,117,143,115,88,124,112,111,144,137,103,126,144,186,101,143,125,115,178,113,188,140,112,81,105,110,86,135,136,129,83,76,101,180,156,90,189,84,181,120,133,124,98,128,104,107,191,130,93,124,125,106,151,122,138,118,181,113,110,112,106,172,197,99,134,174,141,95,108,122,88,170,129,102,152,130,121,137,132,100,101,101,118,106,130,117,108,116,138,109,132,100,113,127,209,155,97,114,112,109,138,165,127,107,141,117,127,87,97,126,99,138,142,120,112,98,115,119,114,109,122,147,92,155,102,119,94,144,105,103,104,119,107,132,82,93,133,96,123,127,138,114,102,172,145,134,110,113,197,220,85,101,102,114,101,92,102,96,100,124,106,127,103,101,184,137,100,133,147,168,135,94,130,104,126,102,123,134,126,100,131,94,102,130,158,134,119,147,129,161,144,152,116,90,94,86,169,123,100,157,162,141,139,101,121,166,192,94,129,127,90,119,136,123,126,109,80,131,99,113,120,101,143,108,157,108,90,194,106,129,159,127,118,130,101,134,130,121,76,129,98,112,107,121,122,108,128,107,84,103,107,114,154,97,141,105,193,109,115,105,135,113,72,143,124,100,113,170,139,178,100,90,119,107,104,147,116,86,103,123,129,126,105,119,180,130,136,159,115,101,108,96,100,91,132,120,131,100,143,122,120,95,146,101,122,90,141,90,108,120,123,157,110,116,122,100,145,134,122,112,99,108,101,152,102,157,146,100,154,114,121,105,132,115,144,117,120,110,95,116,103,107,81,89,122,93,119,113,139,126,80,127,105,129,242,97,108,92,188,125,85,202,112,100,138,130,116,115,104,107,163,153,130,120,82,97,79,129,113,93,124,88,91,126,93,130,102,109,104,102,105,100,120,110,119,128,129,105,125,102,161,127,111,101,97,97,136,113,134,142,118,107,121,133,140,102,98,130,101,109,94,136,110,118,95,100,117,133,120,88,128,129,104,123,100,127,129,114,140,104,110,153,117,124,162,122,103,124,105,93,133,89,124,129,106,135,113,113,110,106,152,101,124,131,145,146,101,81,170,88,118,100,147,134,136,128,121,135,92,113,102,120,118,99,103,162,95,83,85,93,109,99,109,96,92,95,112,121,138,112,157,144,78,87,118],\"xaxis\":\"x\",\"y\":[28.341469,134.966411,534.858444,57.3,4.359999999999999,377.84590499999996,107.92876199999999,96.89881799999999,292.576195,37.030102,315.54474999999996,330.252182,6.1,342.551365,171.47993,46.836394,290.47506699999997,112.0,53.367844,188.020017,7.563396999999999,10.055859,216.540909,136.80137399999998,57.598247,100.125643,130.742922,322.74014,0.269061,335.451311,13.091999999999999,13.182281,53.089890999999994,132.384315,32.572576999999995,187.705427,6.719863999999999,23.341568,19.501238,422.783777,204.84335,11.990401,210.609762,5.321508,32.0,1.02456,0.163245,0.019181,1.661096,5.017246,12.391760999999999,190.24131,858.3729999999999,678.815482,209.726015,162.805434,448.139099,6.532908,1.2238689999999999,223.80816399999998,11.286112,0.7074809999999999,25.544867,2.375308,5.321508,248.15997099999998,44.017374,83.47151099999999,78.89999999999999,0.275902,8.174999999999999,36.764313,0.288475,159.227644,1.373943,0.6871849999999999,7.098491999999999,6.857095999999999,120.540719,34.400301,33.225499,30.328156,3.6354819999999997,130.096601,138.433435,0.933933,191.796233,75.6,2.832029,46.357676,85.160248,51.973029,45.598982,309.125409,11.487675999999999,28.262573999999997,159.6,6.207725,56.954992,15.0,44.824144,18.599999999999998,13.274999999999999,3.1999999999999997,8.819028,5.72,1.585634,0.028877,5.45,0.898575,4.1861679999999994,85.08017099999999,54.51374,0.34237,20.186659,0.739478,1.4295339999999999,1.6262889999999999,0.007461,0.039567,6.391436,13.657115,128.012934,293.004164,116.900694,1.113541,40.222514,37.634615,415.00487999999996,70.51103499999999,2.1973309999999997,0.7330939999999999,206.852432,1.2232399999999999,5.50904,4.7110959999999995,170.74234099999998,3.897569,64.61694,67.436818,42.4383,101.15744699999999,197.171806,0.280015,1.105564,83.00885199999999,4.13575,23.383986999999998,0.234723,1.2291969999999999,12.1,25.0,0.012562,0.010177,5.013999999999999,5.45,0.977375,3.759854,1.241223,2.006788,3.4927539999999997,0.9016099999999999,226.27706799999999,14.677674,3.107072,10.616104,0.923221,59.100317999999994,167.767189,67.209615,356.461711,2.804874,56.671993,26.947623999999998,117.624028,45.055775999999994,0.857524,1.035953,3.108485,61.002302,154.05834,148.095302,381.011219,1.49821,217.581231,18.354356,74.283625,2.217561,100.49220299999999,23.530891999999998,1.1110609999999999,5.8206489999999995,0.014131,70.099045,380.843261,164.615351,5.383833999999999,289.916256,0.070147,293.506292,0.259127,125.618201,0.34865999999999997,17.498804,2.734044,16.501784999999998,24.611974999999997,0.309811,5.535405,4.043686,0.6002,402.45388199999996,25.01041,5.216888,2.603061,95.86011599999999,52.287414,138.530565,2.181987,0.49577,13.782838,22.244207,4.97134,32.868943,20.045115,48.979327999999995,117.235247,0.177345,29.0,30.933743,1.742348,0.039480999999999995,16.217772999999998,0.102021,4.05,1.526,74.7,44.908,9.6,3.969893,0.449191,4.359999999999999,9.6,198.676459,4.359999999999999,0.021877,0.53954,1.033895,8.178001,151.101803,51.739495,228.433663,341.26824799999997,6.7379999999999995,1.506975,132.422809,5.566534,1.079369,1.010414,2.625803,91.125683,333.1766,92.054159,25.568251,216.42804199999998,183.637894,17.73857,138.797449,169.708112,363.07070899999997,0.10666199999999999,0.01095,4.018695,141.319928,106.954678,0.00806,623.279547,4.445755999999999,27.298285,163.56645899999998,57.366262,227.47107,0.238507,74.10382,5.990075,206.445654,167.44595999999999,66.20818299999999,2.380788,2.086345,61.649910999999996,1.787378,0.169659,305.41391799999997,66.257002,261.44109199999997,1.530386,1.480006,22.455976,4.184036,6.203043999999999,0.7766649999999999,1.64778,5.595428,23.159305,24.475416,13.417292,57.141459,0.515905,75.082668,70.906973,4.496583,63.895607,217.35021899999998,70.405498,218.96761999999998,184.208848,27.545444999999997,178.79999999999998,0.553171,30.857813999999998,3.3339689999999997,4.542825,38.4,52.767889,30.177511,39.199999999999996,260.0,50.0,86.3,53.266999999999996,232.90614499999998,4.0812539999999995,29.133,80.5,0.54194,102.308889,33.395426,104.94530499999999,163.214286,111.722,14.5,8.283999999999999,19.516,12.535,2.237659,17.570324,8.0,4.359999999999999,23.65,0.055,2.0760199999999998,3.27,165.359751,3.313513,2.0,18.095701,0.258168,32.015231,5.202582,5.875006,3.2371179999999997,315.058289,32.381218,0.349555,100.546139,936.6622249999999,8.114627,233.92153399999998,44.671682,100.206256,6.739491999999999,7.0,2.084637,5.009677,2.122065,115.64623499999999,26.236603,0.4108,25.379974999999998,257.73001899999997,7.75713,13.756082,2.280348,124.987023,21.002919,3.6351639999999996,318.412101,13.542874,90.13519099999999,249.358727,53.710018999999996,9.284265,1.05983,1.0000449999999999,121.661683,1.221261,35.552383,32.53485,7.220243,245.85217899999998,26.40064,2.201126,12.2815,1.3249739999999999,36.948322,56.362351999999994,14.743390999999999,18.254701999999998,76.270454,40.084041,9.929134999999999,0.188751,20.605209,57.22989,45.699999999999996,37.823676,5.1,70.6,0.061001,0.19880899999999999,61.699999999999996,12.064472,22.276975,24.379977999999998,13.474587999999999,30.0,93.74,9.45,7.63,10.464,6.54,9.459999999999999,0.296,3.981,2.5375199999999998,10.0,2.4020669999999997,188.37316099999998,169.60728699999999,40.442052,48.023088,1.782795,47.695119999999996,0.435266,532.177324,408.084349,54.117416,108.101214,6.735118,1.330596,4.2315,0.169209,222.527828,15.322921,1.6707729999999998,5.20958,434.038008,0.085433,45.512465999999996,177.00292399999998,70.25986999999999,102.515793,107.100855,0.00646,161.19778499999998,0.547292,258.366855,2.222647,10.09517,93.617009,145.000989,9.030581,9.439923,303.003568,50.927067,35.061555,130.164645,760.507625,0.0036,50.866634999999995,59.891098,23.637265,127.50932599999999,2.921738,0.001305,38.405088,5.128124,0.128985,25.514516999999998,119.519402,81.001787,16.756372,0.18165499999999998,7.002255,54.234061999999994,2.8920109999999997,115.65475099999999,128.078872,8.264529999999999,233.632142,0.025811999999999998,28.965197,32.481825,267.665011,659.325379,12.339633,48.323648,4.040691,5.8874569999999995,9.170214,56.505064999999995,32.416585999999995,22.954967999999997,183.87575999999999,17.266970999999998,5.617391,2.01581,1.999955,57.504068999999994,61.276872,52.096475,26.83,118.5,34.603943,59.735547999999994,5.923044,70.136369,1.436,61.503218,98.467863,45.875170999999995,34.700291,238.63212399999998,21.5,2.5,435.110554,106.25999999999999,31.799999999999997,4.42,0.193817,16.056255,42.765,4.0,44.785053,72.0,102.27272699999999,39.1,2.616,0.336705,324.59173499999997,33.800858999999996,176.040665,220.15910399999999,3.3585179999999997,3.3329999999999997,0.765127,35.893536999999995,128.261724,124.87235,6.7437759999999995,42.340598,2.199675,1.122527,259.766572,0.985912,17.654912,189.422889,1.339152,56.816662,257.760692,274.09270499999997,228.778661,96.962694,146.40830499999998,277.322503,304.360277,132.09295799999998,136.025503,32.391374,295.983305,15.090399999999999,18.593156,0.8813019999999999,35.739802,1.752214,25.442957999999997,0.41254399999999997,17.605861,33.080084,22.494487,1.0543609999999999,0.8715769999999999,200.821936,4.398391999999999,83.04376099999999,53.606916,54.580299999999994,17.108591,176.241941,1.0827149999999999,75.3316,44.585453,290.013036,77.911774,75.28622899999999,111.110575,4.890878,4.0642,15.539266,40.311851999999995,22.245860999999998,108.638745,104.454762,0.141072,21.995262999999998,3.0290809999999997,183.41715,0.151086,45.512588,52.037603,10.824921,76.631907,17.105218999999998,0.368234,22.858926,148.47801099999998,63.54002,4.065116,41.909762,35.811509,56.116183,4.414535,10.019307,21.848931999999998,3.1511299999999998,6.1109789999999995,77.324422,27.281506999999998,48.169908,75.505856,10.725228,141.34017799999998,82.41850099999999,6.153938999999999,5.0804089999999995,156.45237,1.544889,43.98423,22.238695999999997,7.153486999999999,8.551228,10.631333,10.6,11.798615999999999,54.0,78.91296299999999,47.212903999999995,54.8,83.39999999999999,47.0,1.9247329999999998,119.5,29.799999999999997,25.0,7.056013,15.630709999999999,35.9,44.527234,0.026331,28.349999999999998,51.081061999999996,11.403528999999999,4.904999999999999,10.549999999999999,0.536118,76.408097,26.020957,142.502728,0.566356,5.904366,24.801212,13.122641999999999,0.845464,389.81310099999996,107.825862,18.340051,72.313754,608.581744,248.75704399999998,46.889292999999995,109.76758099999999,1.0928,26.86245,37.707719,208.54558899999998,4.105123,41.003371,19.202742999999998,215.28886599999998,171.24300499999998,1.008098,251.513985,35.014192,48.071303,75.605492,3.185812,75.59028599999999,209.02867899999998,255.959475,9.422422,69.951824,17.114881999999998,38.634938,88.51349499999999,20.300217999999997,10.301706,24.63373,39.868642,301.95919699999996,210.614939,23.089926,107.509799,24.149632,56.000369,3.081925,0.6971809999999999,0.548707,6.167816999999999,5.739376,16.290475999999998,0.045288999999999996,51.680613,13.060843,57.938693,45.064915,52.36401,13.622333,317.57554999999996,96.52268699999999,52.990775,51.401758,132.072926,50.668906,15.070285,7.2675849999999995,36.400490999999995,120.62025399999999,10.680275,14.378331,49.099999999999994,3.796699,43.182776,100.01249899999999,1.037847,71.516617,1.4646249999999998,40.903593,7.993039,52.929168,0.453243,1.794187,285.761243,66.666062,92.8236,111.54347899999999,78.756177,49.53028,65.207127,2.15,119.285432,12.465371,22.490039,76.657,43.0,35.0,132.08863499999998,0.959,0.6966899999999999,1.3784349999999999,141.843612,13.780024,30.5],\"yaxis\":\"y\",\"type\":\"scatter\"},{\"hovertemplate\":\"\\u003cb\\u003eOLS trendline\\u003c\\u002fb\\u003e\\u003cbr\\u003eGross Revenue = 0.548886 * Runtime + 3.41968\\u003cbr\\u003eR\\u003csup\\u003e2\\u003c\\u002fsup\\u003e=0.018079\\u003cbr\\u003e\\u003cbr\\u003eRuntime=%{x}\\u003cbr\\u003eGross Revenue=%{y} \\u003cb\\u003e(trend)\\u003c\\u002fb\\u003e\\u003cextra\\u003e\\u003c\\u002fextra\\u003e\",\"legendgroup\":\"\",\"marker\":{\"color\":\"#636efa\",\"symbol\":\"circle\"},\"mode\":\"lines\",\"name\":\"\",\"showlegend\":false,\"x\":[45,67,68,72,76,76,78,79,80,80,80,81,81,81,81,82,82,83,83,84,84,85,85,85,86,86,86,86,87,87,87,87,88,88,88,88,88,88,89,89,89,89,89,90,90,90,90,90,90,90,91,91,91,91,92,92,92,92,92,92,93,93,93,93,93,93,93,93,93,94,94,94,94,94,94,94,94,95,95,95,95,95,95,95,95,95,95,96,96,96,96,96,96,96,96,97,97,97,97,97,97,97,98,98,98,98,98,98,98,98,98,99,99,99,99,99,99,99,99,99,100,100,100,100,100,100,100,100,100,100,100,100,100,100,100,100,100,100,101,101,101,101,101,101,101,101,101,101,101,101,101,101,101,101,101,101,101,102,102,102,102,102,102,102,102,102,102,102,102,102,102,102,102,102,103,103,103,103,103,103,103,103,103,103,103,103,104,104,104,104,104,104,104,104,104,104,105,105,105,105,105,105,105,105,105,105,105,105,105,105,106,106,106,106,106,106,106,106,106,106,107,107,107,107,107,107,107,107,107,107,107,107,107,107,108,108,108,108,108,108,108,108,108,108,108,108,108,108,109,109,109,109,109,109,109,109,109,109,109,110,110,110,110,110,110,110,110,110,110,110,111,111,111,111,112,112,112,112,112,112,112,112,112,112,112,112,113,113,113,113,113,113,113,113,113,113,113,113,113,113,113,114,114,114,114,114,114,114,114,114,115,115,115,115,115,115,115,115,115,115,115,116,116,116,116,116,116,116,116,116,116,116,117,117,117,117,117,117,117,117,117,117,117,117,117,118,118,118,118,118,118,118,118,118,118,118,118,118,119,119,119,119,119,119,119,119,119,119,119,119,119,119,120,120,120,120,120,120,120,120,120,120,120,120,120,120,120,121,121,121,121,121,121,121,121,121,121,121,121,122,122,122,122,122,122,122,122,122,122,122,122,122,122,122,122,122,122,123,123,123,123,123,123,123,123,123,124,124,124,124,124,124,124,124,124,124,124,125,125,125,125,125,125,125,125,125,126,126,126,126,126,126,126,126,126,126,126,126,127,127,127,127,127,127,127,127,127,127,127,127,127,127,127,128,128,128,128,128,128,128,128,129,129,129,129,129,129,129,129,129,129,129,129,129,129,129,129,129,129,130,130,130,130,130,130,130,130,130,130,130,130,130,130,130,130,130,130,130,130,131,131,131,131,131,131,131,132,132,132,132,132,132,132,132,132,132,132,133,133,133,133,133,133,133,133,134,134,134,134,134,134,134,134,134,134,134,134,134,135,135,135,135,135,135,135,136,136,136,136,136,136,136,136,136,136,137,137,137,137,137,137,137,137,138,138,138,138,138,138,138,138,138,138,138,139,139,139,139,139,139,139,140,140,140,140,140,140,141,141,141,141,141,141,142,142,142,142,142,143,143,143,143,143,143,143,144,144,144,144,144,144,144,144,144,144,145,145,145,145,145,146,146,146,146,146,146,146,147,147,147,147,147,147,148,148,149,149,149,149,150,150,151,151,151,152,152,152,152,152,152,153,153,153,153,153,153,154,154,154,154,154,155,155,155,155,155,156,156,156,157,157,157,157,157,158,158,159,159,159,160,160,161,161,161,161,161,162,162,162,162,162,163,163,163,164,164,165,165,165,165,165,166,167,167,168,169,169,169,169,170,170,170,170,170,170,171,172,172,172,174,175,178,178,178,178,178,179,180,180,180,181,181,181,183,184,186,186,188,188,188,189,189,191,192,193,194,195,197,197,201,202,202,205,207,209,210,212,220,224,228,229,238,242],\"xaxis\":\"x\",\"y\":[28.119575623265572,40.195078510902924,40.74396500579553,42.939510985365956,45.13505696493639,45.13505696493639,46.2328299547216,46.78171644961421,47.330602944506815,47.330602944506815,47.330602944506815,47.87948943939942,47.87948943939942,47.87948943939942,47.87948943939942,48.42837593429203,48.42837593429203,48.977262429184634,48.977262429184634,49.52614892407724,49.52614892407724,50.07503541896985,50.07503541896985,50.07503541896985,50.62392191386245,50.62392191386245,50.62392191386245,50.62392191386245,51.17280840875506,51.17280840875506,51.17280840875506,51.17280840875506,51.721694903647666,51.721694903647666,51.721694903647666,51.721694903647666,51.721694903647666,51.721694903647666,52.27058139854027,52.27058139854027,52.27058139854027,52.27058139854027,52.27058139854027,52.81946789343288,52.81946789343288,52.81946789343288,52.81946789343288,52.81946789343288,52.81946789343288,52.81946789343288,53.368354388325486,53.368354388325486,53.368354388325486,53.368354388325486,53.91724088321809,53.91724088321809,53.91724088321809,53.91724088321809,53.91724088321809,53.91724088321809,54.4661273781107,54.4661273781107,54.4661273781107,54.4661273781107,54.4661273781107,54.4661273781107,54.4661273781107,54.4661273781107,54.4661273781107,55.015013873003305,55.015013873003305,55.015013873003305,55.015013873003305,55.015013873003305,55.015013873003305,55.015013873003305,55.015013873003305,55.56390036789591,55.56390036789591,55.56390036789591,55.56390036789591,55.56390036789591,55.56390036789591,55.56390036789591,55.56390036789591,55.56390036789591,55.56390036789591,56.11278686278852,56.11278686278852,56.11278686278852,56.11278686278852,56.11278686278852,56.11278686278852,56.11278686278852,56.11278686278852,56.66167335768113,56.66167335768113,56.66167335768113,56.66167335768113,56.66167335768113,56.66167335768113,56.66167335768113,57.21055985257374,57.21055985257374,57.21055985257374,57.21055985257374,57.21055985257374,57.21055985257374,57.21055985257374,57.21055985257374,57.21055985257374,57.759446347466344,57.759446347466344,57.759446347466344,57.759446347466344,57.759446347466344,57.759446347466344,57.759446347466344,57.759446347466344,57.759446347466344,58.30833284235895,58.30833284235895,58.30833284235895,58.30833284235895,58.30833284235895,58.30833284235895,58.30833284235895,58.30833284235895,58.30833284235895,58.30833284235895,58.30833284235895,58.30833284235895,58.30833284235895,58.30833284235895,58.30833284235895,58.30833284235895,58.30833284235895,58.30833284235895,58.85721933725156,58.85721933725156,58.85721933725156,58.85721933725156,58.85721933725156,58.85721933725156,58.85721933725156,58.85721933725156,58.85721933725156,58.85721933725156,58.85721933725156,58.85721933725156,58.85721933725156,58.85721933725156,58.85721933725156,58.85721933725156,58.85721933725156,58.85721933725156,58.85721933725156,59.40610583214416,59.40610583214416,59.40610583214416,59.40610583214416,59.40610583214416,59.40610583214416,59.40610583214416,59.40610583214416,59.40610583214416,59.40610583214416,59.40610583214416,59.40610583214416,59.40610583214416,59.40610583214416,59.40610583214416,59.40610583214416,59.40610583214416,59.95499232703677,59.95499232703677,59.95499232703677,59.95499232703677,59.95499232703677,59.95499232703677,59.95499232703677,59.95499232703677,59.95499232703677,59.95499232703677,59.95499232703677,59.95499232703677,60.503878821929376,60.503878821929376,60.503878821929376,60.503878821929376,60.503878821929376,60.503878821929376,60.503878821929376,60.503878821929376,60.503878821929376,60.503878821929376,61.05276531682198,61.05276531682198,61.05276531682198,61.05276531682198,61.05276531682198,61.05276531682198,61.05276531682198,61.05276531682198,61.05276531682198,61.05276531682198,61.05276531682198,61.05276531682198,61.05276531682198,61.05276531682198,61.60165181171459,61.60165181171459,61.60165181171459,61.60165181171459,61.60165181171459,61.60165181171459,61.60165181171459,61.60165181171459,61.60165181171459,61.60165181171459,62.150538306607196,62.150538306607196,62.150538306607196,62.150538306607196,62.150538306607196,62.150538306607196,62.150538306607196,62.150538306607196,62.150538306607196,62.150538306607196,62.150538306607196,62.150538306607196,62.150538306607196,62.150538306607196,62.6994248014998,62.6994248014998,62.6994248014998,62.6994248014998,62.6994248014998,62.6994248014998,62.6994248014998,62.6994248014998,62.6994248014998,62.6994248014998,62.6994248014998,62.6994248014998,62.6994248014998,62.6994248014998,63.24831129639241,63.24831129639241,63.24831129639241,63.24831129639241,63.24831129639241,63.24831129639241,63.24831129639241,63.24831129639241,63.24831129639241,63.24831129639241,63.24831129639241,63.797197791285015,63.797197791285015,63.797197791285015,63.797197791285015,63.797197791285015,63.797197791285015,63.797197791285015,63.797197791285015,63.797197791285015,63.797197791285015,63.797197791285015,64.34608428617761,64.34608428617761,64.34608428617761,64.34608428617761,64.89497078107023,64.89497078107023,64.89497078107023,64.89497078107023,64.89497078107023,64.89497078107023,64.89497078107023,64.89497078107023,64.89497078107023,64.89497078107023,64.89497078107023,64.89497078107023,65.44385727596283,65.44385727596283,65.44385727596283,65.44385727596283,65.44385727596283,65.44385727596283,65.44385727596283,65.44385727596283,65.44385727596283,65.44385727596283,65.44385727596283,65.44385727596283,65.44385727596283,65.44385727596283,65.44385727596283,65.99274377085544,65.99274377085544,65.99274377085544,65.99274377085544,65.99274377085544,65.99274377085544,65.99274377085544,65.99274377085544,65.99274377085544,66.54163026574804,66.54163026574804,66.54163026574804,66.54163026574804,66.54163026574804,66.54163026574804,66.54163026574804,66.54163026574804,66.54163026574804,66.54163026574804,66.54163026574804,67.09051676064065,67.09051676064065,67.09051676064065,67.09051676064065,67.09051676064065,67.09051676064065,67.09051676064065,67.09051676064065,67.09051676064065,67.09051676064065,67.09051676064065,67.63940325553325,67.63940325553325,67.63940325553325,67.63940325553325,67.63940325553325,67.63940325553325,67.63940325553325,67.63940325553325,67.63940325553325,67.63940325553325,67.63940325553325,67.63940325553325,67.63940325553325,68.18828975042587,68.18828975042587,68.18828975042587,68.18828975042587,68.18828975042587,68.18828975042587,68.18828975042587,68.18828975042587,68.18828975042587,68.18828975042587,68.18828975042587,68.18828975042587,68.18828975042587,68.73717624531847,68.73717624531847,68.73717624531847,68.73717624531847,68.73717624531847,68.73717624531847,68.73717624531847,68.73717624531847,68.73717624531847,68.73717624531847,68.73717624531847,68.73717624531847,68.73717624531847,68.73717624531847,69.28606274021108,69.28606274021108,69.28606274021108,69.28606274021108,69.28606274021108,69.28606274021108,69.28606274021108,69.28606274021108,69.28606274021108,69.28606274021108,69.28606274021108,69.28606274021108,69.28606274021108,69.28606274021108,69.28606274021108,69.83494923510368,69.83494923510368,69.83494923510368,69.83494923510368,69.83494923510368,69.83494923510368,69.83494923510368,69.83494923510368,69.83494923510368,69.83494923510368,69.83494923510368,69.83494923510368,70.38383572999629,70.38383572999629,70.38383572999629,70.38383572999629,70.38383572999629,70.38383572999629,70.38383572999629,70.38383572999629,70.38383572999629,70.38383572999629,70.38383572999629,70.38383572999629,70.38383572999629,70.38383572999629,70.38383572999629,70.38383572999629,70.38383572999629,70.38383572999629,70.93272222488889,70.93272222488889,70.93272222488889,70.93272222488889,70.93272222488889,70.93272222488889,70.93272222488889,70.93272222488889,70.93272222488889,71.4816087197815,71.4816087197815,71.4816087197815,71.4816087197815,71.4816087197815,71.4816087197815,71.4816087197815,71.4816087197815,71.4816087197815,71.4816087197815,71.4816087197815,72.0304952146741,72.0304952146741,72.0304952146741,72.0304952146741,72.0304952146741,72.0304952146741,72.0304952146741,72.0304952146741,72.0304952146741,72.57938170956672,72.57938170956672,72.57938170956672,72.57938170956672,72.57938170956672,72.57938170956672,72.57938170956672,72.57938170956672,72.57938170956672,72.57938170956672,72.57938170956672,72.57938170956672,73.12826820445932,73.12826820445932,73.12826820445932,73.12826820445932,73.12826820445932,73.12826820445932,73.12826820445932,73.12826820445932,73.12826820445932,73.12826820445932,73.12826820445932,73.12826820445932,73.12826820445932,73.12826820445932,73.12826820445932,73.67715469935193,73.67715469935193,73.67715469935193,73.67715469935193,73.67715469935193,73.67715469935193,73.67715469935193,73.67715469935193,74.22604119424454,74.22604119424454,74.22604119424454,74.22604119424454,74.22604119424454,74.22604119424454,74.22604119424454,74.22604119424454,74.22604119424454,74.22604119424454,74.22604119424454,74.22604119424454,74.22604119424454,74.22604119424454,74.22604119424454,74.22604119424454,74.22604119424454,74.22604119424454,74.77492768913714,74.77492768913714,74.77492768913714,74.77492768913714,74.77492768913714,74.77492768913714,74.77492768913714,74.77492768913714,74.77492768913714,74.77492768913714,74.77492768913714,74.77492768913714,74.77492768913714,74.77492768913714,74.77492768913714,74.77492768913714,74.77492768913714,74.77492768913714,74.77492768913714,74.77492768913714,75.32381418402976,75.32381418402976,75.32381418402976,75.32381418402976,75.32381418402976,75.32381418402976,75.32381418402976,75.87270067892236,75.87270067892236,75.87270067892236,75.87270067892236,75.87270067892236,75.87270067892236,75.87270067892236,75.87270067892236,75.87270067892236,75.87270067892236,75.87270067892236,76.42158717381497,76.42158717381497,76.42158717381497,76.42158717381497,76.42158717381497,76.42158717381497,76.42158717381497,76.42158717381497,76.97047366870757,76.97047366870757,76.97047366870757,76.97047366870757,76.97047366870757,76.97047366870757,76.97047366870757,76.97047366870757,76.97047366870757,76.97047366870757,76.97047366870757,76.97047366870757,76.97047366870757,77.51936016360018,77.51936016360018,77.51936016360018,77.51936016360018,77.51936016360018,77.51936016360018,77.51936016360018,78.06824665849278,78.06824665849278,78.06824665849278,78.06824665849278,78.06824665849278,78.06824665849278,78.06824665849278,78.06824665849278,78.06824665849278,78.06824665849278,78.6171331533854,78.6171331533854,78.6171331533854,78.6171331533854,78.6171331533854,78.6171331533854,78.6171331533854,78.6171331533854,79.166019648278,79.166019648278,79.166019648278,79.166019648278,79.166019648278,79.166019648278,79.166019648278,79.166019648278,79.166019648278,79.166019648278,79.166019648278,79.71490614317061,79.71490614317061,79.71490614317061,79.71490614317061,79.71490614317061,79.71490614317061,79.71490614317061,80.26379263806321,80.26379263806321,80.26379263806321,80.26379263806321,80.26379263806321,80.26379263806321,80.81267913295582,80.81267913295582,80.81267913295582,80.81267913295582,80.81267913295582,80.81267913295582,81.36156562784842,81.36156562784842,81.36156562784842,81.36156562784842,81.36156562784842,81.91045212274103,81.91045212274103,81.91045212274103,81.91045212274103,81.91045212274103,81.91045212274103,81.91045212274103,82.45933861763363,82.45933861763363,82.45933861763363,82.45933861763363,82.45933861763363,82.45933861763363,82.45933861763363,82.45933861763363,82.45933861763363,82.45933861763363,83.00822511252625,83.00822511252625,83.00822511252625,83.00822511252625,83.00822511252625,83.55711160741885,83.55711160741885,83.55711160741885,83.55711160741885,83.55711160741885,83.55711160741885,83.55711160741885,84.10599810231146,84.10599810231146,84.10599810231146,84.10599810231146,84.10599810231146,84.10599810231146,84.65488459720406,84.65488459720406,85.20377109209667,85.20377109209667,85.20377109209667,85.20377109209667,85.75265758698929,85.75265758698929,86.30154408188189,86.30154408188189,86.30154408188189,86.8504305767745,86.8504305767745,86.8504305767745,86.8504305767745,86.8504305767745,86.8504305767745,87.3993170716671,87.3993170716671,87.3993170716671,87.3993170716671,87.3993170716671,87.3993170716671,87.94820356655971,87.94820356655971,87.94820356655971,87.94820356655971,87.94820356655971,88.49709006145231,88.49709006145231,88.49709006145231,88.49709006145231,88.49709006145231,89.04597655634493,89.04597655634493,89.04597655634493,89.59486305123752,89.59486305123752,89.59486305123752,89.59486305123752,89.59486305123752,90.14374954613014,90.14374954613014,90.69263604102274,90.69263604102274,90.69263604102274,91.24152253591535,91.24152253591535,91.79040903080795,91.79040903080795,91.79040903080795,91.79040903080795,91.79040903080795,92.33929552570056,92.33929552570056,92.33929552570056,92.33929552570056,92.33929552570056,92.88818202059316,92.88818202059316,92.88818202059316,93.43706851548578,93.43706851548578,93.98595501037838,93.98595501037838,93.98595501037838,93.98595501037838,93.98595501037838,94.53484150527099,95.08372800016359,95.08372800016359,95.6326144950562,96.1815009899488,96.1815009899488,96.1815009899488,96.1815009899488,96.73038748484142,96.73038748484142,96.73038748484142,96.73038748484142,96.73038748484142,96.73038748484142,97.27927397973403,97.82816047462663,97.82816047462663,97.82816047462663,98.92593346441184,99.47481995930445,101.12147944398227,101.12147944398227,101.12147944398227,101.12147944398227,101.12147944398227,101.67036593887488,102.21925243376748,102.21925243376748,102.21925243376748,102.7681389286601,102.7681389286601,102.7681389286601,103.8659119184453,104.4147984133379,105.51257140312312,105.51257140312312,106.61034439290833,106.61034439290833,106.61034439290833,107.15923088780094,107.15923088780094,108.25700387758616,108.80589037247876,109.35477686737137,109.90366336226398,110.45254985715658,111.5503228469418,111.5503228469418,113.74586882651222,114.29475532140484,114.29475532140484,115.94141480608265,117.03918779586786,118.13696078565307,118.68584728054569,119.7836202703309,124.17471222947175,126.37025820904218,128.56580418861262,129.11469068350522,134.05466913753867,136.2502151171091],\"yaxis\":\"y\",\"type\":\"scatter\"}],                        {\"template\":{\"data\":{\"histogram2dcontour\":[{\"type\":\"histogram2dcontour\",\"colorbar\":{\"outlinewidth\":0,\"ticks\":\"\"},\"colorscale\":[[0.0,\"#0d0887\"],[0.1111111111111111,\"#46039f\"],[0.2222222222222222,\"#7201a8\"],[0.3333333333333333,\"#9c179e\"],[0.4444444444444444,\"#bd3786\"],[0.5555555555555556,\"#d8576b\"],[0.6666666666666666,\"#ed7953\"],[0.7777777777777778,\"#fb9f3a\"],[0.8888888888888888,\"#fdca26\"],[1.0,\"#f0f921\"]]}],\"choropleth\":[{\"type\":\"choropleth\",\"colorbar\":{\"outlinewidth\":0,\"ticks\":\"\"}}],\"histogram2d\":[{\"type\":\"histogram2d\",\"colorbar\":{\"outlinewidth\":0,\"ticks\":\"\"},\"colorscale\":[[0.0,\"#0d0887\"],[0.1111111111111111,\"#46039f\"],[0.2222222222222222,\"#7201a8\"],[0.3333333333333333,\"#9c179e\"],[0.4444444444444444,\"#bd3786\"],[0.5555555555555556,\"#d8576b\"],[0.6666666666666666,\"#ed7953\"],[0.7777777777777778,\"#fb9f3a\"],[0.8888888888888888,\"#fdca26\"],[1.0,\"#f0f921\"]]}],\"heatmap\":[{\"type\":\"heatmap\",\"colorbar\":{\"outlinewidth\":0,\"ticks\":\"\"},\"colorscale\":[[0.0,\"#0d0887\"],[0.1111111111111111,\"#46039f\"],[0.2222222222222222,\"#7201a8\"],[0.3333333333333333,\"#9c179e\"],[0.4444444444444444,\"#bd3786\"],[0.5555555555555556,\"#d8576b\"],[0.6666666666666666,\"#ed7953\"],[0.7777777777777778,\"#fb9f3a\"],[0.8888888888888888,\"#fdca26\"],[1.0,\"#f0f921\"]]}],\"heatmapgl\":[{\"type\":\"heatmapgl\",\"colorbar\":{\"outlinewidth\":0,\"ticks\":\"\"},\"colorscale\":[[0.0,\"#0d0887\"],[0.1111111111111111,\"#46039f\"],[0.2222222222222222,\"#7201a8\"],[0.3333333333333333,\"#9c179e\"],[0.4444444444444444,\"#bd3786\"],[0.5555555555555556,\"#d8576b\"],[0.6666666666666666,\"#ed7953\"],[0.7777777777777778,\"#fb9f3a\"],[0.8888888888888888,\"#fdca26\"],[1.0,\"#f0f921\"]]}],\"contourcarpet\":[{\"type\":\"contourcarpet\",\"colorbar\":{\"outlinewidth\":0,\"ticks\":\"\"}}],\"contour\":[{\"type\":\"contour\",\"colorbar\":{\"outlinewidth\":0,\"ticks\":\"\"},\"colorscale\":[[0.0,\"#0d0887\"],[0.1111111111111111,\"#46039f\"],[0.2222222222222222,\"#7201a8\"],[0.3333333333333333,\"#9c179e\"],[0.4444444444444444,\"#bd3786\"],[0.5555555555555556,\"#d8576b\"],[0.6666666666666666,\"#ed7953\"],[0.7777777777777778,\"#fb9f3a\"],[0.8888888888888888,\"#fdca26\"],[1.0,\"#f0f921\"]]}],\"surface\":[{\"type\":\"surface\",\"colorbar\":{\"outlinewidth\":0,\"ticks\":\"\"},\"colorscale\":[[0.0,\"#0d0887\"],[0.1111111111111111,\"#46039f\"],[0.2222222222222222,\"#7201a8\"],[0.3333333333333333,\"#9c179e\"],[0.4444444444444444,\"#bd3786\"],[0.5555555555555556,\"#d8576b\"],[0.6666666666666666,\"#ed7953\"],[0.7777777777777778,\"#fb9f3a\"],[0.8888888888888888,\"#fdca26\"],[1.0,\"#f0f921\"]]}],\"mesh3d\":[{\"type\":\"mesh3d\",\"colorbar\":{\"outlinewidth\":0,\"ticks\":\"\"}}],\"scatter\":[{\"fillpattern\":{\"fillmode\":\"overlay\",\"size\":10,\"solidity\":0.2},\"type\":\"scatter\"}],\"parcoords\":[{\"type\":\"parcoords\",\"line\":{\"colorbar\":{\"outlinewidth\":0,\"ticks\":\"\"}}}],\"scatterpolargl\":[{\"type\":\"scatterpolargl\",\"marker\":{\"colorbar\":{\"outlinewidth\":0,\"ticks\":\"\"}}}],\"bar\":[{\"error_x\":{\"color\":\"#2a3f5f\"},\"error_y\":{\"color\":\"#2a3f5f\"},\"marker\":{\"line\":{\"color\":\"#E5ECF6\",\"width\":0.5},\"pattern\":{\"fillmode\":\"overlay\",\"size\":10,\"solidity\":0.2}},\"type\":\"bar\"}],\"scattergeo\":[{\"type\":\"scattergeo\",\"marker\":{\"colorbar\":{\"outlinewidth\":0,\"ticks\":\"\"}}}],\"scatterpolar\":[{\"type\":\"scatterpolar\",\"marker\":{\"colorbar\":{\"outlinewidth\":0,\"ticks\":\"\"}}}],\"histogram\":[{\"marker\":{\"pattern\":{\"fillmode\":\"overlay\",\"size\":10,\"solidity\":0.2}},\"type\":\"histogram\"}],\"scattergl\":[{\"type\":\"scattergl\",\"marker\":{\"colorbar\":{\"outlinewidth\":0,\"ticks\":\"\"}}}],\"scatter3d\":[{\"type\":\"scatter3d\",\"line\":{\"colorbar\":{\"outlinewidth\":0,\"ticks\":\"\"}},\"marker\":{\"colorbar\":{\"outlinewidth\":0,\"ticks\":\"\"}}}],\"scattermapbox\":[{\"type\":\"scattermapbox\",\"marker\":{\"colorbar\":{\"outlinewidth\":0,\"ticks\":\"\"}}}],\"scatterternary\":[{\"type\":\"scatterternary\",\"marker\":{\"colorbar\":{\"outlinewidth\":0,\"ticks\":\"\"}}}],\"scattercarpet\":[{\"type\":\"scattercarpet\",\"marker\":{\"colorbar\":{\"outlinewidth\":0,\"ticks\":\"\"}}}],\"carpet\":[{\"aaxis\":{\"endlinecolor\":\"#2a3f5f\",\"gridcolor\":\"white\",\"linecolor\":\"white\",\"minorgridcolor\":\"white\",\"startlinecolor\":\"#2a3f5f\"},\"baxis\":{\"endlinecolor\":\"#2a3f5f\",\"gridcolor\":\"white\",\"linecolor\":\"white\",\"minorgridcolor\":\"white\",\"startlinecolor\":\"#2a3f5f\"},\"type\":\"carpet\"}],\"table\":[{\"cells\":{\"fill\":{\"color\":\"#EBF0F8\"},\"line\":{\"color\":\"white\"}},\"header\":{\"fill\":{\"color\":\"#C8D4E3\"},\"line\":{\"color\":\"white\"}},\"type\":\"table\"}],\"barpolar\":[{\"marker\":{\"line\":{\"color\":\"#E5ECF6\",\"width\":0.5},\"pattern\":{\"fillmode\":\"overlay\",\"size\":10,\"solidity\":0.2}},\"type\":\"barpolar\"}],\"pie\":[{\"automargin\":true,\"type\":\"pie\"}]},\"layout\":{\"autotypenumbers\":\"strict\",\"colorway\":[\"#636efa\",\"#EF553B\",\"#00cc96\",\"#ab63fa\",\"#FFA15A\",\"#19d3f3\",\"#FF6692\",\"#B6E880\",\"#FF97FF\",\"#FECB52\"],\"font\":{\"color\":\"#2a3f5f\"},\"hovermode\":\"closest\",\"hoverlabel\":{\"align\":\"left\"},\"paper_bgcolor\":\"white\",\"plot_bgcolor\":\"#E5ECF6\",\"polar\":{\"bgcolor\":\"#E5ECF6\",\"angularaxis\":{\"gridcolor\":\"white\",\"linecolor\":\"white\",\"ticks\":\"\"},\"radialaxis\":{\"gridcolor\":\"white\",\"linecolor\":\"white\",\"ticks\":\"\"}},\"ternary\":{\"bgcolor\":\"#E5ECF6\",\"aaxis\":{\"gridcolor\":\"white\",\"linecolor\":\"white\",\"ticks\":\"\"},\"baxis\":{\"gridcolor\":\"white\",\"linecolor\":\"white\",\"ticks\":\"\"},\"caxis\":{\"gridcolor\":\"white\",\"linecolor\":\"white\",\"ticks\":\"\"}},\"coloraxis\":{\"colorbar\":{\"outlinewidth\":0,\"ticks\":\"\"}},\"colorscale\":{\"sequential\":[[0.0,\"#0d0887\"],[0.1111111111111111,\"#46039f\"],[0.2222222222222222,\"#7201a8\"],[0.3333333333333333,\"#9c179e\"],[0.4444444444444444,\"#bd3786\"],[0.5555555555555556,\"#d8576b\"],[0.6666666666666666,\"#ed7953\"],[0.7777777777777778,\"#fb9f3a\"],[0.8888888888888888,\"#fdca26\"],[1.0,\"#f0f921\"]],\"sequentialminus\":[[0.0,\"#0d0887\"],[0.1111111111111111,\"#46039f\"],[0.2222222222222222,\"#7201a8\"],[0.3333333333333333,\"#9c179e\"],[0.4444444444444444,\"#bd3786\"],[0.5555555555555556,\"#d8576b\"],[0.6666666666666666,\"#ed7953\"],[0.7777777777777778,\"#fb9f3a\"],[0.8888888888888888,\"#fdca26\"],[1.0,\"#f0f921\"]],\"diverging\":[[0,\"#8e0152\"],[0.1,\"#c51b7d\"],[0.2,\"#de77ae\"],[0.3,\"#f1b6da\"],[0.4,\"#fde0ef\"],[0.5,\"#f7f7f7\"],[0.6,\"#e6f5d0\"],[0.7,\"#b8e186\"],[0.8,\"#7fbc41\"],[0.9,\"#4d9221\"],[1,\"#276419\"]]},\"xaxis\":{\"gridcolor\":\"white\",\"linecolor\":\"white\",\"ticks\":\"\",\"title\":{\"standoff\":15},\"zerolinecolor\":\"white\",\"automargin\":true,\"zerolinewidth\":2},\"yaxis\":{\"gridcolor\":\"white\",\"linecolor\":\"white\",\"ticks\":\"\",\"title\":{\"standoff\":15},\"zerolinecolor\":\"white\",\"automargin\":true,\"zerolinewidth\":2},\"scene\":{\"xaxis\":{\"backgroundcolor\":\"#E5ECF6\",\"gridcolor\":\"white\",\"linecolor\":\"white\",\"showbackground\":true,\"ticks\":\"\",\"zerolinecolor\":\"white\",\"gridwidth\":2},\"yaxis\":{\"backgroundcolor\":\"#E5ECF6\",\"gridcolor\":\"white\",\"linecolor\":\"white\",\"showbackground\":true,\"ticks\":\"\",\"zerolinecolor\":\"white\",\"gridwidth\":2},\"zaxis\":{\"backgroundcolor\":\"#E5ECF6\",\"gridcolor\":\"white\",\"linecolor\":\"white\",\"showbackground\":true,\"ticks\":\"\",\"zerolinecolor\":\"white\",\"gridwidth\":2}},\"shapedefaults\":{\"line\":{\"color\":\"#2a3f5f\"}},\"annotationdefaults\":{\"arrowcolor\":\"#2a3f5f\",\"arrowhead\":0,\"arrowwidth\":1},\"geo\":{\"bgcolor\":\"white\",\"landcolor\":\"#E5ECF6\",\"subunitcolor\":\"white\",\"showland\":true,\"showlakes\":true,\"lakecolor\":\"white\"},\"title\":{\"x\":0.05},\"mapbox\":{\"style\":\"light\"}}},\"xaxis\":{\"anchor\":\"y\",\"domain\":[0.0,1.0],\"title\":{\"text\":\"Runtime\"}},\"yaxis\":{\"anchor\":\"x\",\"domain\":[0.0,1.0],\"title\":{\"text\":\"Gross Revenue\"}},\"legend\":{\"tracegroupgap\":0},\"margin\":{\"t\":60},\"title\":{\"text\":\"Runtime vs Gross Revenue\"}},                        {\"responsive\": true}                    ).then(function(){\n",
       "                            \n",
       "var gd = document.getElementById('5e38390d-23c1-4405-953e-07f67a9d10e1');\n",
       "var x = new MutationObserver(function (mutations, observer) {{\n",
       "        var display = window.getComputedStyle(gd).display;\n",
       "        if (!display || display === 'none') {{\n",
       "            console.log([gd, 'removed!']);\n",
       "            Plotly.purge(gd);\n",
       "            observer.disconnect();\n",
       "        }}\n",
       "}});\n",
       "\n",
       "// Listen for the removal of the full notebook cells\n",
       "var notebookContainer = gd.closest('#notebook-container');\n",
       "if (notebookContainer) {{\n",
       "    x.observe(notebookContainer, {childList: true});\n",
       "}}\n",
       "\n",
       "// Listen for the clearing of the current output cell\n",
       "var outputEl = gd.closest('.output');\n",
       "if (outputEl) {{\n",
       "    x.observe(outputEl, {childList: true});\n",
       "}}\n",
       "\n",
       "                        })                };                });            </script>        </div>"
      ]
     },
     "metadata": {},
     "output_type": "display_data"
    }
   ],
   "source": [
    "# Scatterplot\n",
    "# Runtime vs Gross Revenue\n",
    "# No distinct trend\n",
    "\n",
    "fig = px.scatter(data, x='Runtime', y='Gross Revenue', trendline='ols')\n",
    "fig.update_layout(title='Runtime vs Gross Revenue')\n",
    "fig.show()"
   ]
  },
  {
   "cell_type": "code",
   "execution_count": 12,
   "id": "ab328ee3",
   "metadata": {
    "execution": {
     "iopub.execute_input": "2024-01-05T16:40:24.975204Z",
     "iopub.status.busy": "2024-01-05T16:40:24.974865Z",
     "iopub.status.idle": "2024-01-05T16:40:25.032445Z",
     "shell.execute_reply": "2024-01-05T16:40:25.031066Z"
    },
    "papermill": {
     "duration": 0.069623,
     "end_time": "2024-01-05T16:40:25.034902",
     "exception": false,
     "start_time": "2024-01-05T16:40:24.965279",
     "status": "completed"
    },
    "tags": []
   },
   "outputs": [
    {
     "data": {
      "text/html": [
       "<div>                            <div id=\"4347a5a2-9fd2-4407-9e42-fd380c287a7b\" class=\"plotly-graph-div\" style=\"height:525px; width:100%;\"></div>            <script type=\"text/javascript\">                require([\"plotly\"], function(Plotly) {                    window.PLOTLYENV=window.PLOTLYENV || {};                                    if (document.getElementById(\"4347a5a2-9fd2-4407-9e42-fd380c287a7b\")) {                    Plotly.newPlot(                        \"4347a5a2-9fd2-4407-9e42-fd380c287a7b\",                        [{\"hovertemplate\":\"Votes=%{x}\\u003cbr\\u003eGross Revenue=%{y}\\u003cextra\\u003e\\u003c\\u002fextra\\u003e\",\"legendgroup\":\"\",\"marker\":{\"color\":\"#636efa\",\"symbol\":\"circle\"},\"mode\":\"markers\",\"name\":\"\",\"orientation\":\"v\",\"showlegend\":false,\"x\":[2343110,1620367,2303232,1129952,689845,1642758,1826188,1213505,2067042,1854740,1661481,1809221,688390,1485555,1676426,1020727,1159315,918088,552778,1512360,699256,651376,1235804,1147794,623629,1445096,1270197,1231473,315744,939252,717585,760360,1190259,1189773,729603,1341460,1034705,991208,1035236,942045,995506,230763,1058081,302844,604211,522093,217881,167839,62635,194838,156479,375110,809955,834477,384171,1357682,1516346,344445,168895,999790,358685,515451,1125712,343171,311365,884112,898237,606398,787806,450474,108862,444074,203150,425844,71875,281623,220002,150023,1267869,911664,703810,782001,766870,1069738,861606,65341,887429,959181,918562,675146,652719,369007,740911,950470,231855,724636,241513,757904,603517,232772,268085,164363,299198,364368,218957,143525,403351,143434,113314,33893,43444,377884,432610,31142,75348,70367,60701,61137,42341,33237,193217,435950,1129894,935507,1187498,74129,517359,618623,757032,1032749,111937,33354,1308302,83005,331308,333915,848920,535216,531967,577113,466276,375935,692366,26402,291180,793164,112505,321860,116945,500875,224730,243943,158335,120539,114304,101053,41985,63134,39216,113649,50700,50445,647884,371538,177059,163061,51739,707630,859695,435928,616228,75721,640533,432811,291289,420316,51679,57806,67927,601149,882316,720450,764493,48582,666773,572921,856916,43137,635975,334320,37820,236311,139558,1000639,949565,832846,223741,815505,105036,911573,59020,939631,50862,732620,124383,634716,617444,150345,272291,90729,63122,867615,156842,25088,29662,425457,363401,381222,91188,150924,371271,76081,57784,693827,367250,311361,518546,40081,294230,42285,30206,45434,161984,46947,50058,26697,219466,203463,142107,31568,158731,123942,107017,290074,94016,47676,46865,81156,72245,505918,213970,760094,434143,102972,38746,141923,31886,51069,81770,114316,685201,1043455,461823,540772,450349,705589,462252,639603,428521,902669,45803,28749,98575,798882,699673,98097,1260806,88656,441614,448930,499439,604694,50610,738512,103284,641645,582239,683900,77520,77554,176151,63460,117857,1015122,415218,657047,137963,740086,289742,102285,82002,58192,78341,36419,172083,86838,37564,578443,129231,300208,577991,28825,263918,373845,142110,417178,240266,89429,473064,164918,393899,64722,31163,799795,217664,65625,251823,543388,235652,143359,121627,362393,44748,42456,39491,27067,201888,165167,253676,205425,69903,198219,75067,66621,56305,98431,45062,99182,42725,57259,85559,371379,57318,454203,62754,246644,212651,53818,139114,111483,189400,85109,587775,466134,297918,594181,860823,141457,659763,230624,600004,93090,324720,93560,335152,205609,638202,289415,47720,335533,577336,390334,154011,107290,580708,199696,57430,939644,512249,419420,552493,173999,104691,44618,42897,508771,49721,465113,252586,322031,527512,239473,31590,206918,89836,201000,447368,68076,54670,281842,67176,187567,128812,132947,183182,131436,28223,111512,103031,37183,38737,93741,77401,29003,67804,68689,124339,63560,97222,123341,92306,78796,33549,53667,47175,30580,78991,51240,555092,200876,61594,118035,40416,246963,35539,556608,663649,517059,143250,50778,45002,50523,39710,410983,303032,33618,73690,203177,108399,318789,305611,362942,423010,421244,62848,179264,52758,601408,68715,208994,340584,564791,190748,110656,757377,251370,571571,392449,1118998,216421,291018,439856,463466,589160,49050,45717,258924,51980,31658,283310,234207,520284,96703,42673,50622,129022,60684,198089,253228,89058,524235,227143,159886,82855,613941,1046089,280845,345096,62428,164937,215034,126871,78963,66065,267684,128171,43690,55362,42376,126082,184740,125276,122779,481918,88214,371387,148359,321382,47834,244430,78321,357026,51585,355413,56235,88511,372490,133351,65659,98611,25229,37445,48334,178731,101124,86525,158029,52141,27007,73251,478586,205444,492851,291257,47444,157498,32798,404182,590440,344312,123210,580291,138741,32628,736182,39501,112298,380195,56720,388089,323982,769145,463188,624982,645512,717559,630614,661871,572581,472242,479120,125317,103330,71379,239203,81446,474141,32001,175355,466080,299524,28003,61609,405922,72643,323103,288797,419483,127250,434841,358432,138356,415074,548619,329592,197761,400049,25938,137981,40403,142863,178565,364254,246840,90842,126770,31957,516372,29210,286742,192112,241575,390247,169229,64082,312542,275755,434125,37424,279318,51350,189716,35991,32236,33600,211450,42275,224169,50298,85819,150409,95826,235388,66941,113240,125822,182009,40396,94326,115677,102031,181285,47102,59635,39881,36096,112704,226541,47099,214882,233106,39889,125993,109941,96561,98740,110075,143292,31572,40274,31222,174119,171739,87719,34677,71481,88662,140840,551309,29765,95181,99643,66346,35785,569974,439406,58371,287659,250057,272784,371291,247666,49397,204175,94212,411599,190531,228132,80939,334312,311822,38491,500851,315426,524081,369529,138959,520041,583158,293266,41544,286770,227760,255036,339757,250590,82781,72863,354728,474827,732876,206294,500799,294140,379020,83158,65939,67360,70925,67370,224545,62659,198677,169708,451479,376853,266842,115827,658185,337651,240714,243729,508417,91557,490062,188317,172710,256906,259753,187927,186734,131101,102598,364420,90442,73172,64390,171640,165465,107325,27071,80487,488817,359809,195663,237696,152871,124773,236894,87745,27650,166588,93878,32802,121731,73662,184966,26337,30144,45338,166409,40351,43374],\"xaxis\":\"x\",\"y\":[28.341469,134.966411,534.858444,57.3,4.359999999999999,377.84590499999996,107.92876199999999,96.89881799999999,292.576195,37.030102,315.54474999999996,330.252182,6.1,342.551365,171.47993,46.836394,290.47506699999997,112.0,53.367844,188.020017,7.563396999999999,10.055859,216.540909,136.80137399999998,57.598247,100.125643,130.742922,322.74014,0.269061,335.451311,13.091999999999999,13.182281,53.089890999999994,132.384315,32.572576999999995,187.705427,6.719863999999999,23.341568,19.501238,422.783777,204.84335,11.990401,210.609762,5.321508,32.0,1.02456,0.163245,0.019181,1.661096,5.017246,12.391760999999999,190.24131,858.3729999999999,678.815482,209.726015,162.805434,448.139099,6.532908,1.2238689999999999,223.80816399999998,11.286112,0.7074809999999999,25.544867,2.375308,5.321508,248.15997099999998,44.017374,83.47151099999999,78.89999999999999,0.275902,8.174999999999999,36.764313,0.288475,159.227644,1.373943,0.6871849999999999,7.098491999999999,6.857095999999999,120.540719,34.400301,33.225499,30.328156,3.6354819999999997,130.096601,138.433435,0.933933,191.796233,75.6,2.832029,46.357676,85.160248,51.973029,45.598982,309.125409,11.487675999999999,28.262573999999997,159.6,6.207725,56.954992,15.0,44.824144,18.599999999999998,13.274999999999999,3.1999999999999997,8.819028,5.72,1.585634,0.028877,5.45,0.898575,4.1861679999999994,85.08017099999999,54.51374,0.34237,20.186659,0.739478,1.4295339999999999,1.6262889999999999,0.007461,0.039567,6.391436,13.657115,128.012934,293.004164,116.900694,1.113541,40.222514,37.634615,415.00487999999996,70.51103499999999,2.1973309999999997,0.7330939999999999,206.852432,1.2232399999999999,5.50904,4.7110959999999995,170.74234099999998,3.897569,64.61694,67.436818,42.4383,101.15744699999999,197.171806,0.280015,1.105564,83.00885199999999,4.13575,23.383986999999998,0.234723,1.2291969999999999,12.1,25.0,0.012562,0.010177,5.013999999999999,5.45,0.977375,3.759854,1.241223,2.006788,3.4927539999999997,0.9016099999999999,226.27706799999999,14.677674,3.107072,10.616104,0.923221,59.100317999999994,167.767189,67.209615,356.461711,2.804874,56.671993,26.947623999999998,117.624028,45.055775999999994,0.857524,1.035953,3.108485,61.002302,154.05834,148.095302,381.011219,1.49821,217.581231,18.354356,74.283625,2.217561,100.49220299999999,23.530891999999998,1.1110609999999999,5.8206489999999995,0.014131,70.099045,380.843261,164.615351,5.383833999999999,289.916256,0.070147,293.506292,0.259127,125.618201,0.34865999999999997,17.498804,2.734044,16.501784999999998,24.611974999999997,0.309811,5.535405,4.043686,0.6002,402.45388199999996,25.01041,5.216888,2.603061,95.86011599999999,52.287414,138.530565,2.181987,0.49577,13.782838,22.244207,4.97134,32.868943,20.045115,48.979327999999995,117.235247,0.177345,29.0,30.933743,1.742348,0.039480999999999995,16.217772999999998,0.102021,4.05,1.526,74.7,44.908,9.6,3.969893,0.449191,4.359999999999999,9.6,198.676459,4.359999999999999,0.021877,0.53954,1.033895,8.178001,151.101803,51.739495,228.433663,341.26824799999997,6.7379999999999995,1.506975,132.422809,5.566534,1.079369,1.010414,2.625803,91.125683,333.1766,92.054159,25.568251,216.42804199999998,183.637894,17.73857,138.797449,169.708112,363.07070899999997,0.10666199999999999,0.01095,4.018695,141.319928,106.954678,0.00806,623.279547,4.445755999999999,27.298285,163.56645899999998,57.366262,227.47107,0.238507,74.10382,5.990075,206.445654,167.44595999999999,66.20818299999999,2.380788,2.086345,61.649910999999996,1.787378,0.169659,305.41391799999997,66.257002,261.44109199999997,1.530386,1.480006,22.455976,4.184036,6.203043999999999,0.7766649999999999,1.64778,5.595428,23.159305,24.475416,13.417292,57.141459,0.515905,75.082668,70.906973,4.496583,63.895607,217.35021899999998,70.405498,218.96761999999998,184.208848,27.545444999999997,178.79999999999998,0.553171,30.857813999999998,3.3339689999999997,4.542825,38.4,52.767889,30.177511,39.199999999999996,260.0,50.0,86.3,53.266999999999996,232.90614499999998,4.0812539999999995,29.133,80.5,0.54194,102.308889,33.395426,104.94530499999999,163.214286,111.722,14.5,8.283999999999999,19.516,12.535,2.237659,17.570324,8.0,4.359999999999999,23.65,0.055,2.0760199999999998,3.27,165.359751,3.313513,2.0,18.095701,0.258168,32.015231,5.202582,5.875006,3.2371179999999997,315.058289,32.381218,0.349555,100.546139,936.6622249999999,8.114627,233.92153399999998,44.671682,100.206256,6.739491999999999,7.0,2.084637,5.009677,2.122065,115.64623499999999,26.236603,0.4108,25.379974999999998,257.73001899999997,7.75713,13.756082,2.280348,124.987023,21.002919,3.6351639999999996,318.412101,13.542874,90.13519099999999,249.358727,53.710018999999996,9.284265,1.05983,1.0000449999999999,121.661683,1.221261,35.552383,32.53485,7.220243,245.85217899999998,26.40064,2.201126,12.2815,1.3249739999999999,36.948322,56.362351999999994,14.743390999999999,18.254701999999998,76.270454,40.084041,9.929134999999999,0.188751,20.605209,57.22989,45.699999999999996,37.823676,5.1,70.6,0.061001,0.19880899999999999,61.699999999999996,12.064472,22.276975,24.379977999999998,13.474587999999999,30.0,93.74,9.45,7.63,10.464,6.54,9.459999999999999,0.296,3.981,2.5375199999999998,10.0,2.4020669999999997,188.37316099999998,169.60728699999999,40.442052,48.023088,1.782795,47.695119999999996,0.435266,532.177324,408.084349,54.117416,108.101214,6.735118,1.330596,4.2315,0.169209,222.527828,15.322921,1.6707729999999998,5.20958,434.038008,0.085433,45.512465999999996,177.00292399999998,70.25986999999999,102.515793,107.100855,0.00646,161.19778499999998,0.547292,258.366855,2.222647,10.09517,93.617009,145.000989,9.030581,9.439923,303.003568,50.927067,35.061555,130.164645,760.507625,0.0036,50.866634999999995,59.891098,23.637265,127.50932599999999,2.921738,0.001305,38.405088,5.128124,0.128985,25.514516999999998,119.519402,81.001787,16.756372,0.18165499999999998,7.002255,54.234061999999994,2.8920109999999997,115.65475099999999,128.078872,8.264529999999999,233.632142,0.025811999999999998,28.965197,32.481825,267.665011,659.325379,12.339633,48.323648,4.040691,5.8874569999999995,9.170214,56.505064999999995,32.416585999999995,22.954967999999997,183.87575999999999,17.266970999999998,5.617391,2.01581,1.999955,57.504068999999994,61.276872,52.096475,26.83,118.5,34.603943,59.735547999999994,5.923044,70.136369,1.436,61.503218,98.467863,45.875170999999995,34.700291,238.63212399999998,21.5,2.5,435.110554,106.25999999999999,31.799999999999997,4.42,0.193817,16.056255,42.765,4.0,44.785053,72.0,102.27272699999999,39.1,2.616,0.336705,324.59173499999997,33.800858999999996,176.040665,220.15910399999999,3.3585179999999997,3.3329999999999997,0.765127,35.893536999999995,128.261724,124.87235,6.7437759999999995,42.340598,2.199675,1.122527,259.766572,0.985912,17.654912,189.422889,1.339152,56.816662,257.760692,274.09270499999997,228.778661,96.962694,146.40830499999998,277.322503,304.360277,132.09295799999998,136.025503,32.391374,295.983305,15.090399999999999,18.593156,0.8813019999999999,35.739802,1.752214,25.442957999999997,0.41254399999999997,17.605861,33.080084,22.494487,1.0543609999999999,0.8715769999999999,200.821936,4.398391999999999,83.04376099999999,53.606916,54.580299999999994,17.108591,176.241941,1.0827149999999999,75.3316,44.585453,290.013036,77.911774,75.28622899999999,111.110575,4.890878,4.0642,15.539266,40.311851999999995,22.245860999999998,108.638745,104.454762,0.141072,21.995262999999998,3.0290809999999997,183.41715,0.151086,45.512588,52.037603,10.824921,76.631907,17.105218999999998,0.368234,22.858926,148.47801099999998,63.54002,4.065116,41.909762,35.811509,56.116183,4.414535,10.019307,21.848931999999998,3.1511299999999998,6.1109789999999995,77.324422,27.281506999999998,48.169908,75.505856,10.725228,141.34017799999998,82.41850099999999,6.153938999999999,5.0804089999999995,156.45237,1.544889,43.98423,22.238695999999997,7.153486999999999,8.551228,10.631333,10.6,11.798615999999999,54.0,78.91296299999999,47.212903999999995,54.8,83.39999999999999,47.0,1.9247329999999998,119.5,29.799999999999997,25.0,7.056013,15.630709999999999,35.9,44.527234,0.026331,28.349999999999998,51.081061999999996,11.403528999999999,4.904999999999999,10.549999999999999,0.536118,76.408097,26.020957,142.502728,0.566356,5.904366,24.801212,13.122641999999999,0.845464,389.81310099999996,107.825862,18.340051,72.313754,608.581744,248.75704399999998,46.889292999999995,109.76758099999999,1.0928,26.86245,37.707719,208.54558899999998,4.105123,41.003371,19.202742999999998,215.28886599999998,171.24300499999998,1.008098,251.513985,35.014192,48.071303,75.605492,3.185812,75.59028599999999,209.02867899999998,255.959475,9.422422,69.951824,17.114881999999998,38.634938,88.51349499999999,20.300217999999997,10.301706,24.63373,39.868642,301.95919699999996,210.614939,23.089926,107.509799,24.149632,56.000369,3.081925,0.6971809999999999,0.548707,6.167816999999999,5.739376,16.290475999999998,0.045288999999999996,51.680613,13.060843,57.938693,45.064915,52.36401,13.622333,317.57554999999996,96.52268699999999,52.990775,51.401758,132.072926,50.668906,15.070285,7.2675849999999995,36.400490999999995,120.62025399999999,10.680275,14.378331,49.099999999999994,3.796699,43.182776,100.01249899999999,1.037847,71.516617,1.4646249999999998,40.903593,7.993039,52.929168,0.453243,1.794187,285.761243,66.666062,92.8236,111.54347899999999,78.756177,49.53028,65.207127,2.15,119.285432,12.465371,22.490039,76.657,43.0,35.0,132.08863499999998,0.959,0.6966899999999999,1.3784349999999999,141.843612,13.780024,30.5],\"yaxis\":\"y\",\"type\":\"scatter\"},{\"hovertemplate\":\"\\u003cb\\u003eOLS trendline\\u003c\\u002fb\\u003e\\u003cbr\\u003eGross Revenue = 0.000181275 * Votes + 11.8471\\u003cbr\\u003eR\\u003csup\\u003e2\\u003c\\u002fsup\\u003e=0.318475\\u003cbr\\u003e\\u003cbr\\u003eVotes=%{x}\\u003cbr\\u003eGross Revenue=%{y} \\u003cb\\u003e(trend)\\u003c\\u002fb\\u003e\\u003cextra\\u003e\\u003c\\u002fextra\\u003e\",\"legendgroup\":\"\",\"marker\":{\"color\":\"#636efa\",\"symbol\":\"circle\"},\"mode\":\"lines\",\"name\":\"\",\"showlegend\":false,\"x\":[25088,25229,25938,26337,26402,26697,27007,27067,27071,27650,28003,28223,28749,28825,29003,29210,29662,29765,30144,30206,30580,31142,31163,31222,31568,31572,31590,31658,31886,31957,32001,32236,32628,32798,32802,33237,33354,33549,33600,33618,33893,34677,35539,35785,35991,36096,36419,37183,37424,37445,37564,37820,38491,38737,38746,39216,39491,39501,39710,39881,39889,40081,40274,40351,40396,40403,40416,41544,41985,42275,42285,42341,42376,42456,42673,42725,42897,43137,43374,43444,43690,44618,44748,45002,45062,45338,45434,45717,45803,46865,46947,47099,47102,47175,47444,47676,47720,47834,48334,48582,49050,49397,49721,50058,50298,50445,50523,50610,50622,50700,50778,50862,51069,51240,51350,51585,51679,51739,51980,52141,52758,53667,53818,54670,55362,56235,56305,56720,57259,57318,57430,57784,57806,58192,58371,59020,59635,60684,60701,61137,61594,61609,62428,62635,62659,62754,62848,63122,63134,63460,63560,64082,64390,64722,65341,65625,65659,65939,66065,66346,66621,66941,67176,67360,67370,67804,67927,68076,68689,68715,69903,70367,70925,71379,71481,71875,72245,72643,72863,73172,73251,73662,73690,74129,75067,75348,75721,76081,77401,77520,77554,78321,78341,78796,78963,78991,80487,80939,81156,81446,81770,82002,82781,82855,83005,83158,85109,85559,85819,86525,86838,87719,87745,88214,88511,88656,88662,89058,89429,89836,90442,90729,90842,91188,91557,92306,93090,93560,93741,93878,94016,94212,94326,95181,95826,96561,96703,97222,98097,98431,98575,98611,98740,99182,99643,101053,101124,102031,102285,102598,102972,103031,103284,103330,104691,105036,107017,107290,107325,108399,108862,109941,110075,110656,111483,111512,111937,112298,112505,112704,113240,113314,113649,114304,114316,115677,115827,116945,117857,118035,120539,121627,121731,122779,123210,123341,123942,124339,124383,124773,125276,125317,125822,125993,126082,126770,126871,127250,128171,128812,129022,129231,131101,131436,132947,133351,137963,137981,138356,138741,138959,139114,139558,140840,141457,141923,142107,142110,142863,143250,143292,143359,143434,143525,148359,150023,150345,150409,150924,152871,154011,156479,156842,157498,158029,158335,158731,159886,161984,163061,164363,164918,164937,165167,165465,166409,166588,167839,168895,169229,169708,171640,171739,172083,172710,173999,174119,175355,176151,177059,178565,178731,179264,181285,182009,183182,184740,184966,186734,187567,187927,188317,189400,189716,190531,190748,192112,193217,194838,195663,197761,198089,198219,198677,199696,200876,201000,201888,203150,203177,203463,204175,205425,205444,205609,206294,206918,208994,211450,212651,213970,214882,215034,216421,217664,217881,218957,219466,220002,223741,224169,224545,224730,226541,227143,227760,228132,230624,230763,231855,232772,233106,234207,235388,235652,236311,236894,237696,239203,239473,240266,240714,241513,241575,243729,243943,244430,246644,246840,246963,247666,250057,250590,251370,251823,252586,253228,253676,255036,256906,258924,259753,263918,266842,267684,268085,272291,272784,275755,279318,280845,281623,281842,283310,286742,286770,287659,288797,289415,289742,290074,291018,291180,291257,291289,293266,294140,294230,297918,299198,299524,300208,302844,303032,305611,311361,311365,311822,312542,315426,315744,318789,321382,321860,322031,323103,323982,324720,329592,331308,333915,334312,334320,335152,335533,337651,339757,340584,343171,344312,344445,345096,354728,355413,357026,358432,358685,359809,362393,362942,363401,364254,364368,364420,367250,369007,369529,371271,371291,371379,371387,371538,372490,373845,375110,375935,376853,377884,379020,380195,381222,384171,388089,390247,390334,392449,393899,400049,403351,404182,405922,410983,411599,415074,415218,417178,419420,419483,420316,421244,423010,425457,425844,428521,432610,432811,434125,434143,434841,435928,435950,439406,439856,441614,444074,447368,448930,450349,450474,451479,454203,461823,462252,463188,463466,465113,466080,466134,466276,472242,473064,474141,474827,478586,479120,481918,488817,490062,492851,499439,500799,500851,500875,505918,508417,508771,512249,515451,516372,517059,517359,518546,520041,520284,522093,524081,524235,527512,531967,535216,540772,543388,548619,551309,552493,552778,555092,556608,564791,569974,571571,572581,572921,577113,577336,577991,578443,580291,580708,582239,583158,587775,589160,590440,594181,600004,601149,601408,603517,604211,604694,606398,613941,616228,617444,618623,623629,624982,630614,634716,635975,638202,639603,640533,641645,645512,647884,651376,652719,657047,658185,659763,661871,663649,666773,675146,683900,685201,688390,689845,692366,693827,699256,699673,703810,705589,707630,717559,717585,720450,724636,729603,732620,732876,736182,738512,740086,740911,757032,757377,757904,760094,760360,764493,766870,769145,782001,787806,793164,798882,799795,809955,815505,832846,834477,848920,856916,859695,860823,861606,867615,882316,884112,887429,898237,902669,911573,911664,918088,918562,935507,939252,939631,939644,942045,949565,950470,959181,991208,995506,999790,1000639,1015122,1020727,1032749,1034705,1035236,1043455,1046089,1058081,1069738,1118998,1125712,1129894,1129952,1147794,1159315,1187498,1189773,1190259,1213505,1231473,1235804,1260806,1267869,1270197,1308302,1341460,1357682,1445096,1485555,1512360,1516346,1620367,1642758,1661481,1676426,1809221,1826188,1854740,2067042,2303232,2343110],\"xaxis\":\"x\",\"y\":[16.39492077380211,16.42048050855024,16.54900428114901,16.621332892244787,16.63311574868896,16.68659178947406,16.74278695097705,16.753663433848594,16.754388532706695,16.85934659241711,16.923336566644707,16.963217003840374,17.058567503680926,17.072344381984884,17.10461128117047,17.1421351470773,17.224071318042945,17.242742613639102,17.311445730444362,17.322684762744963,17.390481505977597,17.492357895541076,17.496164664546114,17.506859872703135,17.56958092392905,17.57030602278715,17.573568967648615,17.585895648236367,17.627226283148243,17.64009678787957,17.648072875318704,17.69067243323226,17.761732121326357,17.792548822795737,17.79327392165384,17.872128422472546,17.893337564072063,17.928686133404582,17.937931143845397,17.94119408870686,17.991044635201447,18.133164011389646,18.28942281531085,18.334016395084188,18.371358986276498,18.3903928313017,18.448944564093523,18.587438445991204,18.631125652191912,18.634932421196954,18.65650411222552,18.702910439144116,18.824545772590902,18.86913935236424,18.87077082479497,18.95596994062208,19.005820487116665,19.00763323426192,19.045519649597807,19.07651762578171,19.077967823497918,19.112772568686864,19.147758588590335,19.16171674160882,19.169874103762478,19.17114302676416,19.17349959805299,19.377977476038055,19.457919625143916,19.510489292356386,19.51230203950164,19.522453423515085,19.528798038523487,19.54330001568555,19.58263662873764,19.592062913892978,19.62324216479141,19.666748096277594,19.709710203620197,19.722399433637,19.76699301341034,19.935215948490246,19.958781661378595,20.00482543886814,20.015701921739684,20.065733742948794,20.08313611554327,20.13443685975406,20.150026485203277,20.342540232029634,20.357404758620746,20.38495851522866,20.385502339372238,20.39873539353262,20.44749829174005,20.489554025510028,20.49753011294916,20.5181954304051,20.60883278766798,20.65378891687037,20.738625483268425,20.801527809208864,20.86026081671521,20.921350395510395,20.964856326996575,20.991503710031864,21.00564313776487,21.021414037928615,21.023589334502923,21.037728762235933,21.051868189968943,21.067095265989106,21.104619131895937,21.135617108079842,21.15555732667768,21.19815688459123,21.215196707756654,21.2260731906282,21.269760396828907,21.298945625867557,21.41079212472995,21.57557084023387,21.60294332212726,21.75738937890321,21.882831481355034,22.041084307136025,22.05377353715283,22.129002543681022,22.226709614810407,22.237404822967427,22.257707590994315,22.32187883993643,22.325866883655998,22.395838923462943,22.428287097363054,22.545934387090277,22.65741833652362,22.84757551206114,22.85065718220808,22.929692957741313,23.012535502279587,23.015254622997475,23.163718614194075,23.201242480100905,23.205593073249524,23.22281417112947,23.23985399429489,23.28952326607495,23.29169856264926,23.35079411958466,23.368921591037235,23.463546992019683,23.51937960409362,23.579562809316172,23.69177185760762,23.743253876532933,23.74941721682681,23.80017413689402,23.82301475092427,23.87395294570601,23.92380349220059,23.981811400848837,24.02441095876239,24.057765506235132,24.059578253380387,24.13825147948457,24.16054826937124,24.18755820183558,24.298679601839872,24.30339274441754,24.518747105274144,24.6028585728141,24.704009863519474,24.78630858391417,24.8047986047958,24.87622084231895,24.94329248669348,25.015439823074736,25.0553202602704,25.111334147058862,25.125654849506397,25.200158757176485,25.20523444918321,25.284814048860014,25.454849731085183,25.50578792586692,25.573403394385032,25.638662291614303,25.87794491478831,25.899516605816878,25.90567994611075,26.04471765215201,26.048343146442527,26.13082314155175,26.16109601887755,26.16617171088427,26.437358683814814,26.519294854780455,26.558631467832548,26.611201135045018,26.669934142551366,26.71198987632134,26.853202878936912,26.866617207811817,26.89380841499068,26.921543446313123,27.275210414352884,27.35678403588948,27.403915461666177,27.531895410121365,27.58863439576793,27.748337419265127,27.753050561842795,27.83806840295538,27.891906993169528,27.918191826775764,27.91927947506292,27.991064262015122,28.05831718110418,28.132095989916163,28.241948466918775,28.293974309987668,28.31445835272908,28.377179403954994,28.444069773615002,28.5798445347948,28.721963910982993,28.8071630268101,28.839973750139265,28.864808386029296,28.88982429663385,28.9253541406809,28.946019458136835,29.101009339056365,29.21793152992548,29.351168445101916,29.376909454564572,29.470991031403443,29.629606406613487,29.69015216126509,29.7162557201568,29.72278160987973,29.74616604805355,29.826289471873938,29.909857115270313,30.16545446275164,30.17832496748297,30.342741133557833,30.388784911047377,30.445523896693942,30.513320639926576,30.524015848083597,30.569878350858616,30.5782169877268,30.824931874196363,30.88747165070775,31.246576860183286,31.29606485724882,31.30240947225722,31.49709851565789,31.581028708483316,31.776624125456614,31.800914937203064,31.906235546342533,32.05614973525534,32.06140670197659,32.138448455650035,32.203888627593834,32.24141249350067,32.2774861616913,32.3746494086771,32.38806373755201,32.44879076691814,32.567525704932514,32.56970100150683,32.81641588797639,32.84360709515525,33.046272225995054,33.211594765642545,33.24386166482813,33.69777355000064,33.89500043940467,33.91385300971535,34.103828910538354,34.18195831249895,34.205705300101826,34.31465140353181,34.38661746519854,34.39459355263767,34.46529069130272,34.55647187270918,34.56390413600474,34.65544786684025,34.686445843024146,34.702579292616946,34.82729629621066,34.84560504237777,34.91430815918304,35.08126217126126,35.19745926327227,35.23552695332268,35.27341336865857,35.612397084821744,35.67312411418787,35.9470302078363,36.02026519250471,36.85630417589752,36.85956712075899,36.92754513870615,36.99733590379857,37.03685379156518,37.06495137231667,37.145437345566116,37.37783152958814,37.48967802845054,37.57415204541954,37.60750659289228,37.608050417035855,37.744550277073756,37.81470359159523,37.82231712960531,37.834462535478536,37.84805813906797,37.864554138089815,38.740836108107345,39.042477233078216,39.10084769115551,39.11244927288516,39.20580575086593,39.55874762004758,39.76540079460696,40.21278679005654,40.27858951142939,40.39750572415829,40.49376259757147,40.54923266021635,40.621017447168555,40.83038974244581,41.21070409352086,41.40593696106511,41.641956639377646,41.742564105939444,41.74600832551543,41.78770150985636,41.84172137478504,42.012844705297354,42.04529287919747,42.2720675470692,42.4634936456084,42.52403940026001,42.61086998851785,42.96109273698162,42.979038933719664,43.04139743551653,43.15505668152419,43.38871978854789,43.41047275429098,43.634528301444824,43.77882297420733,43.94342041499672,44.216420135072525,44.246511737683804,44.34313116052603,44.70948735858259,44.840730251899245,45.05336549203797,45.3357914972691,45.37675958275193,45.69725327803347,45.84825511523343,45.91351401246271,45.98421115112775,46.180531666959155,46.23781447674929,46.38555336908779,46.42488998213989,46.67214869275303,46.87245725230399,47.16630356455025,47.31585520403401,47.69616955510905,47.75562766147351,47.77919337436185,47.862217193614654,48.04693612771641,48.260840290856805,48.28331835545799,48.44429030195687,48.67305899168839,48.677953408980585,48.729797977334954,48.8588655740773,49.0854589672345,49.088903186810484,49.11881351470724,49.24298669415738,49.35610211602146,49.732428423376945,50.17763912225222,50.39535005439765,50.63445140285714,50.79977394250463,50.827327699112544,51.07875572815978,51.304080198315305,51.34341681136739,51.538468404197104,51.63073723389073,51.72790048087653,52.40568663848836,52.48327221630538,52.55143150896707,52.58496733115433,52.9132558391605,53.022383217305006,53.1342297161674,53.201663909970975,53.653400498569184,53.678597683888256,53.87654967215039,54.04277858537051,54.10332434002213,54.30290780071499,54.51699323856991,54.564849763204705,54.68430980007719,54.78999295864571,54.935375279695364,55.20855627448569,55.25750044740765,55.40125129602657,55.48246236813412,55.6273008650402,55.638539897340806,56.02900563242929,56.06779842133781,56.15607920731185,56.55742142527188,56.592951269318945,56.61524805920561,56.74268418351721,57.17611202594831,57.27273144879055,57.414125726120645,57.49624317180081,57.634555778983966,57.75093414570951,57.83214521781706,58.078678829572084,58.41766254573527,58.783474919648256,58.9337516579901,59.68876084398991,60.218808109263236,60.37144141889392,60.44413257941876,61.206574028714115,61.29594246297532,61.83450963983135,62.48039144768664,62.75719793676748,62.898229664668534,62.937928827149676,63.204040108073485,63.8261749283259,63.831250620332625,63.992403841546036,64.19869446667634,64.31072224025327,64.3699990719032,64.43018227712574,64.60130560763807,64.63067211139123,64.64463026440973,64.65043105527455,65.00881116589198,65.1672452663875,65.18355999069482,65.85210113786583,66.0841327724588,66.1432283293942,66.26722023412982,66.74506038161972,66.77914002795058,67.24664751671251,68.28897712523565,68.28970222409374,68.37254476863203,68.50306256309057,69.02585883978287,69.08350419900206,69.63548570473301,70.1055310394983,70.19218035304162,70.22317832922553,70.41750482319715,70.5768452972653,70.71062603658531,71.59379644575482,71.90486385588102,72.37744703664968,72.44941309831641,72.45086329603262,72.60168385851806,72.67074952475237,73.05468937011794,73.4364539189092,73.586368107822,74.05532579430015,74.26216024357404,74.28626978060596,74.40427961976224,76.15031767007439,76.27449084952453,76.56688696405458,76.8217592126778,76.86762171545283,77.07137449457977,77.53978835691434,77.63930817518899,77.72251326915632,77.8771406006468,77.89780591810273,77.90723220325806,78.42023964536598,78.73873931878774,78.83336471977019,79.14914527247406,79.15277076676458,79.16872294164284,79.17017313935905,79.19754562125244,79.37011914948097,79.61574638766338,79.84505890153847,79.99461054102223,80.16102072895687,80.34791495963293,80.5538430353342,80.76684082490196,80.95300995671992,81.4875890898564,82.19782342136834,82.58901425531494,82.60478515547867,82.98818117670066,83.25102951276301,84.36586900709645,84.96443811446052,85.11507740223142,85.43049540550625,86.34792673572113,86.459591959869,87.08952159284603,87.11562515173775,87.47092359220824,87.87734150217499,87.88876180919011,88.03976364639007,88.20798658146998,88.52811772732248,88.97169695376702,89.04185026828848,89.52712267907395,90.2683549867698,90.30479120438947,90.54298617927633,90.54624912413779,90.67277887487677,90.86982448956627,90.87381253328584,91.50029794668687,91.58187156822346,91.90055251635975,92.34648831409314,92.943607223741,93.22675832783024,93.4839871477423,93.506646487058,93.68882757515641,94.18261989752457,95.56393322221089,95.64170007474245,95.81137320753855,95.86176757817671,96.16032703300064,96.33561968194705,96.34540851653145,96.37114952599411,97.45263447285481,97.60164228819498,97.79687515573923,97.9212296099039,98.60264126180624,98.699441959363,99.20664861060608,100.45726286611931,100.68294988570389,101.18852506451624,102.38276288381196,102.629296495567,102.63872278072233,102.64307337387096,103.55724175922437,104.01024727082425,104.07441851976637,104.70489197688697,105.28533361279847,105.45228762487669,105.5768233537559,105.63120576811362,105.8463788542557,106.11738455247172,106.16143430810148,106.48936026667857,106.84973439915579,106.87765070519276,107.47168794469368,108.27926679790596,108.86822834540015,109.8753906593053,110.34960531250469,111.29785334418895,111.78548232626325,112.00011158826175,112.0517748819016,112.4712445713142,112.74605703853527,114.22942802749958,115.16897487288661,115.45847059198424,115.64155805365526,115.70319145659403,116.46309505988602,116.50351932122527,116.62225425923964,116.70419043020529,117.03918610264888,117.11477765860613,117.39230924654507,117.55890070919425,118.39584606615969,118.64691154577787,118.87894318037085,119.55709188741173,120.61265455009524,120.82021409822724,120.86716424928942,121.24947262222425,121.37527727410512,121.46283296122107,121.77172507477296,123.13908024644078,123.55365551856121,123.77408557142454,123.98780845985041,124.89526968076638,125.14053436951973,126.16147356172883,126.90506244071351,127.13328730630144,127.5369860955503,127.7909519706009,127.95953745510985,128.1611149376625,128.8621042587336,129.29208788158874,129.92509918471268,130.16855112632078,130.95310809078828,131.1593987159186,131.44545021544025,131.82757731366056,132.14988375608738,132.71618596426586,134.23399914899005,135.82087799994858,136.0567164035466,136.63480146816926,136.89855617780424,137.3555497331237,137.62039209104583,138.60453251620618,138.68012407216344,139.4300575661565,139.75254528329785,140.12252697564492,141.9224036161712,141.92711675874887,142.4464688158652,143.20528477087004,144.10567627791949,144.65258209164372,144.69898841856232,145.2982826247845,145.7206527096295,146.00597911029305,146.1555307497768,149.0778604226466,149.14040019915802,149.2359319737131,149.6329235985245,149.68114267258835,150.43035106772334,150.86124106415107,151.27364103969717,153.6041087696404,154.65640848746244,155.62767840789147,156.66420722554977,156.82971103991179,158.67146213949354,159.67753680511152,162.82102162970276,163.11668068909427,165.73483139098985,167.18430400833785,167.68806644000495,167.89254431799,168.03448241946367,169.12376217904898,171.7886817572922,172.1142511445805,172.71553937266245,174.67475648725687,175.47816602203505,177.09223608017246,177.10873207919428,178.27324084530778,178.359165059993,181.43086509763205,182.10973890353102,182.1784420203363,182.18079859162512,182.61603918120147,183.97922503443522,184.143278651081,185.72236268931493,191.52804797143153,192.30716669446323,193.0837475714916,193.23764980412398,195.8630514946006,196.8790962695175,199.0583808875462,199.4129542291586,199.50921110257178,200.99910798125902,201.47658557931987,203.6504319559128,205.76355130313962,214.6931437406787,215.91022217400464,216.66831303015138,216.67882696359388,219.91313042016253,222.00159640621385,227.1104616856934,227.5228616612395,227.61096117249903,231.8248731863649,235.08201725696378,235.86711804557487,240.39934845814798,241.67969176684343,242.1016993022594,249.00917229926358,255.0198792835088,257.9605177025457,273.8064655981007,281.14065927309855,285.9997279959616,286.7222890080613,305.5786660877456,309.63758822069195,313.0315947007578,315.7407453093453,339.81312102479393,342.8888091061525,348.06456475529205,386.54954919854043,429.3648240223802,436.59369708823857],\"yaxis\":\"y\",\"type\":\"scatter\"}],                        {\"template\":{\"data\":{\"histogram2dcontour\":[{\"type\":\"histogram2dcontour\",\"colorbar\":{\"outlinewidth\":0,\"ticks\":\"\"},\"colorscale\":[[0.0,\"#0d0887\"],[0.1111111111111111,\"#46039f\"],[0.2222222222222222,\"#7201a8\"],[0.3333333333333333,\"#9c179e\"],[0.4444444444444444,\"#bd3786\"],[0.5555555555555556,\"#d8576b\"],[0.6666666666666666,\"#ed7953\"],[0.7777777777777778,\"#fb9f3a\"],[0.8888888888888888,\"#fdca26\"],[1.0,\"#f0f921\"]]}],\"choropleth\":[{\"type\":\"choropleth\",\"colorbar\":{\"outlinewidth\":0,\"ticks\":\"\"}}],\"histogram2d\":[{\"type\":\"histogram2d\",\"colorbar\":{\"outlinewidth\":0,\"ticks\":\"\"},\"colorscale\":[[0.0,\"#0d0887\"],[0.1111111111111111,\"#46039f\"],[0.2222222222222222,\"#7201a8\"],[0.3333333333333333,\"#9c179e\"],[0.4444444444444444,\"#bd3786\"],[0.5555555555555556,\"#d8576b\"],[0.6666666666666666,\"#ed7953\"],[0.7777777777777778,\"#fb9f3a\"],[0.8888888888888888,\"#fdca26\"],[1.0,\"#f0f921\"]]}],\"heatmap\":[{\"type\":\"heatmap\",\"colorbar\":{\"outlinewidth\":0,\"ticks\":\"\"},\"colorscale\":[[0.0,\"#0d0887\"],[0.1111111111111111,\"#46039f\"],[0.2222222222222222,\"#7201a8\"],[0.3333333333333333,\"#9c179e\"],[0.4444444444444444,\"#bd3786\"],[0.5555555555555556,\"#d8576b\"],[0.6666666666666666,\"#ed7953\"],[0.7777777777777778,\"#fb9f3a\"],[0.8888888888888888,\"#fdca26\"],[1.0,\"#f0f921\"]]}],\"heatmapgl\":[{\"type\":\"heatmapgl\",\"colorbar\":{\"outlinewidth\":0,\"ticks\":\"\"},\"colorscale\":[[0.0,\"#0d0887\"],[0.1111111111111111,\"#46039f\"],[0.2222222222222222,\"#7201a8\"],[0.3333333333333333,\"#9c179e\"],[0.4444444444444444,\"#bd3786\"],[0.5555555555555556,\"#d8576b\"],[0.6666666666666666,\"#ed7953\"],[0.7777777777777778,\"#fb9f3a\"],[0.8888888888888888,\"#fdca26\"],[1.0,\"#f0f921\"]]}],\"contourcarpet\":[{\"type\":\"contourcarpet\",\"colorbar\":{\"outlinewidth\":0,\"ticks\":\"\"}}],\"contour\":[{\"type\":\"contour\",\"colorbar\":{\"outlinewidth\":0,\"ticks\":\"\"},\"colorscale\":[[0.0,\"#0d0887\"],[0.1111111111111111,\"#46039f\"],[0.2222222222222222,\"#7201a8\"],[0.3333333333333333,\"#9c179e\"],[0.4444444444444444,\"#bd3786\"],[0.5555555555555556,\"#d8576b\"],[0.6666666666666666,\"#ed7953\"],[0.7777777777777778,\"#fb9f3a\"],[0.8888888888888888,\"#fdca26\"],[1.0,\"#f0f921\"]]}],\"surface\":[{\"type\":\"surface\",\"colorbar\":{\"outlinewidth\":0,\"ticks\":\"\"},\"colorscale\":[[0.0,\"#0d0887\"],[0.1111111111111111,\"#46039f\"],[0.2222222222222222,\"#7201a8\"],[0.3333333333333333,\"#9c179e\"],[0.4444444444444444,\"#bd3786\"],[0.5555555555555556,\"#d8576b\"],[0.6666666666666666,\"#ed7953\"],[0.7777777777777778,\"#fb9f3a\"],[0.8888888888888888,\"#fdca26\"],[1.0,\"#f0f921\"]]}],\"mesh3d\":[{\"type\":\"mesh3d\",\"colorbar\":{\"outlinewidth\":0,\"ticks\":\"\"}}],\"scatter\":[{\"fillpattern\":{\"fillmode\":\"overlay\",\"size\":10,\"solidity\":0.2},\"type\":\"scatter\"}],\"parcoords\":[{\"type\":\"parcoords\",\"line\":{\"colorbar\":{\"outlinewidth\":0,\"ticks\":\"\"}}}],\"scatterpolargl\":[{\"type\":\"scatterpolargl\",\"marker\":{\"colorbar\":{\"outlinewidth\":0,\"ticks\":\"\"}}}],\"bar\":[{\"error_x\":{\"color\":\"#2a3f5f\"},\"error_y\":{\"color\":\"#2a3f5f\"},\"marker\":{\"line\":{\"color\":\"#E5ECF6\",\"width\":0.5},\"pattern\":{\"fillmode\":\"overlay\",\"size\":10,\"solidity\":0.2}},\"type\":\"bar\"}],\"scattergeo\":[{\"type\":\"scattergeo\",\"marker\":{\"colorbar\":{\"outlinewidth\":0,\"ticks\":\"\"}}}],\"scatterpolar\":[{\"type\":\"scatterpolar\",\"marker\":{\"colorbar\":{\"outlinewidth\":0,\"ticks\":\"\"}}}],\"histogram\":[{\"marker\":{\"pattern\":{\"fillmode\":\"overlay\",\"size\":10,\"solidity\":0.2}},\"type\":\"histogram\"}],\"scattergl\":[{\"type\":\"scattergl\",\"marker\":{\"colorbar\":{\"outlinewidth\":0,\"ticks\":\"\"}}}],\"scatter3d\":[{\"type\":\"scatter3d\",\"line\":{\"colorbar\":{\"outlinewidth\":0,\"ticks\":\"\"}},\"marker\":{\"colorbar\":{\"outlinewidth\":0,\"ticks\":\"\"}}}],\"scattermapbox\":[{\"type\":\"scattermapbox\",\"marker\":{\"colorbar\":{\"outlinewidth\":0,\"ticks\":\"\"}}}],\"scatterternary\":[{\"type\":\"scatterternary\",\"marker\":{\"colorbar\":{\"outlinewidth\":0,\"ticks\":\"\"}}}],\"scattercarpet\":[{\"type\":\"scattercarpet\",\"marker\":{\"colorbar\":{\"outlinewidth\":0,\"ticks\":\"\"}}}],\"carpet\":[{\"aaxis\":{\"endlinecolor\":\"#2a3f5f\",\"gridcolor\":\"white\",\"linecolor\":\"white\",\"minorgridcolor\":\"white\",\"startlinecolor\":\"#2a3f5f\"},\"baxis\":{\"endlinecolor\":\"#2a3f5f\",\"gridcolor\":\"white\",\"linecolor\":\"white\",\"minorgridcolor\":\"white\",\"startlinecolor\":\"#2a3f5f\"},\"type\":\"carpet\"}],\"table\":[{\"cells\":{\"fill\":{\"color\":\"#EBF0F8\"},\"line\":{\"color\":\"white\"}},\"header\":{\"fill\":{\"color\":\"#C8D4E3\"},\"line\":{\"color\":\"white\"}},\"type\":\"table\"}],\"barpolar\":[{\"marker\":{\"line\":{\"color\":\"#E5ECF6\",\"width\":0.5},\"pattern\":{\"fillmode\":\"overlay\",\"size\":10,\"solidity\":0.2}},\"type\":\"barpolar\"}],\"pie\":[{\"automargin\":true,\"type\":\"pie\"}]},\"layout\":{\"autotypenumbers\":\"strict\",\"colorway\":[\"#636efa\",\"#EF553B\",\"#00cc96\",\"#ab63fa\",\"#FFA15A\",\"#19d3f3\",\"#FF6692\",\"#B6E880\",\"#FF97FF\",\"#FECB52\"],\"font\":{\"color\":\"#2a3f5f\"},\"hovermode\":\"closest\",\"hoverlabel\":{\"align\":\"left\"},\"paper_bgcolor\":\"white\",\"plot_bgcolor\":\"#E5ECF6\",\"polar\":{\"bgcolor\":\"#E5ECF6\",\"angularaxis\":{\"gridcolor\":\"white\",\"linecolor\":\"white\",\"ticks\":\"\"},\"radialaxis\":{\"gridcolor\":\"white\",\"linecolor\":\"white\",\"ticks\":\"\"}},\"ternary\":{\"bgcolor\":\"#E5ECF6\",\"aaxis\":{\"gridcolor\":\"white\",\"linecolor\":\"white\",\"ticks\":\"\"},\"baxis\":{\"gridcolor\":\"white\",\"linecolor\":\"white\",\"ticks\":\"\"},\"caxis\":{\"gridcolor\":\"white\",\"linecolor\":\"white\",\"ticks\":\"\"}},\"coloraxis\":{\"colorbar\":{\"outlinewidth\":0,\"ticks\":\"\"}},\"colorscale\":{\"sequential\":[[0.0,\"#0d0887\"],[0.1111111111111111,\"#46039f\"],[0.2222222222222222,\"#7201a8\"],[0.3333333333333333,\"#9c179e\"],[0.4444444444444444,\"#bd3786\"],[0.5555555555555556,\"#d8576b\"],[0.6666666666666666,\"#ed7953\"],[0.7777777777777778,\"#fb9f3a\"],[0.8888888888888888,\"#fdca26\"],[1.0,\"#f0f921\"]],\"sequentialminus\":[[0.0,\"#0d0887\"],[0.1111111111111111,\"#46039f\"],[0.2222222222222222,\"#7201a8\"],[0.3333333333333333,\"#9c179e\"],[0.4444444444444444,\"#bd3786\"],[0.5555555555555556,\"#d8576b\"],[0.6666666666666666,\"#ed7953\"],[0.7777777777777778,\"#fb9f3a\"],[0.8888888888888888,\"#fdca26\"],[1.0,\"#f0f921\"]],\"diverging\":[[0,\"#8e0152\"],[0.1,\"#c51b7d\"],[0.2,\"#de77ae\"],[0.3,\"#f1b6da\"],[0.4,\"#fde0ef\"],[0.5,\"#f7f7f7\"],[0.6,\"#e6f5d0\"],[0.7,\"#b8e186\"],[0.8,\"#7fbc41\"],[0.9,\"#4d9221\"],[1,\"#276419\"]]},\"xaxis\":{\"gridcolor\":\"white\",\"linecolor\":\"white\",\"ticks\":\"\",\"title\":{\"standoff\":15},\"zerolinecolor\":\"white\",\"automargin\":true,\"zerolinewidth\":2},\"yaxis\":{\"gridcolor\":\"white\",\"linecolor\":\"white\",\"ticks\":\"\",\"title\":{\"standoff\":15},\"zerolinecolor\":\"white\",\"automargin\":true,\"zerolinewidth\":2},\"scene\":{\"xaxis\":{\"backgroundcolor\":\"#E5ECF6\",\"gridcolor\":\"white\",\"linecolor\":\"white\",\"showbackground\":true,\"ticks\":\"\",\"zerolinecolor\":\"white\",\"gridwidth\":2},\"yaxis\":{\"backgroundcolor\":\"#E5ECF6\",\"gridcolor\":\"white\",\"linecolor\":\"white\",\"showbackground\":true,\"ticks\":\"\",\"zerolinecolor\":\"white\",\"gridwidth\":2},\"zaxis\":{\"backgroundcolor\":\"#E5ECF6\",\"gridcolor\":\"white\",\"linecolor\":\"white\",\"showbackground\":true,\"ticks\":\"\",\"zerolinecolor\":\"white\",\"gridwidth\":2}},\"shapedefaults\":{\"line\":{\"color\":\"#2a3f5f\"}},\"annotationdefaults\":{\"arrowcolor\":\"#2a3f5f\",\"arrowhead\":0,\"arrowwidth\":1},\"geo\":{\"bgcolor\":\"white\",\"landcolor\":\"#E5ECF6\",\"subunitcolor\":\"white\",\"showland\":true,\"showlakes\":true,\"lakecolor\":\"white\"},\"title\":{\"x\":0.05},\"mapbox\":{\"style\":\"light\"}}},\"xaxis\":{\"anchor\":\"y\",\"domain\":[0.0,1.0],\"title\":{\"text\":\"Votes\"}},\"yaxis\":{\"anchor\":\"x\",\"domain\":[0.0,1.0],\"title\":{\"text\":\"Gross Revenue\"}},\"legend\":{\"tracegroupgap\":0},\"margin\":{\"t\":60},\"title\":{\"text\":\"Votes vs Gross Revenue\"}},                        {\"responsive\": true}                    ).then(function(){\n",
       "                            \n",
       "var gd = document.getElementById('4347a5a2-9fd2-4407-9e42-fd380c287a7b');\n",
       "var x = new MutationObserver(function (mutations, observer) {{\n",
       "        var display = window.getComputedStyle(gd).display;\n",
       "        if (!display || display === 'none') {{\n",
       "            console.log([gd, 'removed!']);\n",
       "            Plotly.purge(gd);\n",
       "            observer.disconnect();\n",
       "        }}\n",
       "}});\n",
       "\n",
       "// Listen for the removal of the full notebook cells\n",
       "var notebookContainer = gd.closest('#notebook-container');\n",
       "if (notebookContainer) {{\n",
       "    x.observe(notebookContainer, {childList: true});\n",
       "}}\n",
       "\n",
       "// Listen for the clearing of the current output cell\n",
       "var outputEl = gd.closest('.output');\n",
       "if (outputEl) {{\n",
       "    x.observe(outputEl, {childList: true});\n",
       "}}\n",
       "\n",
       "                        })                };                });            </script>        </div>"
      ]
     },
     "metadata": {},
     "output_type": "display_data"
    }
   ],
   "source": [
    "# Scatterplot\n",
    "# Votes vs Gross Revenue\n",
    "# Positive trend (more votes, higher revenue)\n",
    "\n",
    "fig = px.scatter(data, x='Votes', y='Gross Revenue', trendline='ols')\n",
    "fig.update_layout(title='Votes vs Gross Revenue')\n",
    "fig.show()"
   ]
  },
  {
   "cell_type": "code",
   "execution_count": 13,
   "id": "e1aa5352",
   "metadata": {
    "execution": {
     "iopub.execute_input": "2024-01-05T16:40:25.056199Z",
     "iopub.status.busy": "2024-01-05T16:40:25.055816Z",
     "iopub.status.idle": "2024-01-05T16:40:25.153525Z",
     "shell.execute_reply": "2024-01-05T16:40:25.152469Z"
    },
    "papermill": {
     "duration": 0.111901,
     "end_time": "2024-01-05T16:40:25.156149",
     "exception": false,
     "start_time": "2024-01-05T16:40:25.044248",
     "status": "completed"
    },
    "tags": []
   },
   "outputs": [
    {
     "data": {
      "text/html": [
       "<div>                            <div id=\"1a7bb96a-e3ae-48a3-b94f-7fb91e122fd4\" class=\"plotly-graph-div\" style=\"height:525px; width:100%;\"></div>            <script type=\"text/javascript\">                require([\"plotly\"], function(Plotly) {                    window.PLOTLYENV=window.PLOTLYENV || {};                                    if (document.getElementById(\"1a7bb96a-e3ae-48a3-b94f-7fb91e122fd4\")) {                    Plotly.newPlot(                        \"1a7bb96a-e3ae-48a3-b94f-7fb91e122fd4\",                        [{\"alignmentgroup\":\"True\",\"hovertemplate\":\"Age Rating=%{x}\\u003cbr\\u003eGross Revenue=%{y}\\u003cextra\\u003e\\u003c\\u002fextra\\u003e\",\"legendgroup\":\"\",\"marker\":{\"color\":\"#636efa\",\"pattern\":{\"shape\":\"\"}},\"name\":\"\",\"offsetgroup\":\"\",\"orientation\":\"v\",\"showlegend\":false,\"textposition\":\"auto\",\"x\":[\"A\",\"U\",\"UA\"],\"xaxis\":\"x\",\"y\":[47.56133277777777,77.12832453389831,99.18314564224137],\"yaxis\":\"y\",\"type\":\"bar\"}],                        {\"template\":{\"data\":{\"histogram2dcontour\":[{\"type\":\"histogram2dcontour\",\"colorbar\":{\"outlinewidth\":0,\"ticks\":\"\"},\"colorscale\":[[0.0,\"#0d0887\"],[0.1111111111111111,\"#46039f\"],[0.2222222222222222,\"#7201a8\"],[0.3333333333333333,\"#9c179e\"],[0.4444444444444444,\"#bd3786\"],[0.5555555555555556,\"#d8576b\"],[0.6666666666666666,\"#ed7953\"],[0.7777777777777778,\"#fb9f3a\"],[0.8888888888888888,\"#fdca26\"],[1.0,\"#f0f921\"]]}],\"choropleth\":[{\"type\":\"choropleth\",\"colorbar\":{\"outlinewidth\":0,\"ticks\":\"\"}}],\"histogram2d\":[{\"type\":\"histogram2d\",\"colorbar\":{\"outlinewidth\":0,\"ticks\":\"\"},\"colorscale\":[[0.0,\"#0d0887\"],[0.1111111111111111,\"#46039f\"],[0.2222222222222222,\"#7201a8\"],[0.3333333333333333,\"#9c179e\"],[0.4444444444444444,\"#bd3786\"],[0.5555555555555556,\"#d8576b\"],[0.6666666666666666,\"#ed7953\"],[0.7777777777777778,\"#fb9f3a\"],[0.8888888888888888,\"#fdca26\"],[1.0,\"#f0f921\"]]}],\"heatmap\":[{\"type\":\"heatmap\",\"colorbar\":{\"outlinewidth\":0,\"ticks\":\"\"},\"colorscale\":[[0.0,\"#0d0887\"],[0.1111111111111111,\"#46039f\"],[0.2222222222222222,\"#7201a8\"],[0.3333333333333333,\"#9c179e\"],[0.4444444444444444,\"#bd3786\"],[0.5555555555555556,\"#d8576b\"],[0.6666666666666666,\"#ed7953\"],[0.7777777777777778,\"#fb9f3a\"],[0.8888888888888888,\"#fdca26\"],[1.0,\"#f0f921\"]]}],\"heatmapgl\":[{\"type\":\"heatmapgl\",\"colorbar\":{\"outlinewidth\":0,\"ticks\":\"\"},\"colorscale\":[[0.0,\"#0d0887\"],[0.1111111111111111,\"#46039f\"],[0.2222222222222222,\"#7201a8\"],[0.3333333333333333,\"#9c179e\"],[0.4444444444444444,\"#bd3786\"],[0.5555555555555556,\"#d8576b\"],[0.6666666666666666,\"#ed7953\"],[0.7777777777777778,\"#fb9f3a\"],[0.8888888888888888,\"#fdca26\"],[1.0,\"#f0f921\"]]}],\"contourcarpet\":[{\"type\":\"contourcarpet\",\"colorbar\":{\"outlinewidth\":0,\"ticks\":\"\"}}],\"contour\":[{\"type\":\"contour\",\"colorbar\":{\"outlinewidth\":0,\"ticks\":\"\"},\"colorscale\":[[0.0,\"#0d0887\"],[0.1111111111111111,\"#46039f\"],[0.2222222222222222,\"#7201a8\"],[0.3333333333333333,\"#9c179e\"],[0.4444444444444444,\"#bd3786\"],[0.5555555555555556,\"#d8576b\"],[0.6666666666666666,\"#ed7953\"],[0.7777777777777778,\"#fb9f3a\"],[0.8888888888888888,\"#fdca26\"],[1.0,\"#f0f921\"]]}],\"surface\":[{\"type\":\"surface\",\"colorbar\":{\"outlinewidth\":0,\"ticks\":\"\"},\"colorscale\":[[0.0,\"#0d0887\"],[0.1111111111111111,\"#46039f\"],[0.2222222222222222,\"#7201a8\"],[0.3333333333333333,\"#9c179e\"],[0.4444444444444444,\"#bd3786\"],[0.5555555555555556,\"#d8576b\"],[0.6666666666666666,\"#ed7953\"],[0.7777777777777778,\"#fb9f3a\"],[0.8888888888888888,\"#fdca26\"],[1.0,\"#f0f921\"]]}],\"mesh3d\":[{\"type\":\"mesh3d\",\"colorbar\":{\"outlinewidth\":0,\"ticks\":\"\"}}],\"scatter\":[{\"fillpattern\":{\"fillmode\":\"overlay\",\"size\":10,\"solidity\":0.2},\"type\":\"scatter\"}],\"parcoords\":[{\"type\":\"parcoords\",\"line\":{\"colorbar\":{\"outlinewidth\":0,\"ticks\":\"\"}}}],\"scatterpolargl\":[{\"type\":\"scatterpolargl\",\"marker\":{\"colorbar\":{\"outlinewidth\":0,\"ticks\":\"\"}}}],\"bar\":[{\"error_x\":{\"color\":\"#2a3f5f\"},\"error_y\":{\"color\":\"#2a3f5f\"},\"marker\":{\"line\":{\"color\":\"#E5ECF6\",\"width\":0.5},\"pattern\":{\"fillmode\":\"overlay\",\"size\":10,\"solidity\":0.2}},\"type\":\"bar\"}],\"scattergeo\":[{\"type\":\"scattergeo\",\"marker\":{\"colorbar\":{\"outlinewidth\":0,\"ticks\":\"\"}}}],\"scatterpolar\":[{\"type\":\"scatterpolar\",\"marker\":{\"colorbar\":{\"outlinewidth\":0,\"ticks\":\"\"}}}],\"histogram\":[{\"marker\":{\"pattern\":{\"fillmode\":\"overlay\",\"size\":10,\"solidity\":0.2}},\"type\":\"histogram\"}],\"scattergl\":[{\"type\":\"scattergl\",\"marker\":{\"colorbar\":{\"outlinewidth\":0,\"ticks\":\"\"}}}],\"scatter3d\":[{\"type\":\"scatter3d\",\"line\":{\"colorbar\":{\"outlinewidth\":0,\"ticks\":\"\"}},\"marker\":{\"colorbar\":{\"outlinewidth\":0,\"ticks\":\"\"}}}],\"scattermapbox\":[{\"type\":\"scattermapbox\",\"marker\":{\"colorbar\":{\"outlinewidth\":0,\"ticks\":\"\"}}}],\"scatterternary\":[{\"type\":\"scatterternary\",\"marker\":{\"colorbar\":{\"outlinewidth\":0,\"ticks\":\"\"}}}],\"scattercarpet\":[{\"type\":\"scattercarpet\",\"marker\":{\"colorbar\":{\"outlinewidth\":0,\"ticks\":\"\"}}}],\"carpet\":[{\"aaxis\":{\"endlinecolor\":\"#2a3f5f\",\"gridcolor\":\"white\",\"linecolor\":\"white\",\"minorgridcolor\":\"white\",\"startlinecolor\":\"#2a3f5f\"},\"baxis\":{\"endlinecolor\":\"#2a3f5f\",\"gridcolor\":\"white\",\"linecolor\":\"white\",\"minorgridcolor\":\"white\",\"startlinecolor\":\"#2a3f5f\"},\"type\":\"carpet\"}],\"table\":[{\"cells\":{\"fill\":{\"color\":\"#EBF0F8\"},\"line\":{\"color\":\"white\"}},\"header\":{\"fill\":{\"color\":\"#C8D4E3\"},\"line\":{\"color\":\"white\"}},\"type\":\"table\"}],\"barpolar\":[{\"marker\":{\"line\":{\"color\":\"#E5ECF6\",\"width\":0.5},\"pattern\":{\"fillmode\":\"overlay\",\"size\":10,\"solidity\":0.2}},\"type\":\"barpolar\"}],\"pie\":[{\"automargin\":true,\"type\":\"pie\"}]},\"layout\":{\"autotypenumbers\":\"strict\",\"colorway\":[\"#636efa\",\"#EF553B\",\"#00cc96\",\"#ab63fa\",\"#FFA15A\",\"#19d3f3\",\"#FF6692\",\"#B6E880\",\"#FF97FF\",\"#FECB52\"],\"font\":{\"color\":\"#2a3f5f\"},\"hovermode\":\"closest\",\"hoverlabel\":{\"align\":\"left\"},\"paper_bgcolor\":\"white\",\"plot_bgcolor\":\"#E5ECF6\",\"polar\":{\"bgcolor\":\"#E5ECF6\",\"angularaxis\":{\"gridcolor\":\"white\",\"linecolor\":\"white\",\"ticks\":\"\"},\"radialaxis\":{\"gridcolor\":\"white\",\"linecolor\":\"white\",\"ticks\":\"\"}},\"ternary\":{\"bgcolor\":\"#E5ECF6\",\"aaxis\":{\"gridcolor\":\"white\",\"linecolor\":\"white\",\"ticks\":\"\"},\"baxis\":{\"gridcolor\":\"white\",\"linecolor\":\"white\",\"ticks\":\"\"},\"caxis\":{\"gridcolor\":\"white\",\"linecolor\":\"white\",\"ticks\":\"\"}},\"coloraxis\":{\"colorbar\":{\"outlinewidth\":0,\"ticks\":\"\"}},\"colorscale\":{\"sequential\":[[0.0,\"#0d0887\"],[0.1111111111111111,\"#46039f\"],[0.2222222222222222,\"#7201a8\"],[0.3333333333333333,\"#9c179e\"],[0.4444444444444444,\"#bd3786\"],[0.5555555555555556,\"#d8576b\"],[0.6666666666666666,\"#ed7953\"],[0.7777777777777778,\"#fb9f3a\"],[0.8888888888888888,\"#fdca26\"],[1.0,\"#f0f921\"]],\"sequentialminus\":[[0.0,\"#0d0887\"],[0.1111111111111111,\"#46039f\"],[0.2222222222222222,\"#7201a8\"],[0.3333333333333333,\"#9c179e\"],[0.4444444444444444,\"#bd3786\"],[0.5555555555555556,\"#d8576b\"],[0.6666666666666666,\"#ed7953\"],[0.7777777777777778,\"#fb9f3a\"],[0.8888888888888888,\"#fdca26\"],[1.0,\"#f0f921\"]],\"diverging\":[[0,\"#8e0152\"],[0.1,\"#c51b7d\"],[0.2,\"#de77ae\"],[0.3,\"#f1b6da\"],[0.4,\"#fde0ef\"],[0.5,\"#f7f7f7\"],[0.6,\"#e6f5d0\"],[0.7,\"#b8e186\"],[0.8,\"#7fbc41\"],[0.9,\"#4d9221\"],[1,\"#276419\"]]},\"xaxis\":{\"gridcolor\":\"white\",\"linecolor\":\"white\",\"ticks\":\"\",\"title\":{\"standoff\":15},\"zerolinecolor\":\"white\",\"automargin\":true,\"zerolinewidth\":2},\"yaxis\":{\"gridcolor\":\"white\",\"linecolor\":\"white\",\"ticks\":\"\",\"title\":{\"standoff\":15},\"zerolinecolor\":\"white\",\"automargin\":true,\"zerolinewidth\":2},\"scene\":{\"xaxis\":{\"backgroundcolor\":\"#E5ECF6\",\"gridcolor\":\"white\",\"linecolor\":\"white\",\"showbackground\":true,\"ticks\":\"\",\"zerolinecolor\":\"white\",\"gridwidth\":2},\"yaxis\":{\"backgroundcolor\":\"#E5ECF6\",\"gridcolor\":\"white\",\"linecolor\":\"white\",\"showbackground\":true,\"ticks\":\"\",\"zerolinecolor\":\"white\",\"gridwidth\":2},\"zaxis\":{\"backgroundcolor\":\"#E5ECF6\",\"gridcolor\":\"white\",\"linecolor\":\"white\",\"showbackground\":true,\"ticks\":\"\",\"zerolinecolor\":\"white\",\"gridwidth\":2}},\"shapedefaults\":{\"line\":{\"color\":\"#2a3f5f\"}},\"annotationdefaults\":{\"arrowcolor\":\"#2a3f5f\",\"arrowhead\":0,\"arrowwidth\":1},\"geo\":{\"bgcolor\":\"white\",\"landcolor\":\"#E5ECF6\",\"subunitcolor\":\"white\",\"showland\":true,\"showlakes\":true,\"lakecolor\":\"white\"},\"title\":{\"x\":0.05},\"mapbox\":{\"style\":\"light\"}}},\"xaxis\":{\"anchor\":\"y\",\"domain\":[0.0,1.0],\"title\":{\"text\":\"Age Rating\"},\"categoryorder\":\"total descending\"},\"yaxis\":{\"anchor\":\"x\",\"domain\":[0.0,1.0],\"title\":{\"text\":\"Gross Revenue\"}},\"legend\":{\"tracegroupgap\":0},\"margin\":{\"t\":60},\"barmode\":\"relative\",\"title\":{\"text\":\"Age Rating vs Gross Revenue\"}},                        {\"responsive\": true}                    ).then(function(){\n",
       "                            \n",
       "var gd = document.getElementById('1a7bb96a-e3ae-48a3-b94f-7fb91e122fd4');\n",
       "var x = new MutationObserver(function (mutations, observer) {{\n",
       "        var display = window.getComputedStyle(gd).display;\n",
       "        if (!display || display === 'none') {{\n",
       "            console.log([gd, 'removed!']);\n",
       "            Plotly.purge(gd);\n",
       "            observer.disconnect();\n",
       "        }}\n",
       "}});\n",
       "\n",
       "// Listen for the removal of the full notebook cells\n",
       "var notebookContainer = gd.closest('#notebook-container');\n",
       "if (notebookContainer) {{\n",
       "    x.observe(notebookContainer, {childList: true});\n",
       "}}\n",
       "\n",
       "// Listen for the clearing of the current output cell\n",
       "var outputEl = gd.closest('.output');\n",
       "if (outputEl) {{\n",
       "    x.observe(outputEl, {childList: true});\n",
       "}}\n",
       "\n",
       "                        })                };                });            </script>        </div>"
      ]
     },
     "metadata": {},
     "output_type": "display_data"
    }
   ],
   "source": [
    "# Bar plot\n",
    "# Average Gross Revenue per Age Rating\n",
    "# UA movies gross the most on average\n",
    "\n",
    "fig = px.bar(data[['Age Rating','Gross Revenue']].groupby('Age Rating').mean().reset_index(), x='Age Rating', y='Gross Revenue')\n",
    "fig.update_layout(title='Age Rating vs Gross Revenue', xaxis={'categoryorder':'total descending'})\n",
    "fig.show()"
   ]
  },
  {
   "cell_type": "code",
   "execution_count": 14,
   "id": "a24e3958",
   "metadata": {
    "execution": {
     "iopub.execute_input": "2024-01-05T16:40:25.176787Z",
     "iopub.status.busy": "2024-01-05T16:40:25.176377Z",
     "iopub.status.idle": "2024-01-05T16:40:25.253189Z",
     "shell.execute_reply": "2024-01-05T16:40:25.251038Z"
    },
    "papermill": {
     "duration": 0.090233,
     "end_time": "2024-01-05T16:40:25.255835",
     "exception": false,
     "start_time": "2024-01-05T16:40:25.165602",
     "status": "completed"
    },
    "tags": []
   },
   "outputs": [
    {
     "data": {
      "text/html": [
       "<div>                            <div id=\"9a65717c-6de6-4bf2-856f-b286ed81c52f\" class=\"plotly-graph-div\" style=\"height:525px; width:100%;\"></div>            <script type=\"text/javascript\">                require([\"plotly\"], function(Plotly) {                    window.PLOTLYENV=window.PLOTLYENV || {};                                    if (document.getElementById(\"9a65717c-6de6-4bf2-856f-b286ed81c52f\")) {                    Plotly.newPlot(                        \"9a65717c-6de6-4bf2-856f-b286ed81c52f\",                        [{\"domain\":{\"x\":[0.0,1.0],\"y\":[0.0,1.0]},\"hovertemplate\":\"Age Rating=%{label}\\u003cextra\\u003e\\u003c\\u002fextra\\u003e\",\"labels\":[\"A\",\"A\",\"UA\",\"A\",\"U\",\"U\",\"A\",\"A\",\"UA\",\"A\",\"U\",\"UA\",\"A\",\"UA\",\"A\",\"A\",\"UA\",\"A\",\"A\",\"UA\",\"A\",\"U\",\"A\",\"A\",\"U\",\"A\",\"A\",\"UA\",\"U\",\"A\",\"A\",\"UA\",\"U\",\"A\",\"A\",\"UA\",\"A\",\"A\",\"A\",\"U\",\"U\",\"U\",\"U\",\"U\",\"A\",\"U\",\"U\",\"U\",\"A\",\"U\",\"U\",\"U\",\"UA\",\"UA\",\"U\",\"A\",\"UA\",\"UA\",\"U\",\"U\",\"A\",\"A\",\"UA\",\"U\",\"A\",\"A\",\"A\",\"A\",\"A\",\"A\",\"U\",\"U\",\"UA\",\"A\",\"UA\",\"A\",\"UA\",\"A\",\"A\",\"UA\",\"U\",\"UA\",\"A\",\"UA\",\"U\",\"U\",\"U\",\"A\",\"A\",\"UA\",\"U\",\"A\",\"A\",\"U\",\"A\",\"A\",\"U\",\"A\",\"U\",\"U\",\"U\",\"U\",\"U\",\"A\",\"U\",\"UA\",\"UA\",\"UA\",\"UA\",\"UA\",\"UA\",\"UA\",\"A\",\"UA\",\"UA\",\"UA\",\"UA\",\"U\",\"UA\",\"UA\",\"A\",\"UA\",\"A\",\"U\",\"A\",\"U\",\"A\",\"UA\",\"U\",\"A\",\"UA\",\"U\",\"UA\",\"U\",\"A\",\"U\",\"UA\",\"A\",\"A\",\"A\",\"A\",\"A\",\"U\",\"A\",\"U\",\"A\",\"U\",\"A\",\"U\",\"U\",\"U\",\"U\",\"A\",\"UA\",\"UA\",\"UA\",\"UA\",\"A\",\"UA\",\"A\",\"A\",\"UA\",\"A\",\"A\",\"A\",\"UA\",\"U\",\"UA\",\"A\",\"A\",\"U\",\"U\",\"A\",\"UA\",\"UA\",\"A\",\"U\",\"UA\",\"U\",\"A\",\"UA\",\"A\",\"UA\",\"UA\",\"U\",\"A\",\"A\",\"U\",\"UA\",\"UA\",\"A\",\"A\",\"UA\",\"A\",\"U\",\"A\",\"A\",\"U\",\"U\",\"A\",\"U\",\"U\",\"A\",\"A\",\"U\",\"A\",\"A\",\"UA\",\"A\",\"U\",\"U\",\"UA\",\"UA\",\"A\",\"U\",\"U\",\"U\",\"A\",\"U\",\"U\",\"A\",\"UA\",\"A\",\"UA\",\"A\",\"A\",\"U\",\"U\",\"UA\",\"U\",\"A\",\"U\",\"A\",\"A\",\"UA\",\"A\",\"U\",\"U\",\"A\",\"UA\",\"UA\",\"UA\",\"UA\",\"U\",\"UA\",\"UA\",\"UA\",\"UA\",\"UA\",\"A\",\"U\",\"UA\",\"U\",\"UA\",\"U\",\"U\",\"UA\",\"UA\",\"A\",\"A\",\"UA\",\"UA\",\"UA\",\"A\",\"UA\",\"A\",\"UA\",\"U\",\"UA\",\"A\",\"U\",\"A\",\"UA\",\"UA\",\"A\",\"A\",\"UA\",\"UA\",\"A\",\"U\",\"A\",\"UA\",\"U\",\"A\",\"UA\",\"U\",\"UA\",\"A\",\"A\",\"U\",\"UA\",\"U\",\"UA\",\"UA\",\"U\",\"U\",\"A\",\"A\",\"A\",\"U\",\"U\",\"A\",\"A\",\"A\",\"U\",\"A\",\"U\",\"A\",\"UA\",\"U\",\"U\",\"A\",\"UA\",\"U\",\"UA\",\"U\",\"U\",\"A\",\"U\",\"UA\",\"U\",\"U\",\"U\",\"UA\",\"U\",\"U\",\"A\",\"A\",\"U\",\"A\",\"A\",\"A\",\"U\",\"A\",\"U\",\"UA\",\"U\",\"U\",\"A\",\"U\",\"A\",\"A\",\"A\",\"A\",\"UA\",\"UA\",\"A\",\"A\",\"UA\",\"UA\",\"UA\",\"U\",\"U\",\"UA\",\"A\",\"U\",\"UA\",\"UA\",\"U\",\"UA\",\"A\",\"UA\",\"UA\",\"A\",\"UA\",\"UA\",\"U\",\"A\",\"UA\",\"U\",\"UA\",\"UA\",\"A\",\"A\",\"A\",\"A\",\"A\",\"UA\",\"U\",\"A\",\"UA\",\"A\",\"UA\",\"A\",\"U\",\"U\",\"UA\",\"UA\",\"UA\",\"A\",\"U\",\"UA\",\"A\",\"A\",\"U\",\"UA\",\"A\",\"A\",\"A\",\"A\",\"U\",\"A\",\"A\",\"A\",\"U\",\"A\",\"U\",\"U\",\"UA\",\"A\",\"UA\",\"U\",\"A\",\"U\",\"U\",\"A\",\"A\",\"A\",\"U\",\"A\",\"U\",\"U\",\"A\",\"U\",\"U\",\"U\",\"A\",\"U\",\"U\",\"A\",\"U\",\"UA\",\"UA\",\"UA\",\"U\",\"UA\",\"UA\",\"UA\",\"UA\",\"UA\",\"U\",\"U\",\"U\",\"UA\",\"A\",\"UA\",\"UA\",\"A\",\"U\",\"UA\",\"UA\",\"U\",\"UA\",\"U\",\"A\",\"U\",\"UA\",\"U\",\"A\",\"A\",\"U\",\"A\",\"A\",\"UA\",\"A\",\"A\",\"A\",\"UA\",\"UA\",\"A\",\"UA\",\"A\",\"UA\",\"A\",\"UA\",\"A\",\"A\",\"A\",\"UA\",\"A\",\"A\",\"UA\",\"UA\",\"UA\",\"U\",\"A\",\"U\",\"U\",\"UA\",\"UA\",\"UA\",\"A\",\"U\",\"A\",\"UA\",\"UA\",\"A\",\"U\",\"UA\",\"A\",\"UA\",\"A\",\"UA\",\"U\",\"U\",\"UA\",\"UA\",\"UA\",\"A\",\"U\",\"U\",\"A\",\"U\",\"U\",\"U\",\"A\",\"U\",\"A\",\"A\",\"A\",\"A\",\"U\",\"A\",\"U\",\"A\",\"A\",\"A\",\"U\",\"A\",\"U\",\"U\",\"UA\",\"UA\",\"UA\",\"U\",\"U\",\"U\",\"A\",\"A\",\"U\",\"U\",\"A\",\"A\",\"U\",\"A\",\"U\",\"U\",\"U\",\"A\",\"U\",\"A\",\"A\",\"A\",\"UA\",\"UA\",\"A\",\"U\",\"U\",\"A\",\"UA\",\"UA\",\"A\",\"A\",\"U\",\"UA\",\"UA\",\"UA\",\"U\",\"U\",\"UA\",\"U\",\"UA\",\"UA\",\"UA\",\"UA\",\"UA\",\"UA\",\"A\",\"A\",\"UA\",\"A\",\"U\",\"A\",\"U\",\"A\",\"U\",\"UA\",\"A\",\"A\",\"UA\",\"A\",\"UA\",\"A\",\"U\",\"A\",\"A\",\"A\",\"UA\",\"UA\",\"A\",\"A\",\"A\",\"UA\",\"UA\",\"UA\",\"U\",\"UA\",\"A\",\"A\",\"UA\",\"UA\",\"A\",\"A\",\"A\",\"A\",\"A\",\"A\",\"UA\",\"U\",\"U\",\"A\",\"A\",\"A\",\"UA\",\"U\",\"A\",\"A\",\"UA\",\"UA\",\"A\",\"U\",\"A\",\"UA\",\"U\",\"U\",\"A\",\"A\",\"UA\",\"U\",\"U\",\"UA\",\"A\",\"U\",\"UA\",\"U\",\"A\",\"U\",\"A\",\"U\",\"U\",\"A\",\"A\",\"U\",\"UA\",\"U\",\"U\",\"U\",\"A\",\"U\",\"U\",\"A\",\"A\",\"A\",\"A\",\"A\",\"U\",\"A\",\"A\",\"U\",\"A\",\"U\",\"A\",\"A\",\"UA\",\"UA\",\"U\",\"U\",\"UA\",\"A\",\"A\",\"A\",\"UA\",\"UA\",\"UA\",\"UA\",\"UA\",\"UA\",\"UA\",\"UA\",\"U\",\"A\",\"A\",\"A\",\"A\",\"UA\",\"UA\",\"A\",\"A\",\"U\",\"UA\",\"UA\",\"A\",\"U\",\"A\",\"UA\",\"UA\",\"A\",\"A\",\"UA\",\"UA\",\"UA\",\"UA\",\"A\",\"U\",\"A\",\"A\",\"UA\",\"UA\",\"U\",\"UA\",\"A\",\"A\",\"A\",\"A\",\"UA\",\"A\",\"A\",\"A\",\"U\",\"A\",\"UA\",\"A\",\"U\",\"A\",\"U\",\"A\",\"A\",\"A\",\"U\",\"UA\",\"A\",\"A\",\"A\",\"A\",\"A\",\"UA\",\"A\",\"U\",\"A\",\"A\",\"UA\",\"A\",\"U\",\"A\",\"A\",\"A\",\"U\",\"A\",\"U\",\"UA\",\"U\",\"A\",\"U\",\"A\",\"UA\",\"U\",\"U\",\"U\",\"A\",\"A\",\"UA\",\"A\",\"UA\",\"U\",\"A\",\"A\",\"U\",\"A\",\"U\",\"U\",\"U\",\"U\",\"UA\"],\"legendgroup\":\"\",\"name\":\"\",\"showlegend\":true,\"type\":\"pie\"}],                        {\"template\":{\"data\":{\"histogram2dcontour\":[{\"type\":\"histogram2dcontour\",\"colorbar\":{\"outlinewidth\":0,\"ticks\":\"\"},\"colorscale\":[[0.0,\"#0d0887\"],[0.1111111111111111,\"#46039f\"],[0.2222222222222222,\"#7201a8\"],[0.3333333333333333,\"#9c179e\"],[0.4444444444444444,\"#bd3786\"],[0.5555555555555556,\"#d8576b\"],[0.6666666666666666,\"#ed7953\"],[0.7777777777777778,\"#fb9f3a\"],[0.8888888888888888,\"#fdca26\"],[1.0,\"#f0f921\"]]}],\"choropleth\":[{\"type\":\"choropleth\",\"colorbar\":{\"outlinewidth\":0,\"ticks\":\"\"}}],\"histogram2d\":[{\"type\":\"histogram2d\",\"colorbar\":{\"outlinewidth\":0,\"ticks\":\"\"},\"colorscale\":[[0.0,\"#0d0887\"],[0.1111111111111111,\"#46039f\"],[0.2222222222222222,\"#7201a8\"],[0.3333333333333333,\"#9c179e\"],[0.4444444444444444,\"#bd3786\"],[0.5555555555555556,\"#d8576b\"],[0.6666666666666666,\"#ed7953\"],[0.7777777777777778,\"#fb9f3a\"],[0.8888888888888888,\"#fdca26\"],[1.0,\"#f0f921\"]]}],\"heatmap\":[{\"type\":\"heatmap\",\"colorbar\":{\"outlinewidth\":0,\"ticks\":\"\"},\"colorscale\":[[0.0,\"#0d0887\"],[0.1111111111111111,\"#46039f\"],[0.2222222222222222,\"#7201a8\"],[0.3333333333333333,\"#9c179e\"],[0.4444444444444444,\"#bd3786\"],[0.5555555555555556,\"#d8576b\"],[0.6666666666666666,\"#ed7953\"],[0.7777777777777778,\"#fb9f3a\"],[0.8888888888888888,\"#fdca26\"],[1.0,\"#f0f921\"]]}],\"heatmapgl\":[{\"type\":\"heatmapgl\",\"colorbar\":{\"outlinewidth\":0,\"ticks\":\"\"},\"colorscale\":[[0.0,\"#0d0887\"],[0.1111111111111111,\"#46039f\"],[0.2222222222222222,\"#7201a8\"],[0.3333333333333333,\"#9c179e\"],[0.4444444444444444,\"#bd3786\"],[0.5555555555555556,\"#d8576b\"],[0.6666666666666666,\"#ed7953\"],[0.7777777777777778,\"#fb9f3a\"],[0.8888888888888888,\"#fdca26\"],[1.0,\"#f0f921\"]]}],\"contourcarpet\":[{\"type\":\"contourcarpet\",\"colorbar\":{\"outlinewidth\":0,\"ticks\":\"\"}}],\"contour\":[{\"type\":\"contour\",\"colorbar\":{\"outlinewidth\":0,\"ticks\":\"\"},\"colorscale\":[[0.0,\"#0d0887\"],[0.1111111111111111,\"#46039f\"],[0.2222222222222222,\"#7201a8\"],[0.3333333333333333,\"#9c179e\"],[0.4444444444444444,\"#bd3786\"],[0.5555555555555556,\"#d8576b\"],[0.6666666666666666,\"#ed7953\"],[0.7777777777777778,\"#fb9f3a\"],[0.8888888888888888,\"#fdca26\"],[1.0,\"#f0f921\"]]}],\"surface\":[{\"type\":\"surface\",\"colorbar\":{\"outlinewidth\":0,\"ticks\":\"\"},\"colorscale\":[[0.0,\"#0d0887\"],[0.1111111111111111,\"#46039f\"],[0.2222222222222222,\"#7201a8\"],[0.3333333333333333,\"#9c179e\"],[0.4444444444444444,\"#bd3786\"],[0.5555555555555556,\"#d8576b\"],[0.6666666666666666,\"#ed7953\"],[0.7777777777777778,\"#fb9f3a\"],[0.8888888888888888,\"#fdca26\"],[1.0,\"#f0f921\"]]}],\"mesh3d\":[{\"type\":\"mesh3d\",\"colorbar\":{\"outlinewidth\":0,\"ticks\":\"\"}}],\"scatter\":[{\"fillpattern\":{\"fillmode\":\"overlay\",\"size\":10,\"solidity\":0.2},\"type\":\"scatter\"}],\"parcoords\":[{\"type\":\"parcoords\",\"line\":{\"colorbar\":{\"outlinewidth\":0,\"ticks\":\"\"}}}],\"scatterpolargl\":[{\"type\":\"scatterpolargl\",\"marker\":{\"colorbar\":{\"outlinewidth\":0,\"ticks\":\"\"}}}],\"bar\":[{\"error_x\":{\"color\":\"#2a3f5f\"},\"error_y\":{\"color\":\"#2a3f5f\"},\"marker\":{\"line\":{\"color\":\"#E5ECF6\",\"width\":0.5},\"pattern\":{\"fillmode\":\"overlay\",\"size\":10,\"solidity\":0.2}},\"type\":\"bar\"}],\"scattergeo\":[{\"type\":\"scattergeo\",\"marker\":{\"colorbar\":{\"outlinewidth\":0,\"ticks\":\"\"}}}],\"scatterpolar\":[{\"type\":\"scatterpolar\",\"marker\":{\"colorbar\":{\"outlinewidth\":0,\"ticks\":\"\"}}}],\"histogram\":[{\"marker\":{\"pattern\":{\"fillmode\":\"overlay\",\"size\":10,\"solidity\":0.2}},\"type\":\"histogram\"}],\"scattergl\":[{\"type\":\"scattergl\",\"marker\":{\"colorbar\":{\"outlinewidth\":0,\"ticks\":\"\"}}}],\"scatter3d\":[{\"type\":\"scatter3d\",\"line\":{\"colorbar\":{\"outlinewidth\":0,\"ticks\":\"\"}},\"marker\":{\"colorbar\":{\"outlinewidth\":0,\"ticks\":\"\"}}}],\"scattermapbox\":[{\"type\":\"scattermapbox\",\"marker\":{\"colorbar\":{\"outlinewidth\":0,\"ticks\":\"\"}}}],\"scatterternary\":[{\"type\":\"scatterternary\",\"marker\":{\"colorbar\":{\"outlinewidth\":0,\"ticks\":\"\"}}}],\"scattercarpet\":[{\"type\":\"scattercarpet\",\"marker\":{\"colorbar\":{\"outlinewidth\":0,\"ticks\":\"\"}}}],\"carpet\":[{\"aaxis\":{\"endlinecolor\":\"#2a3f5f\",\"gridcolor\":\"white\",\"linecolor\":\"white\",\"minorgridcolor\":\"white\",\"startlinecolor\":\"#2a3f5f\"},\"baxis\":{\"endlinecolor\":\"#2a3f5f\",\"gridcolor\":\"white\",\"linecolor\":\"white\",\"minorgridcolor\":\"white\",\"startlinecolor\":\"#2a3f5f\"},\"type\":\"carpet\"}],\"table\":[{\"cells\":{\"fill\":{\"color\":\"#EBF0F8\"},\"line\":{\"color\":\"white\"}},\"header\":{\"fill\":{\"color\":\"#C8D4E3\"},\"line\":{\"color\":\"white\"}},\"type\":\"table\"}],\"barpolar\":[{\"marker\":{\"line\":{\"color\":\"#E5ECF6\",\"width\":0.5},\"pattern\":{\"fillmode\":\"overlay\",\"size\":10,\"solidity\":0.2}},\"type\":\"barpolar\"}],\"pie\":[{\"automargin\":true,\"type\":\"pie\"}]},\"layout\":{\"autotypenumbers\":\"strict\",\"colorway\":[\"#636efa\",\"#EF553B\",\"#00cc96\",\"#ab63fa\",\"#FFA15A\",\"#19d3f3\",\"#FF6692\",\"#B6E880\",\"#FF97FF\",\"#FECB52\"],\"font\":{\"color\":\"#2a3f5f\"},\"hovermode\":\"closest\",\"hoverlabel\":{\"align\":\"left\"},\"paper_bgcolor\":\"white\",\"plot_bgcolor\":\"#E5ECF6\",\"polar\":{\"bgcolor\":\"#E5ECF6\",\"angularaxis\":{\"gridcolor\":\"white\",\"linecolor\":\"white\",\"ticks\":\"\"},\"radialaxis\":{\"gridcolor\":\"white\",\"linecolor\":\"white\",\"ticks\":\"\"}},\"ternary\":{\"bgcolor\":\"#E5ECF6\",\"aaxis\":{\"gridcolor\":\"white\",\"linecolor\":\"white\",\"ticks\":\"\"},\"baxis\":{\"gridcolor\":\"white\",\"linecolor\":\"white\",\"ticks\":\"\"},\"caxis\":{\"gridcolor\":\"white\",\"linecolor\":\"white\",\"ticks\":\"\"}},\"coloraxis\":{\"colorbar\":{\"outlinewidth\":0,\"ticks\":\"\"}},\"colorscale\":{\"sequential\":[[0.0,\"#0d0887\"],[0.1111111111111111,\"#46039f\"],[0.2222222222222222,\"#7201a8\"],[0.3333333333333333,\"#9c179e\"],[0.4444444444444444,\"#bd3786\"],[0.5555555555555556,\"#d8576b\"],[0.6666666666666666,\"#ed7953\"],[0.7777777777777778,\"#fb9f3a\"],[0.8888888888888888,\"#fdca26\"],[1.0,\"#f0f921\"]],\"sequentialminus\":[[0.0,\"#0d0887\"],[0.1111111111111111,\"#46039f\"],[0.2222222222222222,\"#7201a8\"],[0.3333333333333333,\"#9c179e\"],[0.4444444444444444,\"#bd3786\"],[0.5555555555555556,\"#d8576b\"],[0.6666666666666666,\"#ed7953\"],[0.7777777777777778,\"#fb9f3a\"],[0.8888888888888888,\"#fdca26\"],[1.0,\"#f0f921\"]],\"diverging\":[[0,\"#8e0152\"],[0.1,\"#c51b7d\"],[0.2,\"#de77ae\"],[0.3,\"#f1b6da\"],[0.4,\"#fde0ef\"],[0.5,\"#f7f7f7\"],[0.6,\"#e6f5d0\"],[0.7,\"#b8e186\"],[0.8,\"#7fbc41\"],[0.9,\"#4d9221\"],[1,\"#276419\"]]},\"xaxis\":{\"gridcolor\":\"white\",\"linecolor\":\"white\",\"ticks\":\"\",\"title\":{\"standoff\":15},\"zerolinecolor\":\"white\",\"automargin\":true,\"zerolinewidth\":2},\"yaxis\":{\"gridcolor\":\"white\",\"linecolor\":\"white\",\"ticks\":\"\",\"title\":{\"standoff\":15},\"zerolinecolor\":\"white\",\"automargin\":true,\"zerolinewidth\":2},\"scene\":{\"xaxis\":{\"backgroundcolor\":\"#E5ECF6\",\"gridcolor\":\"white\",\"linecolor\":\"white\",\"showbackground\":true,\"ticks\":\"\",\"zerolinecolor\":\"white\",\"gridwidth\":2},\"yaxis\":{\"backgroundcolor\":\"#E5ECF6\",\"gridcolor\":\"white\",\"linecolor\":\"white\",\"showbackground\":true,\"ticks\":\"\",\"zerolinecolor\":\"white\",\"gridwidth\":2},\"zaxis\":{\"backgroundcolor\":\"#E5ECF6\",\"gridcolor\":\"white\",\"linecolor\":\"white\",\"showbackground\":true,\"ticks\":\"\",\"zerolinecolor\":\"white\",\"gridwidth\":2}},\"shapedefaults\":{\"line\":{\"color\":\"#2a3f5f\"}},\"annotationdefaults\":{\"arrowcolor\":\"#2a3f5f\",\"arrowhead\":0,\"arrowwidth\":1},\"geo\":{\"bgcolor\":\"white\",\"landcolor\":\"#E5ECF6\",\"subunitcolor\":\"white\",\"showland\":true,\"showlakes\":true,\"lakecolor\":\"white\"},\"title\":{\"x\":0.05},\"mapbox\":{\"style\":\"light\"}}},\"legend\":{\"tracegroupgap\":0},\"margin\":{\"t\":60},\"title\":{\"text\":\"Distribution of Age Ratings\"}},                        {\"responsive\": true}                    ).then(function(){\n",
       "                            \n",
       "var gd = document.getElementById('9a65717c-6de6-4bf2-856f-b286ed81c52f');\n",
       "var x = new MutationObserver(function (mutations, observer) {{\n",
       "        var display = window.getComputedStyle(gd).display;\n",
       "        if (!display || display === 'none') {{\n",
       "            console.log([gd, 'removed!']);\n",
       "            Plotly.purge(gd);\n",
       "            observer.disconnect();\n",
       "        }}\n",
       "}});\n",
       "\n",
       "// Listen for the removal of the full notebook cells\n",
       "var notebookContainer = gd.closest('#notebook-container');\n",
       "if (notebookContainer) {{\n",
       "    x.observe(notebookContainer, {childList: true});\n",
       "}}\n",
       "\n",
       "// Listen for the clearing of the current output cell\n",
       "var outputEl = gd.closest('.output');\n",
       "if (outputEl) {{\n",
       "    x.observe(outputEl, {childList: true});\n",
       "}}\n",
       "\n",
       "                        })                };                });            </script>        </div>"
      ]
     },
     "metadata": {},
     "output_type": "display_data"
    }
   ],
   "source": [
    "# Pie chart\n",
    "# Distribution of Age Rating\n",
    "# Fairly even distribution\n",
    "\n",
    "fig = px.pie(data['Age Rating'], names='Age Rating')\n",
    "fig.update_layout(title='Distribution of Age Ratings')\n",
    "fig.show()"
   ]
  },
  {
   "cell_type": "code",
   "execution_count": 15,
   "id": "9a5c119d",
   "metadata": {
    "execution": {
     "iopub.execute_input": "2024-01-05T16:40:25.276875Z",
     "iopub.status.busy": "2024-01-05T16:40:25.276434Z",
     "iopub.status.idle": "2024-01-05T16:40:25.337252Z",
     "shell.execute_reply": "2024-01-05T16:40:25.335840Z"
    },
    "papermill": {
     "duration": 0.074468,
     "end_time": "2024-01-05T16:40:25.340002",
     "exception": false,
     "start_time": "2024-01-05T16:40:25.265534",
     "status": "completed"
    },
    "tags": []
   },
   "outputs": [
    {
     "data": {
      "text/html": [
       "<div>                            <div id=\"766e0f69-9478-4ea3-a015-1538b5584052\" class=\"plotly-graph-div\" style=\"height:525px; width:100%;\"></div>            <script type=\"text/javascript\">                require([\"plotly\"], function(Plotly) {                    window.PLOTLYENV=window.PLOTLYENV || {};                                    if (document.getElementById(\"766e0f69-9478-4ea3-a015-1538b5584052\")) {                    Plotly.newPlot(                        \"766e0f69-9478-4ea3-a015-1538b5584052\",                        [{\"alignmentgroup\":\"True\",\"hovertemplate\":\"Primary Genre=%{x}\\u003cbr\\u003eGross Revenue=%{y}\\u003cextra\\u003e\\u003c\\u002fextra\\u003e\",\"legendgroup\":\"\",\"marker\":{\"color\":\"#636efa\",\"pattern\":{\"shape\":\"\"}},\"name\":\"\",\"offsetgroup\":\"\",\"orientation\":\"v\",\"showlegend\":false,\"textposition\":\"auto\",\"x\":[\"Action\",\"Adventure\",\"Animation\",\"Biography\",\"Comedy\",\"Crime\",\"Drama\",\"Family\",\"Film-Noir\",\"Horror\",\"Mystery\",\"Western\"],\"xaxis\":\"x\",\"y\":[145.77565112408757,84.99860751666667,129.89603066666666,60.12873150632911,33.88603693388429,37.251412741176466,42.98104484285714,219.555277,0.449191,81.75207822222222,30.439534444444444,14.555377],\"yaxis\":\"y\",\"type\":\"bar\"}],                        {\"template\":{\"data\":{\"histogram2dcontour\":[{\"type\":\"histogram2dcontour\",\"colorbar\":{\"outlinewidth\":0,\"ticks\":\"\"},\"colorscale\":[[0.0,\"#0d0887\"],[0.1111111111111111,\"#46039f\"],[0.2222222222222222,\"#7201a8\"],[0.3333333333333333,\"#9c179e\"],[0.4444444444444444,\"#bd3786\"],[0.5555555555555556,\"#d8576b\"],[0.6666666666666666,\"#ed7953\"],[0.7777777777777778,\"#fb9f3a\"],[0.8888888888888888,\"#fdca26\"],[1.0,\"#f0f921\"]]}],\"choropleth\":[{\"type\":\"choropleth\",\"colorbar\":{\"outlinewidth\":0,\"ticks\":\"\"}}],\"histogram2d\":[{\"type\":\"histogram2d\",\"colorbar\":{\"outlinewidth\":0,\"ticks\":\"\"},\"colorscale\":[[0.0,\"#0d0887\"],[0.1111111111111111,\"#46039f\"],[0.2222222222222222,\"#7201a8\"],[0.3333333333333333,\"#9c179e\"],[0.4444444444444444,\"#bd3786\"],[0.5555555555555556,\"#d8576b\"],[0.6666666666666666,\"#ed7953\"],[0.7777777777777778,\"#fb9f3a\"],[0.8888888888888888,\"#fdca26\"],[1.0,\"#f0f921\"]]}],\"heatmap\":[{\"type\":\"heatmap\",\"colorbar\":{\"outlinewidth\":0,\"ticks\":\"\"},\"colorscale\":[[0.0,\"#0d0887\"],[0.1111111111111111,\"#46039f\"],[0.2222222222222222,\"#7201a8\"],[0.3333333333333333,\"#9c179e\"],[0.4444444444444444,\"#bd3786\"],[0.5555555555555556,\"#d8576b\"],[0.6666666666666666,\"#ed7953\"],[0.7777777777777778,\"#fb9f3a\"],[0.8888888888888888,\"#fdca26\"],[1.0,\"#f0f921\"]]}],\"heatmapgl\":[{\"type\":\"heatmapgl\",\"colorbar\":{\"outlinewidth\":0,\"ticks\":\"\"},\"colorscale\":[[0.0,\"#0d0887\"],[0.1111111111111111,\"#46039f\"],[0.2222222222222222,\"#7201a8\"],[0.3333333333333333,\"#9c179e\"],[0.4444444444444444,\"#bd3786\"],[0.5555555555555556,\"#d8576b\"],[0.6666666666666666,\"#ed7953\"],[0.7777777777777778,\"#fb9f3a\"],[0.8888888888888888,\"#fdca26\"],[1.0,\"#f0f921\"]]}],\"contourcarpet\":[{\"type\":\"contourcarpet\",\"colorbar\":{\"outlinewidth\":0,\"ticks\":\"\"}}],\"contour\":[{\"type\":\"contour\",\"colorbar\":{\"outlinewidth\":0,\"ticks\":\"\"},\"colorscale\":[[0.0,\"#0d0887\"],[0.1111111111111111,\"#46039f\"],[0.2222222222222222,\"#7201a8\"],[0.3333333333333333,\"#9c179e\"],[0.4444444444444444,\"#bd3786\"],[0.5555555555555556,\"#d8576b\"],[0.6666666666666666,\"#ed7953\"],[0.7777777777777778,\"#fb9f3a\"],[0.8888888888888888,\"#fdca26\"],[1.0,\"#f0f921\"]]}],\"surface\":[{\"type\":\"surface\",\"colorbar\":{\"outlinewidth\":0,\"ticks\":\"\"},\"colorscale\":[[0.0,\"#0d0887\"],[0.1111111111111111,\"#46039f\"],[0.2222222222222222,\"#7201a8\"],[0.3333333333333333,\"#9c179e\"],[0.4444444444444444,\"#bd3786\"],[0.5555555555555556,\"#d8576b\"],[0.6666666666666666,\"#ed7953\"],[0.7777777777777778,\"#fb9f3a\"],[0.8888888888888888,\"#fdca26\"],[1.0,\"#f0f921\"]]}],\"mesh3d\":[{\"type\":\"mesh3d\",\"colorbar\":{\"outlinewidth\":0,\"ticks\":\"\"}}],\"scatter\":[{\"fillpattern\":{\"fillmode\":\"overlay\",\"size\":10,\"solidity\":0.2},\"type\":\"scatter\"}],\"parcoords\":[{\"type\":\"parcoords\",\"line\":{\"colorbar\":{\"outlinewidth\":0,\"ticks\":\"\"}}}],\"scatterpolargl\":[{\"type\":\"scatterpolargl\",\"marker\":{\"colorbar\":{\"outlinewidth\":0,\"ticks\":\"\"}}}],\"bar\":[{\"error_x\":{\"color\":\"#2a3f5f\"},\"error_y\":{\"color\":\"#2a3f5f\"},\"marker\":{\"line\":{\"color\":\"#E5ECF6\",\"width\":0.5},\"pattern\":{\"fillmode\":\"overlay\",\"size\":10,\"solidity\":0.2}},\"type\":\"bar\"}],\"scattergeo\":[{\"type\":\"scattergeo\",\"marker\":{\"colorbar\":{\"outlinewidth\":0,\"ticks\":\"\"}}}],\"scatterpolar\":[{\"type\":\"scatterpolar\",\"marker\":{\"colorbar\":{\"outlinewidth\":0,\"ticks\":\"\"}}}],\"histogram\":[{\"marker\":{\"pattern\":{\"fillmode\":\"overlay\",\"size\":10,\"solidity\":0.2}},\"type\":\"histogram\"}],\"scattergl\":[{\"type\":\"scattergl\",\"marker\":{\"colorbar\":{\"outlinewidth\":0,\"ticks\":\"\"}}}],\"scatter3d\":[{\"type\":\"scatter3d\",\"line\":{\"colorbar\":{\"outlinewidth\":0,\"ticks\":\"\"}},\"marker\":{\"colorbar\":{\"outlinewidth\":0,\"ticks\":\"\"}}}],\"scattermapbox\":[{\"type\":\"scattermapbox\",\"marker\":{\"colorbar\":{\"outlinewidth\":0,\"ticks\":\"\"}}}],\"scatterternary\":[{\"type\":\"scatterternary\",\"marker\":{\"colorbar\":{\"outlinewidth\":0,\"ticks\":\"\"}}}],\"scattercarpet\":[{\"type\":\"scattercarpet\",\"marker\":{\"colorbar\":{\"outlinewidth\":0,\"ticks\":\"\"}}}],\"carpet\":[{\"aaxis\":{\"endlinecolor\":\"#2a3f5f\",\"gridcolor\":\"white\",\"linecolor\":\"white\",\"minorgridcolor\":\"white\",\"startlinecolor\":\"#2a3f5f\"},\"baxis\":{\"endlinecolor\":\"#2a3f5f\",\"gridcolor\":\"white\",\"linecolor\":\"white\",\"minorgridcolor\":\"white\",\"startlinecolor\":\"#2a3f5f\"},\"type\":\"carpet\"}],\"table\":[{\"cells\":{\"fill\":{\"color\":\"#EBF0F8\"},\"line\":{\"color\":\"white\"}},\"header\":{\"fill\":{\"color\":\"#C8D4E3\"},\"line\":{\"color\":\"white\"}},\"type\":\"table\"}],\"barpolar\":[{\"marker\":{\"line\":{\"color\":\"#E5ECF6\",\"width\":0.5},\"pattern\":{\"fillmode\":\"overlay\",\"size\":10,\"solidity\":0.2}},\"type\":\"barpolar\"}],\"pie\":[{\"automargin\":true,\"type\":\"pie\"}]},\"layout\":{\"autotypenumbers\":\"strict\",\"colorway\":[\"#636efa\",\"#EF553B\",\"#00cc96\",\"#ab63fa\",\"#FFA15A\",\"#19d3f3\",\"#FF6692\",\"#B6E880\",\"#FF97FF\",\"#FECB52\"],\"font\":{\"color\":\"#2a3f5f\"},\"hovermode\":\"closest\",\"hoverlabel\":{\"align\":\"left\"},\"paper_bgcolor\":\"white\",\"plot_bgcolor\":\"#E5ECF6\",\"polar\":{\"bgcolor\":\"#E5ECF6\",\"angularaxis\":{\"gridcolor\":\"white\",\"linecolor\":\"white\",\"ticks\":\"\"},\"radialaxis\":{\"gridcolor\":\"white\",\"linecolor\":\"white\",\"ticks\":\"\"}},\"ternary\":{\"bgcolor\":\"#E5ECF6\",\"aaxis\":{\"gridcolor\":\"white\",\"linecolor\":\"white\",\"ticks\":\"\"},\"baxis\":{\"gridcolor\":\"white\",\"linecolor\":\"white\",\"ticks\":\"\"},\"caxis\":{\"gridcolor\":\"white\",\"linecolor\":\"white\",\"ticks\":\"\"}},\"coloraxis\":{\"colorbar\":{\"outlinewidth\":0,\"ticks\":\"\"}},\"colorscale\":{\"sequential\":[[0.0,\"#0d0887\"],[0.1111111111111111,\"#46039f\"],[0.2222222222222222,\"#7201a8\"],[0.3333333333333333,\"#9c179e\"],[0.4444444444444444,\"#bd3786\"],[0.5555555555555556,\"#d8576b\"],[0.6666666666666666,\"#ed7953\"],[0.7777777777777778,\"#fb9f3a\"],[0.8888888888888888,\"#fdca26\"],[1.0,\"#f0f921\"]],\"sequentialminus\":[[0.0,\"#0d0887\"],[0.1111111111111111,\"#46039f\"],[0.2222222222222222,\"#7201a8\"],[0.3333333333333333,\"#9c179e\"],[0.4444444444444444,\"#bd3786\"],[0.5555555555555556,\"#d8576b\"],[0.6666666666666666,\"#ed7953\"],[0.7777777777777778,\"#fb9f3a\"],[0.8888888888888888,\"#fdca26\"],[1.0,\"#f0f921\"]],\"diverging\":[[0,\"#8e0152\"],[0.1,\"#c51b7d\"],[0.2,\"#de77ae\"],[0.3,\"#f1b6da\"],[0.4,\"#fde0ef\"],[0.5,\"#f7f7f7\"],[0.6,\"#e6f5d0\"],[0.7,\"#b8e186\"],[0.8,\"#7fbc41\"],[0.9,\"#4d9221\"],[1,\"#276419\"]]},\"xaxis\":{\"gridcolor\":\"white\",\"linecolor\":\"white\",\"ticks\":\"\",\"title\":{\"standoff\":15},\"zerolinecolor\":\"white\",\"automargin\":true,\"zerolinewidth\":2},\"yaxis\":{\"gridcolor\":\"white\",\"linecolor\":\"white\",\"ticks\":\"\",\"title\":{\"standoff\":15},\"zerolinecolor\":\"white\",\"automargin\":true,\"zerolinewidth\":2},\"scene\":{\"xaxis\":{\"backgroundcolor\":\"#E5ECF6\",\"gridcolor\":\"white\",\"linecolor\":\"white\",\"showbackground\":true,\"ticks\":\"\",\"zerolinecolor\":\"white\",\"gridwidth\":2},\"yaxis\":{\"backgroundcolor\":\"#E5ECF6\",\"gridcolor\":\"white\",\"linecolor\":\"white\",\"showbackground\":true,\"ticks\":\"\",\"zerolinecolor\":\"white\",\"gridwidth\":2},\"zaxis\":{\"backgroundcolor\":\"#E5ECF6\",\"gridcolor\":\"white\",\"linecolor\":\"white\",\"showbackground\":true,\"ticks\":\"\",\"zerolinecolor\":\"white\",\"gridwidth\":2}},\"shapedefaults\":{\"line\":{\"color\":\"#2a3f5f\"}},\"annotationdefaults\":{\"arrowcolor\":\"#2a3f5f\",\"arrowhead\":0,\"arrowwidth\":1},\"geo\":{\"bgcolor\":\"white\",\"landcolor\":\"#E5ECF6\",\"subunitcolor\":\"white\",\"showland\":true,\"showlakes\":true,\"lakecolor\":\"white\"},\"title\":{\"x\":0.05},\"mapbox\":{\"style\":\"light\"}}},\"xaxis\":{\"anchor\":\"y\",\"domain\":[0.0,1.0],\"title\":{\"text\":\"Primary Genre\"},\"categoryorder\":\"total descending\"},\"yaxis\":{\"anchor\":\"x\",\"domain\":[0.0,1.0],\"title\":{\"text\":\"Gross Revenue\"}},\"legend\":{\"tracegroupgap\":0},\"margin\":{\"t\":60},\"barmode\":\"relative\",\"title\":{\"text\":\"Primary Genre vs Gross Revenue\"}},                        {\"responsive\": true}                    ).then(function(){\n",
       "                            \n",
       "var gd = document.getElementById('766e0f69-9478-4ea3-a015-1538b5584052');\n",
       "var x = new MutationObserver(function (mutations, observer) {{\n",
       "        var display = window.getComputedStyle(gd).display;\n",
       "        if (!display || display === 'none') {{\n",
       "            console.log([gd, 'removed!']);\n",
       "            Plotly.purge(gd);\n",
       "            observer.disconnect();\n",
       "        }}\n",
       "}});\n",
       "\n",
       "// Listen for the removal of the full notebook cells\n",
       "var notebookContainer = gd.closest('#notebook-container');\n",
       "if (notebookContainer) {{\n",
       "    x.observe(notebookContainer, {childList: true});\n",
       "}}\n",
       "\n",
       "// Listen for the clearing of the current output cell\n",
       "var outputEl = gd.closest('.output');\n",
       "if (outputEl) {{\n",
       "    x.observe(outputEl, {childList: true});\n",
       "}}\n",
       "\n",
       "                        })                };                });            </script>        </div>"
      ]
     },
     "metadata": {},
     "output_type": "display_data"
    }
   ],
   "source": [
    "# Bar plot\n",
    "# Average Gross Revenue per Primary Genre\n",
    "# Family movies gross the most on average\n",
    "\n",
    "fig = px.bar(data[['Primary Genre','Gross Revenue']].groupby('Primary Genre').mean().reset_index(), x='Primary Genre', y='Gross Revenue')\n",
    "fig.update_layout(title='Primary Genre vs Gross Revenue', xaxis={'categoryorder':'total descending'})\n",
    "fig.show()"
   ]
  },
  {
   "cell_type": "code",
   "execution_count": 16,
   "id": "a03157fb",
   "metadata": {
    "execution": {
     "iopub.execute_input": "2024-01-05T16:40:25.361405Z",
     "iopub.status.busy": "2024-01-05T16:40:25.360957Z",
     "iopub.status.idle": "2024-01-05T16:40:25.407804Z",
     "shell.execute_reply": "2024-01-05T16:40:25.406770Z"
    },
    "papermill": {
     "duration": 0.059859,
     "end_time": "2024-01-05T16:40:25.409702",
     "exception": false,
     "start_time": "2024-01-05T16:40:25.349843",
     "status": "completed"
    },
    "tags": []
   },
   "outputs": [
    {
     "data": {
      "text/html": [
       "<div>                            <div id=\"03ae7c78-c66c-4d3f-be70-939f80e981cf\" class=\"plotly-graph-div\" style=\"height:525px; width:100%;\"></div>            <script type=\"text/javascript\">                require([\"plotly\"], function(Plotly) {                    window.PLOTLYENV=window.PLOTLYENV || {};                                    if (document.getElementById(\"03ae7c78-c66c-4d3f-be70-939f80e981cf\")) {                    Plotly.newPlot(                        \"03ae7c78-c66c-4d3f-be70-939f80e981cf\",                        [{\"domain\":{\"x\":[0.0,1.0],\"y\":[0.0,1.0]},\"hovertemplate\":\"Primary Genre=%{label}\\u003cextra\\u003e\\u003c\\u002fextra\\u003e\",\"labels\":[\"Drama\",\"Crime\",\"Action\",\"Crime\",\"Crime\",\"Action\",\"Crime\",\"Biography\",\"Action\",\"Drama\",\"Action\",\"Drama\",\"Western\",\"Action\",\"Action\",\"Biography\",\"Action\",\"Drama\",\"Comedy\",\"Adventure\",\"Crime\",\"Animation\",\"Drama\",\"Crime\",\"Comedy\",\"Crime\",\"Crime\",\"Action\",\"Action\",\"Crime\",\"Drama\",\"Biography\",\"Drama\",\"Crime\",\"Biography\",\"Action\",\"Drama\",\"Crime\",\"Action\",\"Animation\",\"Action\",\"Drama\",\"Adventure\",\"Western\",\"Horror\",\"Drama\",\"Comedy\",\"Comedy\",\"Drama\",\"Animation\",\"Action\",\"Animation\",\"Action\",\"Action\",\"Animation\",\"Drama\",\"Action\",\"Comedy\",\"Drama\",\"Animation\",\"Drama\",\"Action\",\"Mystery\",\"Animation\",\"Crime\",\"Action\",\"Drama\",\"Drama\",\"Horror\",\"Comedy\",\"Crime\",\"Mystery\",\"Comedy\",\"Drama\",\"Crime\",\"Drama\",\"Drama\",\"Drama\",\"Adventure\",\"Drama\",\"Comedy\",\"Comedy\",\"Drama\",\"Drama\",\"Drama\",\"Drama\",\"Animation\",\"Biography\",\"Crime\",\"Drama\",\"Action\",\"Biography\",\"Crime\",\"Action\",\"Adventure\",\"Crime\",\"Comedy\",\"Crime\",\"Adventure\",\"Western\",\"Adventure\",\"Comedy\",\"Adventure\",\"Mystery\",\"Comedy\",\"Crime\",\"Drama\",\"Crime\",\"Comedy\",\"Comedy\",\"Action\",\"Biography\",\"Comedy\",\"Crime\",\"Action\",\"Crime\",\"Adventure\",\"Biography\",\"Drama\",\"Action\",\"Drama\",\"Action\",\"Mystery\",\"Animation\",\"Biography\",\"Drama\",\"Drama\",\"Drama\",\"Animation\",\"Action\",\"Comedy\",\"Drama\",\"Action\",\"Drama\",\"Biography\",\"Animation\",\"Biography\",\"Action\",\"Crime\",\"Crime\",\"Crime\",\"Drama\",\"Action\",\"Comedy\",\"Animation\",\"Action\",\"Action\",\"Biography\",\"Drama\",\"Adventure\",\"Adventure\",\"Comedy\",\"Crime\",\"Drama\",\"Adventure\",\"Adventure\",\"Action\",\"Drama\",\"Drama\",\"Drama\",\"Drama\",\"Action\",\"Action\",\"Drama\",\"Comedy\",\"Comedy\",\"Comedy\",\"Adventure\",\"Drama\",\"Biography\",\"Animation\",\"Comedy\",\"Biography\",\"Action\",\"Action\",\"Biography\",\"Animation\",\"Mystery\",\"Comedy\",\"Crime\",\"Action\",\"Drama\",\"Adventure\",\"Drama\",\"Animation\",\"Adventure\",\"Crime\",\"Comedy\",\"Drama\",\"Biography\",\"Action\",\"Drama\",\"Crime\",\"Action\",\"Animation\",\"Biography\",\"Drama\",\"Animation\",\"Adventure\",\"Drama\",\"Drama\",\"Comedy\",\"Comedy\",\"Comedy\",\"Drama\",\"Drama\",\"Crime\",\"Crime\",\"Drama\",\"Drama\",\"Comedy\",\"Action\",\"Biography\",\"Drama\",\"Drama\",\"Comedy\",\"Adventure\",\"Drama\",\"Drama\",\"Animation\",\"Horror\",\"Drama\",\"Drama\",\"Action\",\"Comedy\",\"Drama\",\"Drama\",\"Biography\",\"Drama\",\"Comedy\",\"Drama\",\"Crime\",\"Crime\",\"Biography\",\"Drama\",\"Drama\",\"Adventure\",\"Adventure\",\"Crime\",\"Drama\",\"Film-Noir\",\"Drama\",\"Comedy\",\"Drama\",\"Comedy\",\"Biography\",\"Drama\",\"Action\",\"Action\",\"Comedy\",\"Biography\",\"Adventure\",\"Animation\",\"Action\",\"Animation\",\"Drama\",\"Drama\",\"Crime\",\"Drama\",\"Action\",\"Biography\",\"Action\",\"Action\",\"Drama\",\"Biography\",\"Action\",\"Drama\",\"Biography\",\"Drama\",\"Action\",\"Drama\",\"Drama\",\"Drama\",\"Drama\",\"Drama\",\"Action\",\"Action\",\"Animation\",\"Biography\",\"Biography\",\"Adventure\",\"Action\",\"Crime\",\"Crime\",\"Biography\",\"Animation\",\"Action\",\"Action\",\"Drama\",\"Biography\",\"Biography\",\"Comedy\",\"Action\",\"Action\",\"Adventure\",\"Animation\",\"Crime\",\"Drama\",\"Drama\",\"Crime\",\"Biography\",\"Animation\",\"Drama\",\"Drama\",\"Animation\",\"Drama\",\"Comedy\",\"Mystery\",\"Animation\",\"Animation\",\"Comedy\",\"Crime\",\"Drama\",\"Animation\",\"Drama\",\"Animation\",\"Adventure\",\"Comedy\",\"Drama\",\"Animation\",\"Adventure\",\"Drama\",\"Drama\",\"Action\",\"Biography\",\"Comedy\",\"Comedy\",\"Adventure\",\"Biography\",\"Comedy\",\"Biography\",\"Horror\",\"Mystery\",\"Drama\",\"Drama\",\"Drama\",\"Biography\",\"Adventure\",\"Comedy\",\"Biography\",\"Drama\",\"Action\",\"Drama\",\"Comedy\",\"Action\",\"Crime\",\"Drama\",\"Drama\",\"Drama\",\"Drama\",\"Drama\",\"Adventure\",\"Drama\",\"Comedy\",\"Crime\",\"Comedy\",\"Drama\",\"Drama\",\"Animation\",\"Adventure\",\"Comedy\",\"Comedy\",\"Action\",\"Crime\",\"Comedy\",\"Drama\",\"Action\",\"Drama\",\"Action\",\"Comedy\",\"Action\",\"Drama\",\"Biography\",\"Crime\",\"Drama\",\"Crime\",\"Action\",\"Drama\",\"Comedy\",\"Drama\",\"Action\",\"Comedy\",\"Action\",\"Adventure\",\"Adventure\",\"Animation\",\"Drama\",\"Action\",\"Comedy\",\"Crime\",\"Adventure\",\"Action\",\"Drama\",\"Comedy\",\"Animation\",\"Action\",\"Crime\",\"Adventure\",\"Adventure\",\"Drama\",\"Animation\",\"Drama\",\"Crime\",\"Crime\",\"Drama\",\"Crime\",\"Drama\",\"Biography\",\"Comedy\",\"Crime\",\"Comedy\",\"Drama\",\"Comedy\",\"Comedy\",\"Action\",\"Comedy\",\"Drama\",\"Action\",\"Biography\",\"Adventure\",\"Comedy\",\"Biography\",\"Action\",\"Biography\",\"Crime\",\"Comedy\",\"Adventure\",\"Adventure\",\"Drama\",\"Crime\",\"Drama\",\"Crime\",\"Drama\",\"Comedy\",\"Action\",\"Comedy\",\"Adventure\",\"Drama\",\"Action\",\"Biography\",\"Adventure\",\"Animation\",\"Biography\",\"Drama\",\"Drama\",\"Action\",\"Action\",\"Crime\",\"Drama\",\"Animation\",\"Drama\",\"Drama\",\"Comedy\",\"Animation\",\"Comedy\",\"Comedy\",\"Animation\",\"Animation\",\"Crime\",\"Comedy\",\"Animation\",\"Biography\",\"Crime\",\"Adventure\",\"Action\",\"Biography\",\"Crime\",\"Adventure\",\"Drama\",\"Crime\",\"Biography\",\"Action\",\"Drama\",\"Drama\",\"Adventure\",\"Drama\",\"Crime\",\"Biography\",\"Action\",\"Drama\",\"Action\",\"Comedy\",\"Action\",\"Drama\",\"Drama\",\"Comedy\",\"Drama\",\"Biography\",\"Animation\",\"Action\",\"Biography\",\"Drama\",\"Adventure\",\"Crime\",\"Animation\",\"Action\",\"Animation\",\"Biography\",\"Action\",\"Drama\",\"Adventure\",\"Action\",\"Biography\",\"Biography\",\"Animation\",\"Drama\",\"Drama\",\"Action\",\"Drama\",\"Biography\",\"Drama\",\"Action\",\"Comedy\",\"Drama\",\"Action\",\"Crime\",\"Animation\",\"Comedy\",\"Drama\",\"Crime\",\"Drama\",\"Biography\",\"Biography\",\"Adventure\",\"Crime\",\"Action\",\"Action\",\"Comedy\",\"Comedy\",\"Adventure\",\"Drama\",\"Comedy\",\"Biography\",\"Action\",\"Adventure\",\"Comedy\",\"Family\",\"Drama\",\"Western\",\"Drama\",\"Animation\",\"Crime\",\"Drama\",\"Family\",\"Drama\",\"Drama\",\"Comedy\",\"Action\",\"Horror\",\"Crime\",\"Action\",\"Crime\",\"Horror\",\"Action\",\"Comedy\",\"Comedy\",\"Animation\",\"Biography\",\"Action\",\"Drama\",\"Comedy\",\"Comedy\",\"Drama\",\"Drama\",\"Action\",\"Drama\",\"Adventure\",\"Animation\",\"Animation\",\"Comedy\",\"Animation\",\"Drama\",\"Action\",\"Biography\",\"Action\",\"Comedy\",\"Action\",\"Comedy\",\"Biography\",\"Comedy\",\"Adventure\",\"Animation\",\"Biography\",\"Animation\",\"Biography\",\"Comedy\",\"Drama\",\"Drama\",\"Biography\",\"Crime\",\"Action\",\"Drama\",\"Biography\",\"Animation\",\"Drama\",\"Drama\",\"Action\",\"Crime\",\"Action\",\"Action\",\"Drama\",\"Biography\",\"Comedy\",\"Adventure\",\"Action\",\"Animation\",\"Action\",\"Drama\",\"Comedy\",\"Drama\",\"Drama\",\"Comedy\",\"Drama\",\"Crime\",\"Drama\",\"Drama\",\"Comedy\",\"Crime\",\"Animation\",\"Adventure\",\"Animation\",\"Comedy\",\"Crime\",\"Comedy\",\"Drama\",\"Comedy\",\"Comedy\",\"Action\",\"Comedy\",\"Biography\",\"Biography\",\"Crime\",\"Drama\",\"Drama\",\"Biography\",\"Comedy\",\"Comedy\",\"Drama\",\"Comedy\",\"Biography\",\"Action\",\"Crime\",\"Drama\",\"Drama\",\"Comedy\",\"Crime\",\"Animation\",\"Comedy\",\"Biography\",\"Action\",\"Crime\",\"Drama\",\"Comedy\",\"Comedy\",\"Comedy\",\"Drama\",\"Action\",\"Action\",\"Drama\",\"Comedy\",\"Horror\",\"Drama\",\"Comedy\",\"Biography\",\"Action\",\"Adventure\",\"Action\",\"Action\",\"Comedy\",\"Drama\",\"Biography\",\"Action\",\"Drama\",\"Action\",\"Comedy\",\"Adventure\",\"Animation\",\"Drama\",\"Comedy\",\"Drama\",\"Drama\",\"Drama\",\"Adventure\",\"Drama\",\"Action\",\"Action\",\"Action\",\"Drama\",\"Animation\",\"Animation\",\"Action\",\"Drama\",\"Crime\",\"Action\",\"Biography\",\"Action\",\"Action\",\"Action\",\"Animation\",\"Drama\",\"Drama\",\"Drama\",\"Animation\",\"Comedy\",\"Action\",\"Biography\",\"Drama\",\"Adventure\",\"Action\",\"Biography\",\"Drama\",\"Drama\",\"Action\",\"Adventure\",\"Crime\",\"Crime\",\"Biography\",\"Action\",\"Drama\",\"Action\",\"Action\",\"Drama\",\"Action\",\"Action\",\"Horror\",\"Drama\",\"Drama\",\"Comedy\",\"Drama\",\"Comedy\",\"Crime\",\"Crime\",\"Biography\",\"Drama\",\"Drama\",\"Drama\",\"Comedy\",\"Drama\",\"Adventure\",\"Horror\",\"Biography\",\"Drama\",\"Action\",\"Biography\",\"Comedy\",\"Crime\",\"Drama\",\"Animation\",\"Adventure\",\"Mystery\",\"Crime\",\"Mystery\",\"Drama\",\"Action\",\"Adventure\",\"Drama\",\"Comedy\",\"Action\",\"Comedy\",\"Comedy\",\"Animation\",\"Comedy\",\"Comedy\",\"Crime\",\"Comedy\",\"Animation\",\"Comedy\",\"Comedy\",\"Action\",\"Crime\",\"Drama\",\"Action\",\"Action\",\"Adventure\",\"Action\",\"Biography\",\"Drama\",\"Comedy\",\"Drama\",\"Adventure\",\"Animation\",\"Comedy\",\"Drama\"],\"legendgroup\":\"\",\"name\":\"\",\"showlegend\":true,\"type\":\"pie\"}],                        {\"template\":{\"data\":{\"histogram2dcontour\":[{\"type\":\"histogram2dcontour\",\"colorbar\":{\"outlinewidth\":0,\"ticks\":\"\"},\"colorscale\":[[0.0,\"#0d0887\"],[0.1111111111111111,\"#46039f\"],[0.2222222222222222,\"#7201a8\"],[0.3333333333333333,\"#9c179e\"],[0.4444444444444444,\"#bd3786\"],[0.5555555555555556,\"#d8576b\"],[0.6666666666666666,\"#ed7953\"],[0.7777777777777778,\"#fb9f3a\"],[0.8888888888888888,\"#fdca26\"],[1.0,\"#f0f921\"]]}],\"choropleth\":[{\"type\":\"choropleth\",\"colorbar\":{\"outlinewidth\":0,\"ticks\":\"\"}}],\"histogram2d\":[{\"type\":\"histogram2d\",\"colorbar\":{\"outlinewidth\":0,\"ticks\":\"\"},\"colorscale\":[[0.0,\"#0d0887\"],[0.1111111111111111,\"#46039f\"],[0.2222222222222222,\"#7201a8\"],[0.3333333333333333,\"#9c179e\"],[0.4444444444444444,\"#bd3786\"],[0.5555555555555556,\"#d8576b\"],[0.6666666666666666,\"#ed7953\"],[0.7777777777777778,\"#fb9f3a\"],[0.8888888888888888,\"#fdca26\"],[1.0,\"#f0f921\"]]}],\"heatmap\":[{\"type\":\"heatmap\",\"colorbar\":{\"outlinewidth\":0,\"ticks\":\"\"},\"colorscale\":[[0.0,\"#0d0887\"],[0.1111111111111111,\"#46039f\"],[0.2222222222222222,\"#7201a8\"],[0.3333333333333333,\"#9c179e\"],[0.4444444444444444,\"#bd3786\"],[0.5555555555555556,\"#d8576b\"],[0.6666666666666666,\"#ed7953\"],[0.7777777777777778,\"#fb9f3a\"],[0.8888888888888888,\"#fdca26\"],[1.0,\"#f0f921\"]]}],\"heatmapgl\":[{\"type\":\"heatmapgl\",\"colorbar\":{\"outlinewidth\":0,\"ticks\":\"\"},\"colorscale\":[[0.0,\"#0d0887\"],[0.1111111111111111,\"#46039f\"],[0.2222222222222222,\"#7201a8\"],[0.3333333333333333,\"#9c179e\"],[0.4444444444444444,\"#bd3786\"],[0.5555555555555556,\"#d8576b\"],[0.6666666666666666,\"#ed7953\"],[0.7777777777777778,\"#fb9f3a\"],[0.8888888888888888,\"#fdca26\"],[1.0,\"#f0f921\"]]}],\"contourcarpet\":[{\"type\":\"contourcarpet\",\"colorbar\":{\"outlinewidth\":0,\"ticks\":\"\"}}],\"contour\":[{\"type\":\"contour\",\"colorbar\":{\"outlinewidth\":0,\"ticks\":\"\"},\"colorscale\":[[0.0,\"#0d0887\"],[0.1111111111111111,\"#46039f\"],[0.2222222222222222,\"#7201a8\"],[0.3333333333333333,\"#9c179e\"],[0.4444444444444444,\"#bd3786\"],[0.5555555555555556,\"#d8576b\"],[0.6666666666666666,\"#ed7953\"],[0.7777777777777778,\"#fb9f3a\"],[0.8888888888888888,\"#fdca26\"],[1.0,\"#f0f921\"]]}],\"surface\":[{\"type\":\"surface\",\"colorbar\":{\"outlinewidth\":0,\"ticks\":\"\"},\"colorscale\":[[0.0,\"#0d0887\"],[0.1111111111111111,\"#46039f\"],[0.2222222222222222,\"#7201a8\"],[0.3333333333333333,\"#9c179e\"],[0.4444444444444444,\"#bd3786\"],[0.5555555555555556,\"#d8576b\"],[0.6666666666666666,\"#ed7953\"],[0.7777777777777778,\"#fb9f3a\"],[0.8888888888888888,\"#fdca26\"],[1.0,\"#f0f921\"]]}],\"mesh3d\":[{\"type\":\"mesh3d\",\"colorbar\":{\"outlinewidth\":0,\"ticks\":\"\"}}],\"scatter\":[{\"fillpattern\":{\"fillmode\":\"overlay\",\"size\":10,\"solidity\":0.2},\"type\":\"scatter\"}],\"parcoords\":[{\"type\":\"parcoords\",\"line\":{\"colorbar\":{\"outlinewidth\":0,\"ticks\":\"\"}}}],\"scatterpolargl\":[{\"type\":\"scatterpolargl\",\"marker\":{\"colorbar\":{\"outlinewidth\":0,\"ticks\":\"\"}}}],\"bar\":[{\"error_x\":{\"color\":\"#2a3f5f\"},\"error_y\":{\"color\":\"#2a3f5f\"},\"marker\":{\"line\":{\"color\":\"#E5ECF6\",\"width\":0.5},\"pattern\":{\"fillmode\":\"overlay\",\"size\":10,\"solidity\":0.2}},\"type\":\"bar\"}],\"scattergeo\":[{\"type\":\"scattergeo\",\"marker\":{\"colorbar\":{\"outlinewidth\":0,\"ticks\":\"\"}}}],\"scatterpolar\":[{\"type\":\"scatterpolar\",\"marker\":{\"colorbar\":{\"outlinewidth\":0,\"ticks\":\"\"}}}],\"histogram\":[{\"marker\":{\"pattern\":{\"fillmode\":\"overlay\",\"size\":10,\"solidity\":0.2}},\"type\":\"histogram\"}],\"scattergl\":[{\"type\":\"scattergl\",\"marker\":{\"colorbar\":{\"outlinewidth\":0,\"ticks\":\"\"}}}],\"scatter3d\":[{\"type\":\"scatter3d\",\"line\":{\"colorbar\":{\"outlinewidth\":0,\"ticks\":\"\"}},\"marker\":{\"colorbar\":{\"outlinewidth\":0,\"ticks\":\"\"}}}],\"scattermapbox\":[{\"type\":\"scattermapbox\",\"marker\":{\"colorbar\":{\"outlinewidth\":0,\"ticks\":\"\"}}}],\"scatterternary\":[{\"type\":\"scatterternary\",\"marker\":{\"colorbar\":{\"outlinewidth\":0,\"ticks\":\"\"}}}],\"scattercarpet\":[{\"type\":\"scattercarpet\",\"marker\":{\"colorbar\":{\"outlinewidth\":0,\"ticks\":\"\"}}}],\"carpet\":[{\"aaxis\":{\"endlinecolor\":\"#2a3f5f\",\"gridcolor\":\"white\",\"linecolor\":\"white\",\"minorgridcolor\":\"white\",\"startlinecolor\":\"#2a3f5f\"},\"baxis\":{\"endlinecolor\":\"#2a3f5f\",\"gridcolor\":\"white\",\"linecolor\":\"white\",\"minorgridcolor\":\"white\",\"startlinecolor\":\"#2a3f5f\"},\"type\":\"carpet\"}],\"table\":[{\"cells\":{\"fill\":{\"color\":\"#EBF0F8\"},\"line\":{\"color\":\"white\"}},\"header\":{\"fill\":{\"color\":\"#C8D4E3\"},\"line\":{\"color\":\"white\"}},\"type\":\"table\"}],\"barpolar\":[{\"marker\":{\"line\":{\"color\":\"#E5ECF6\",\"width\":0.5},\"pattern\":{\"fillmode\":\"overlay\",\"size\":10,\"solidity\":0.2}},\"type\":\"barpolar\"}],\"pie\":[{\"automargin\":true,\"type\":\"pie\"}]},\"layout\":{\"autotypenumbers\":\"strict\",\"colorway\":[\"#636efa\",\"#EF553B\",\"#00cc96\",\"#ab63fa\",\"#FFA15A\",\"#19d3f3\",\"#FF6692\",\"#B6E880\",\"#FF97FF\",\"#FECB52\"],\"font\":{\"color\":\"#2a3f5f\"},\"hovermode\":\"closest\",\"hoverlabel\":{\"align\":\"left\"},\"paper_bgcolor\":\"white\",\"plot_bgcolor\":\"#E5ECF6\",\"polar\":{\"bgcolor\":\"#E5ECF6\",\"angularaxis\":{\"gridcolor\":\"white\",\"linecolor\":\"white\",\"ticks\":\"\"},\"radialaxis\":{\"gridcolor\":\"white\",\"linecolor\":\"white\",\"ticks\":\"\"}},\"ternary\":{\"bgcolor\":\"#E5ECF6\",\"aaxis\":{\"gridcolor\":\"white\",\"linecolor\":\"white\",\"ticks\":\"\"},\"baxis\":{\"gridcolor\":\"white\",\"linecolor\":\"white\",\"ticks\":\"\"},\"caxis\":{\"gridcolor\":\"white\",\"linecolor\":\"white\",\"ticks\":\"\"}},\"coloraxis\":{\"colorbar\":{\"outlinewidth\":0,\"ticks\":\"\"}},\"colorscale\":{\"sequential\":[[0.0,\"#0d0887\"],[0.1111111111111111,\"#46039f\"],[0.2222222222222222,\"#7201a8\"],[0.3333333333333333,\"#9c179e\"],[0.4444444444444444,\"#bd3786\"],[0.5555555555555556,\"#d8576b\"],[0.6666666666666666,\"#ed7953\"],[0.7777777777777778,\"#fb9f3a\"],[0.8888888888888888,\"#fdca26\"],[1.0,\"#f0f921\"]],\"sequentialminus\":[[0.0,\"#0d0887\"],[0.1111111111111111,\"#46039f\"],[0.2222222222222222,\"#7201a8\"],[0.3333333333333333,\"#9c179e\"],[0.4444444444444444,\"#bd3786\"],[0.5555555555555556,\"#d8576b\"],[0.6666666666666666,\"#ed7953\"],[0.7777777777777778,\"#fb9f3a\"],[0.8888888888888888,\"#fdca26\"],[1.0,\"#f0f921\"]],\"diverging\":[[0,\"#8e0152\"],[0.1,\"#c51b7d\"],[0.2,\"#de77ae\"],[0.3,\"#f1b6da\"],[0.4,\"#fde0ef\"],[0.5,\"#f7f7f7\"],[0.6,\"#e6f5d0\"],[0.7,\"#b8e186\"],[0.8,\"#7fbc41\"],[0.9,\"#4d9221\"],[1,\"#276419\"]]},\"xaxis\":{\"gridcolor\":\"white\",\"linecolor\":\"white\",\"ticks\":\"\",\"title\":{\"standoff\":15},\"zerolinecolor\":\"white\",\"automargin\":true,\"zerolinewidth\":2},\"yaxis\":{\"gridcolor\":\"white\",\"linecolor\":\"white\",\"ticks\":\"\",\"title\":{\"standoff\":15},\"zerolinecolor\":\"white\",\"automargin\":true,\"zerolinewidth\":2},\"scene\":{\"xaxis\":{\"backgroundcolor\":\"#E5ECF6\",\"gridcolor\":\"white\",\"linecolor\":\"white\",\"showbackground\":true,\"ticks\":\"\",\"zerolinecolor\":\"white\",\"gridwidth\":2},\"yaxis\":{\"backgroundcolor\":\"#E5ECF6\",\"gridcolor\":\"white\",\"linecolor\":\"white\",\"showbackground\":true,\"ticks\":\"\",\"zerolinecolor\":\"white\",\"gridwidth\":2},\"zaxis\":{\"backgroundcolor\":\"#E5ECF6\",\"gridcolor\":\"white\",\"linecolor\":\"white\",\"showbackground\":true,\"ticks\":\"\",\"zerolinecolor\":\"white\",\"gridwidth\":2}},\"shapedefaults\":{\"line\":{\"color\":\"#2a3f5f\"}},\"annotationdefaults\":{\"arrowcolor\":\"#2a3f5f\",\"arrowhead\":0,\"arrowwidth\":1},\"geo\":{\"bgcolor\":\"white\",\"landcolor\":\"#E5ECF6\",\"subunitcolor\":\"white\",\"showland\":true,\"showlakes\":true,\"lakecolor\":\"white\"},\"title\":{\"x\":0.05},\"mapbox\":{\"style\":\"light\"}}},\"legend\":{\"tracegroupgap\":0},\"margin\":{\"t\":60},\"title\":{\"text\":\"Distribution of Primary Genre\"}},                        {\"responsive\": true}                    ).then(function(){\n",
       "                            \n",
       "var gd = document.getElementById('03ae7c78-c66c-4d3f-be70-939f80e981cf');\n",
       "var x = new MutationObserver(function (mutations, observer) {{\n",
       "        var display = window.getComputedStyle(gd).display;\n",
       "        if (!display || display === 'none') {{\n",
       "            console.log([gd, 'removed!']);\n",
       "            Plotly.purge(gd);\n",
       "            observer.disconnect();\n",
       "        }}\n",
       "}});\n",
       "\n",
       "// Listen for the removal of the full notebook cells\n",
       "var notebookContainer = gd.closest('#notebook-container');\n",
       "if (notebookContainer) {{\n",
       "    x.observe(notebookContainer, {childList: true});\n",
       "}}\n",
       "\n",
       "// Listen for the clearing of the current output cell\n",
       "var outputEl = gd.closest('.output');\n",
       "if (outputEl) {{\n",
       "    x.observe(outputEl, {childList: true});\n",
       "}}\n",
       "\n",
       "                        })                };                });            </script>        </div>"
      ]
     },
     "metadata": {},
     "output_type": "display_data"
    }
   ],
   "source": [
    "# Pie chart\n",
    "# Distribution of Primary Genre\n",
    "# Drama, Action, and Comedy make up most of the top 1000 movies\n",
    "# Family has a very small percentage even though it has the highest average gross\n",
    "\n",
    "fig = px.pie(data['Primary Genre'], names='Primary Genre')\n",
    "fig.update_layout(title='Distribution of Primary Genre')\n",
    "fig.show()"
   ]
  },
  {
   "cell_type": "code",
   "execution_count": 17,
   "id": "6b516738",
   "metadata": {
    "execution": {
     "iopub.execute_input": "2024-01-05T16:40:25.432090Z",
     "iopub.status.busy": "2024-01-05T16:40:25.431701Z",
     "iopub.status.idle": "2024-01-05T16:40:25.490249Z",
     "shell.execute_reply": "2024-01-05T16:40:25.489074Z"
    },
    "papermill": {
     "duration": 0.072152,
     "end_time": "2024-01-05T16:40:25.492358",
     "exception": false,
     "start_time": "2024-01-05T16:40:25.420206",
     "status": "completed"
    },
    "tags": []
   },
   "outputs": [
    {
     "data": {
      "text/html": [
       "<div>                            <div id=\"dde8482e-302c-453a-9e7e-31d00669bcfa\" class=\"plotly-graph-div\" style=\"height:525px; width:100%;\"></div>            <script type=\"text/javascript\">                require([\"plotly\"], function(Plotly) {                    window.PLOTLYENV=window.PLOTLYENV || {};                                    if (document.getElementById(\"dde8482e-302c-453a-9e7e-31d00669bcfa\")) {                    Plotly.newPlot(                        \"dde8482e-302c-453a-9e7e-31d00669bcfa\",                        [{\"alignmentgroup\":\"True\",\"hovertemplate\":\"Genres=%{x}\\u003cbr\\u003eGross Revenue=%{y}\\u003cextra\\u003e\\u003c\\u002fextra\\u003e\",\"legendgroup\":\"\",\"marker\":{\"color\":\"#636efa\",\"pattern\":{\"shape\":\"\"}},\"name\":\"\",\"offsetgroup\":\"\",\"orientation\":\"v\",\"showlegend\":false,\"textposition\":\"auto\",\"x\":[1,2,3],\"xaxis\":\"x\",\"y\":[35.276579144578314,61.80675522346368,81.00427821497121],\"yaxis\":\"y\",\"type\":\"bar\"}],                        {\"template\":{\"data\":{\"histogram2dcontour\":[{\"type\":\"histogram2dcontour\",\"colorbar\":{\"outlinewidth\":0,\"ticks\":\"\"},\"colorscale\":[[0.0,\"#0d0887\"],[0.1111111111111111,\"#46039f\"],[0.2222222222222222,\"#7201a8\"],[0.3333333333333333,\"#9c179e\"],[0.4444444444444444,\"#bd3786\"],[0.5555555555555556,\"#d8576b\"],[0.6666666666666666,\"#ed7953\"],[0.7777777777777778,\"#fb9f3a\"],[0.8888888888888888,\"#fdca26\"],[1.0,\"#f0f921\"]]}],\"choropleth\":[{\"type\":\"choropleth\",\"colorbar\":{\"outlinewidth\":0,\"ticks\":\"\"}}],\"histogram2d\":[{\"type\":\"histogram2d\",\"colorbar\":{\"outlinewidth\":0,\"ticks\":\"\"},\"colorscale\":[[0.0,\"#0d0887\"],[0.1111111111111111,\"#46039f\"],[0.2222222222222222,\"#7201a8\"],[0.3333333333333333,\"#9c179e\"],[0.4444444444444444,\"#bd3786\"],[0.5555555555555556,\"#d8576b\"],[0.6666666666666666,\"#ed7953\"],[0.7777777777777778,\"#fb9f3a\"],[0.8888888888888888,\"#fdca26\"],[1.0,\"#f0f921\"]]}],\"heatmap\":[{\"type\":\"heatmap\",\"colorbar\":{\"outlinewidth\":0,\"ticks\":\"\"},\"colorscale\":[[0.0,\"#0d0887\"],[0.1111111111111111,\"#46039f\"],[0.2222222222222222,\"#7201a8\"],[0.3333333333333333,\"#9c179e\"],[0.4444444444444444,\"#bd3786\"],[0.5555555555555556,\"#d8576b\"],[0.6666666666666666,\"#ed7953\"],[0.7777777777777778,\"#fb9f3a\"],[0.8888888888888888,\"#fdca26\"],[1.0,\"#f0f921\"]]}],\"heatmapgl\":[{\"type\":\"heatmapgl\",\"colorbar\":{\"outlinewidth\":0,\"ticks\":\"\"},\"colorscale\":[[0.0,\"#0d0887\"],[0.1111111111111111,\"#46039f\"],[0.2222222222222222,\"#7201a8\"],[0.3333333333333333,\"#9c179e\"],[0.4444444444444444,\"#bd3786\"],[0.5555555555555556,\"#d8576b\"],[0.6666666666666666,\"#ed7953\"],[0.7777777777777778,\"#fb9f3a\"],[0.8888888888888888,\"#fdca26\"],[1.0,\"#f0f921\"]]}],\"contourcarpet\":[{\"type\":\"contourcarpet\",\"colorbar\":{\"outlinewidth\":0,\"ticks\":\"\"}}],\"contour\":[{\"type\":\"contour\",\"colorbar\":{\"outlinewidth\":0,\"ticks\":\"\"},\"colorscale\":[[0.0,\"#0d0887\"],[0.1111111111111111,\"#46039f\"],[0.2222222222222222,\"#7201a8\"],[0.3333333333333333,\"#9c179e\"],[0.4444444444444444,\"#bd3786\"],[0.5555555555555556,\"#d8576b\"],[0.6666666666666666,\"#ed7953\"],[0.7777777777777778,\"#fb9f3a\"],[0.8888888888888888,\"#fdca26\"],[1.0,\"#f0f921\"]]}],\"surface\":[{\"type\":\"surface\",\"colorbar\":{\"outlinewidth\":0,\"ticks\":\"\"},\"colorscale\":[[0.0,\"#0d0887\"],[0.1111111111111111,\"#46039f\"],[0.2222222222222222,\"#7201a8\"],[0.3333333333333333,\"#9c179e\"],[0.4444444444444444,\"#bd3786\"],[0.5555555555555556,\"#d8576b\"],[0.6666666666666666,\"#ed7953\"],[0.7777777777777778,\"#fb9f3a\"],[0.8888888888888888,\"#fdca26\"],[1.0,\"#f0f921\"]]}],\"mesh3d\":[{\"type\":\"mesh3d\",\"colorbar\":{\"outlinewidth\":0,\"ticks\":\"\"}}],\"scatter\":[{\"fillpattern\":{\"fillmode\":\"overlay\",\"size\":10,\"solidity\":0.2},\"type\":\"scatter\"}],\"parcoords\":[{\"type\":\"parcoords\",\"line\":{\"colorbar\":{\"outlinewidth\":0,\"ticks\":\"\"}}}],\"scatterpolargl\":[{\"type\":\"scatterpolargl\",\"marker\":{\"colorbar\":{\"outlinewidth\":0,\"ticks\":\"\"}}}],\"bar\":[{\"error_x\":{\"color\":\"#2a3f5f\"},\"error_y\":{\"color\":\"#2a3f5f\"},\"marker\":{\"line\":{\"color\":\"#E5ECF6\",\"width\":0.5},\"pattern\":{\"fillmode\":\"overlay\",\"size\":10,\"solidity\":0.2}},\"type\":\"bar\"}],\"scattergeo\":[{\"type\":\"scattergeo\",\"marker\":{\"colorbar\":{\"outlinewidth\":0,\"ticks\":\"\"}}}],\"scatterpolar\":[{\"type\":\"scatterpolar\",\"marker\":{\"colorbar\":{\"outlinewidth\":0,\"ticks\":\"\"}}}],\"histogram\":[{\"marker\":{\"pattern\":{\"fillmode\":\"overlay\",\"size\":10,\"solidity\":0.2}},\"type\":\"histogram\"}],\"scattergl\":[{\"type\":\"scattergl\",\"marker\":{\"colorbar\":{\"outlinewidth\":0,\"ticks\":\"\"}}}],\"scatter3d\":[{\"type\":\"scatter3d\",\"line\":{\"colorbar\":{\"outlinewidth\":0,\"ticks\":\"\"}},\"marker\":{\"colorbar\":{\"outlinewidth\":0,\"ticks\":\"\"}}}],\"scattermapbox\":[{\"type\":\"scattermapbox\",\"marker\":{\"colorbar\":{\"outlinewidth\":0,\"ticks\":\"\"}}}],\"scatterternary\":[{\"type\":\"scatterternary\",\"marker\":{\"colorbar\":{\"outlinewidth\":0,\"ticks\":\"\"}}}],\"scattercarpet\":[{\"type\":\"scattercarpet\",\"marker\":{\"colorbar\":{\"outlinewidth\":0,\"ticks\":\"\"}}}],\"carpet\":[{\"aaxis\":{\"endlinecolor\":\"#2a3f5f\",\"gridcolor\":\"white\",\"linecolor\":\"white\",\"minorgridcolor\":\"white\",\"startlinecolor\":\"#2a3f5f\"},\"baxis\":{\"endlinecolor\":\"#2a3f5f\",\"gridcolor\":\"white\",\"linecolor\":\"white\",\"minorgridcolor\":\"white\",\"startlinecolor\":\"#2a3f5f\"},\"type\":\"carpet\"}],\"table\":[{\"cells\":{\"fill\":{\"color\":\"#EBF0F8\"},\"line\":{\"color\":\"white\"}},\"header\":{\"fill\":{\"color\":\"#C8D4E3\"},\"line\":{\"color\":\"white\"}},\"type\":\"table\"}],\"barpolar\":[{\"marker\":{\"line\":{\"color\":\"#E5ECF6\",\"width\":0.5},\"pattern\":{\"fillmode\":\"overlay\",\"size\":10,\"solidity\":0.2}},\"type\":\"barpolar\"}],\"pie\":[{\"automargin\":true,\"type\":\"pie\"}]},\"layout\":{\"autotypenumbers\":\"strict\",\"colorway\":[\"#636efa\",\"#EF553B\",\"#00cc96\",\"#ab63fa\",\"#FFA15A\",\"#19d3f3\",\"#FF6692\",\"#B6E880\",\"#FF97FF\",\"#FECB52\"],\"font\":{\"color\":\"#2a3f5f\"},\"hovermode\":\"closest\",\"hoverlabel\":{\"align\":\"left\"},\"paper_bgcolor\":\"white\",\"plot_bgcolor\":\"#E5ECF6\",\"polar\":{\"bgcolor\":\"#E5ECF6\",\"angularaxis\":{\"gridcolor\":\"white\",\"linecolor\":\"white\",\"ticks\":\"\"},\"radialaxis\":{\"gridcolor\":\"white\",\"linecolor\":\"white\",\"ticks\":\"\"}},\"ternary\":{\"bgcolor\":\"#E5ECF6\",\"aaxis\":{\"gridcolor\":\"white\",\"linecolor\":\"white\",\"ticks\":\"\"},\"baxis\":{\"gridcolor\":\"white\",\"linecolor\":\"white\",\"ticks\":\"\"},\"caxis\":{\"gridcolor\":\"white\",\"linecolor\":\"white\",\"ticks\":\"\"}},\"coloraxis\":{\"colorbar\":{\"outlinewidth\":0,\"ticks\":\"\"}},\"colorscale\":{\"sequential\":[[0.0,\"#0d0887\"],[0.1111111111111111,\"#46039f\"],[0.2222222222222222,\"#7201a8\"],[0.3333333333333333,\"#9c179e\"],[0.4444444444444444,\"#bd3786\"],[0.5555555555555556,\"#d8576b\"],[0.6666666666666666,\"#ed7953\"],[0.7777777777777778,\"#fb9f3a\"],[0.8888888888888888,\"#fdca26\"],[1.0,\"#f0f921\"]],\"sequentialminus\":[[0.0,\"#0d0887\"],[0.1111111111111111,\"#46039f\"],[0.2222222222222222,\"#7201a8\"],[0.3333333333333333,\"#9c179e\"],[0.4444444444444444,\"#bd3786\"],[0.5555555555555556,\"#d8576b\"],[0.6666666666666666,\"#ed7953\"],[0.7777777777777778,\"#fb9f3a\"],[0.8888888888888888,\"#fdca26\"],[1.0,\"#f0f921\"]],\"diverging\":[[0,\"#8e0152\"],[0.1,\"#c51b7d\"],[0.2,\"#de77ae\"],[0.3,\"#f1b6da\"],[0.4,\"#fde0ef\"],[0.5,\"#f7f7f7\"],[0.6,\"#e6f5d0\"],[0.7,\"#b8e186\"],[0.8,\"#7fbc41\"],[0.9,\"#4d9221\"],[1,\"#276419\"]]},\"xaxis\":{\"gridcolor\":\"white\",\"linecolor\":\"white\",\"ticks\":\"\",\"title\":{\"standoff\":15},\"zerolinecolor\":\"white\",\"automargin\":true,\"zerolinewidth\":2},\"yaxis\":{\"gridcolor\":\"white\",\"linecolor\":\"white\",\"ticks\":\"\",\"title\":{\"standoff\":15},\"zerolinecolor\":\"white\",\"automargin\":true,\"zerolinewidth\":2},\"scene\":{\"xaxis\":{\"backgroundcolor\":\"#E5ECF6\",\"gridcolor\":\"white\",\"linecolor\":\"white\",\"showbackground\":true,\"ticks\":\"\",\"zerolinecolor\":\"white\",\"gridwidth\":2},\"yaxis\":{\"backgroundcolor\":\"#E5ECF6\",\"gridcolor\":\"white\",\"linecolor\":\"white\",\"showbackground\":true,\"ticks\":\"\",\"zerolinecolor\":\"white\",\"gridwidth\":2},\"zaxis\":{\"backgroundcolor\":\"#E5ECF6\",\"gridcolor\":\"white\",\"linecolor\":\"white\",\"showbackground\":true,\"ticks\":\"\",\"zerolinecolor\":\"white\",\"gridwidth\":2}},\"shapedefaults\":{\"line\":{\"color\":\"#2a3f5f\"}},\"annotationdefaults\":{\"arrowcolor\":\"#2a3f5f\",\"arrowhead\":0,\"arrowwidth\":1},\"geo\":{\"bgcolor\":\"white\",\"landcolor\":\"#E5ECF6\",\"subunitcolor\":\"white\",\"showland\":true,\"showlakes\":true,\"lakecolor\":\"white\"},\"title\":{\"x\":0.05},\"mapbox\":{\"style\":\"light\"}}},\"xaxis\":{\"anchor\":\"y\",\"domain\":[0.0,1.0],\"title\":{\"text\":\"Genres\"},\"categoryorder\":\"total descending\"},\"yaxis\":{\"anchor\":\"x\",\"domain\":[0.0,1.0],\"title\":{\"text\":\"Gross Revenue\"}},\"legend\":{\"tracegroupgap\":0},\"margin\":{\"t\":60},\"barmode\":\"relative\",\"title\":{\"text\":\"Genres vs Gross Revenue\"}},                        {\"responsive\": true}                    ).then(function(){\n",
       "                            \n",
       "var gd = document.getElementById('dde8482e-302c-453a-9e7e-31d00669bcfa');\n",
       "var x = new MutationObserver(function (mutations, observer) {{\n",
       "        var display = window.getComputedStyle(gd).display;\n",
       "        if (!display || display === 'none') {{\n",
       "            console.log([gd, 'removed!']);\n",
       "            Plotly.purge(gd);\n",
       "            observer.disconnect();\n",
       "        }}\n",
       "}});\n",
       "\n",
       "// Listen for the removal of the full notebook cells\n",
       "var notebookContainer = gd.closest('#notebook-container');\n",
       "if (notebookContainer) {{\n",
       "    x.observe(notebookContainer, {childList: true});\n",
       "}}\n",
       "\n",
       "// Listen for the clearing of the current output cell\n",
       "var outputEl = gd.closest('.output');\n",
       "if (outputEl) {{\n",
       "    x.observe(outputEl, {childList: true});\n",
       "}}\n",
       "\n",
       "                        })                };                });            </script>        </div>"
      ]
     },
     "metadata": {},
     "output_type": "display_data"
    }
   ],
   "source": [
    "# Bar plot\n",
    "# Average Gross Revenue depending on number of genres\n",
    "# Movies with more listed genres gross higher on average\n",
    "\n",
    "fig = px.bar(data[['Genres','Gross Revenue']].groupby('Genres').mean().reset_index(), x='Genres', y='Gross Revenue')\n",
    "fig.update_layout(title='Genres vs Gross Revenue', xaxis={'categoryorder':'total descending'})\n",
    "fig.show()"
   ]
  },
  {
   "cell_type": "code",
   "execution_count": 18,
   "id": "ae8cc359",
   "metadata": {
    "execution": {
     "iopub.execute_input": "2024-01-05T16:40:25.513985Z",
     "iopub.status.busy": "2024-01-05T16:40:25.513588Z",
     "iopub.status.idle": "2024-01-05T16:40:25.574255Z",
     "shell.execute_reply": "2024-01-05T16:40:25.572761Z"
    },
    "papermill": {
     "duration": 0.074697,
     "end_time": "2024-01-05T16:40:25.577168",
     "exception": false,
     "start_time": "2024-01-05T16:40:25.502471",
     "status": "completed"
    },
    "tags": []
   },
   "outputs": [
    {
     "data": {
      "text/html": [
       "<div>                            <div id=\"14ce38d1-ad3b-4dab-8bf4-6c20d929e3ca\" class=\"plotly-graph-div\" style=\"height:525px; width:100%;\"></div>            <script type=\"text/javascript\">                require([\"plotly\"], function(Plotly) {                    window.PLOTLYENV=window.PLOTLYENV || {};                                    if (document.getElementById(\"14ce38d1-ad3b-4dab-8bf4-6c20d929e3ca\")) {                    Plotly.newPlot(                        \"14ce38d1-ad3b-4dab-8bf4-6c20d929e3ca\",                        [{\"alignmentgroup\":\"True\",\"hovertemplate\":\"Metascore Exists=%{x}\\u003cbr\\u003eGross Revenue=%{y}\\u003cextra\\u003e\\u003c\\u002fextra\\u003e\",\"legendgroup\":\"\",\"marker\":{\"color\":\"#636efa\",\"pattern\":{\"shape\":\"\"}},\"name\":\"\",\"offsetgroup\":\"\",\"orientation\":\"v\",\"showlegend\":false,\"textposition\":\"auto\",\"x\":[false,true],\"xaxis\":\"x\",\"y\":[4.4247468,78.37989050210379],\"yaxis\":\"y\",\"type\":\"bar\"}],                        {\"template\":{\"data\":{\"histogram2dcontour\":[{\"type\":\"histogram2dcontour\",\"colorbar\":{\"outlinewidth\":0,\"ticks\":\"\"},\"colorscale\":[[0.0,\"#0d0887\"],[0.1111111111111111,\"#46039f\"],[0.2222222222222222,\"#7201a8\"],[0.3333333333333333,\"#9c179e\"],[0.4444444444444444,\"#bd3786\"],[0.5555555555555556,\"#d8576b\"],[0.6666666666666666,\"#ed7953\"],[0.7777777777777778,\"#fb9f3a\"],[0.8888888888888888,\"#fdca26\"],[1.0,\"#f0f921\"]]}],\"choropleth\":[{\"type\":\"choropleth\",\"colorbar\":{\"outlinewidth\":0,\"ticks\":\"\"}}],\"histogram2d\":[{\"type\":\"histogram2d\",\"colorbar\":{\"outlinewidth\":0,\"ticks\":\"\"},\"colorscale\":[[0.0,\"#0d0887\"],[0.1111111111111111,\"#46039f\"],[0.2222222222222222,\"#7201a8\"],[0.3333333333333333,\"#9c179e\"],[0.4444444444444444,\"#bd3786\"],[0.5555555555555556,\"#d8576b\"],[0.6666666666666666,\"#ed7953\"],[0.7777777777777778,\"#fb9f3a\"],[0.8888888888888888,\"#fdca26\"],[1.0,\"#f0f921\"]]}],\"heatmap\":[{\"type\":\"heatmap\",\"colorbar\":{\"outlinewidth\":0,\"ticks\":\"\"},\"colorscale\":[[0.0,\"#0d0887\"],[0.1111111111111111,\"#46039f\"],[0.2222222222222222,\"#7201a8\"],[0.3333333333333333,\"#9c179e\"],[0.4444444444444444,\"#bd3786\"],[0.5555555555555556,\"#d8576b\"],[0.6666666666666666,\"#ed7953\"],[0.7777777777777778,\"#fb9f3a\"],[0.8888888888888888,\"#fdca26\"],[1.0,\"#f0f921\"]]}],\"heatmapgl\":[{\"type\":\"heatmapgl\",\"colorbar\":{\"outlinewidth\":0,\"ticks\":\"\"},\"colorscale\":[[0.0,\"#0d0887\"],[0.1111111111111111,\"#46039f\"],[0.2222222222222222,\"#7201a8\"],[0.3333333333333333,\"#9c179e\"],[0.4444444444444444,\"#bd3786\"],[0.5555555555555556,\"#d8576b\"],[0.6666666666666666,\"#ed7953\"],[0.7777777777777778,\"#fb9f3a\"],[0.8888888888888888,\"#fdca26\"],[1.0,\"#f0f921\"]]}],\"contourcarpet\":[{\"type\":\"contourcarpet\",\"colorbar\":{\"outlinewidth\":0,\"ticks\":\"\"}}],\"contour\":[{\"type\":\"contour\",\"colorbar\":{\"outlinewidth\":0,\"ticks\":\"\"},\"colorscale\":[[0.0,\"#0d0887\"],[0.1111111111111111,\"#46039f\"],[0.2222222222222222,\"#7201a8\"],[0.3333333333333333,\"#9c179e\"],[0.4444444444444444,\"#bd3786\"],[0.5555555555555556,\"#d8576b\"],[0.6666666666666666,\"#ed7953\"],[0.7777777777777778,\"#fb9f3a\"],[0.8888888888888888,\"#fdca26\"],[1.0,\"#f0f921\"]]}],\"surface\":[{\"type\":\"surface\",\"colorbar\":{\"outlinewidth\":0,\"ticks\":\"\"},\"colorscale\":[[0.0,\"#0d0887\"],[0.1111111111111111,\"#46039f\"],[0.2222222222222222,\"#7201a8\"],[0.3333333333333333,\"#9c179e\"],[0.4444444444444444,\"#bd3786\"],[0.5555555555555556,\"#d8576b\"],[0.6666666666666666,\"#ed7953\"],[0.7777777777777778,\"#fb9f3a\"],[0.8888888888888888,\"#fdca26\"],[1.0,\"#f0f921\"]]}],\"mesh3d\":[{\"type\":\"mesh3d\",\"colorbar\":{\"outlinewidth\":0,\"ticks\":\"\"}}],\"scatter\":[{\"fillpattern\":{\"fillmode\":\"overlay\",\"size\":10,\"solidity\":0.2},\"type\":\"scatter\"}],\"parcoords\":[{\"type\":\"parcoords\",\"line\":{\"colorbar\":{\"outlinewidth\":0,\"ticks\":\"\"}}}],\"scatterpolargl\":[{\"type\":\"scatterpolargl\",\"marker\":{\"colorbar\":{\"outlinewidth\":0,\"ticks\":\"\"}}}],\"bar\":[{\"error_x\":{\"color\":\"#2a3f5f\"},\"error_y\":{\"color\":\"#2a3f5f\"},\"marker\":{\"line\":{\"color\":\"#E5ECF6\",\"width\":0.5},\"pattern\":{\"fillmode\":\"overlay\",\"size\":10,\"solidity\":0.2}},\"type\":\"bar\"}],\"scattergeo\":[{\"type\":\"scattergeo\",\"marker\":{\"colorbar\":{\"outlinewidth\":0,\"ticks\":\"\"}}}],\"scatterpolar\":[{\"type\":\"scatterpolar\",\"marker\":{\"colorbar\":{\"outlinewidth\":0,\"ticks\":\"\"}}}],\"histogram\":[{\"marker\":{\"pattern\":{\"fillmode\":\"overlay\",\"size\":10,\"solidity\":0.2}},\"type\":\"histogram\"}],\"scattergl\":[{\"type\":\"scattergl\",\"marker\":{\"colorbar\":{\"outlinewidth\":0,\"ticks\":\"\"}}}],\"scatter3d\":[{\"type\":\"scatter3d\",\"line\":{\"colorbar\":{\"outlinewidth\":0,\"ticks\":\"\"}},\"marker\":{\"colorbar\":{\"outlinewidth\":0,\"ticks\":\"\"}}}],\"scattermapbox\":[{\"type\":\"scattermapbox\",\"marker\":{\"colorbar\":{\"outlinewidth\":0,\"ticks\":\"\"}}}],\"scatterternary\":[{\"type\":\"scatterternary\",\"marker\":{\"colorbar\":{\"outlinewidth\":0,\"ticks\":\"\"}}}],\"scattercarpet\":[{\"type\":\"scattercarpet\",\"marker\":{\"colorbar\":{\"outlinewidth\":0,\"ticks\":\"\"}}}],\"carpet\":[{\"aaxis\":{\"endlinecolor\":\"#2a3f5f\",\"gridcolor\":\"white\",\"linecolor\":\"white\",\"minorgridcolor\":\"white\",\"startlinecolor\":\"#2a3f5f\"},\"baxis\":{\"endlinecolor\":\"#2a3f5f\",\"gridcolor\":\"white\",\"linecolor\":\"white\",\"minorgridcolor\":\"white\",\"startlinecolor\":\"#2a3f5f\"},\"type\":\"carpet\"}],\"table\":[{\"cells\":{\"fill\":{\"color\":\"#EBF0F8\"},\"line\":{\"color\":\"white\"}},\"header\":{\"fill\":{\"color\":\"#C8D4E3\"},\"line\":{\"color\":\"white\"}},\"type\":\"table\"}],\"barpolar\":[{\"marker\":{\"line\":{\"color\":\"#E5ECF6\",\"width\":0.5},\"pattern\":{\"fillmode\":\"overlay\",\"size\":10,\"solidity\":0.2}},\"type\":\"barpolar\"}],\"pie\":[{\"automargin\":true,\"type\":\"pie\"}]},\"layout\":{\"autotypenumbers\":\"strict\",\"colorway\":[\"#636efa\",\"#EF553B\",\"#00cc96\",\"#ab63fa\",\"#FFA15A\",\"#19d3f3\",\"#FF6692\",\"#B6E880\",\"#FF97FF\",\"#FECB52\"],\"font\":{\"color\":\"#2a3f5f\"},\"hovermode\":\"closest\",\"hoverlabel\":{\"align\":\"left\"},\"paper_bgcolor\":\"white\",\"plot_bgcolor\":\"#E5ECF6\",\"polar\":{\"bgcolor\":\"#E5ECF6\",\"angularaxis\":{\"gridcolor\":\"white\",\"linecolor\":\"white\",\"ticks\":\"\"},\"radialaxis\":{\"gridcolor\":\"white\",\"linecolor\":\"white\",\"ticks\":\"\"}},\"ternary\":{\"bgcolor\":\"#E5ECF6\",\"aaxis\":{\"gridcolor\":\"white\",\"linecolor\":\"white\",\"ticks\":\"\"},\"baxis\":{\"gridcolor\":\"white\",\"linecolor\":\"white\",\"ticks\":\"\"},\"caxis\":{\"gridcolor\":\"white\",\"linecolor\":\"white\",\"ticks\":\"\"}},\"coloraxis\":{\"colorbar\":{\"outlinewidth\":0,\"ticks\":\"\"}},\"colorscale\":{\"sequential\":[[0.0,\"#0d0887\"],[0.1111111111111111,\"#46039f\"],[0.2222222222222222,\"#7201a8\"],[0.3333333333333333,\"#9c179e\"],[0.4444444444444444,\"#bd3786\"],[0.5555555555555556,\"#d8576b\"],[0.6666666666666666,\"#ed7953\"],[0.7777777777777778,\"#fb9f3a\"],[0.8888888888888888,\"#fdca26\"],[1.0,\"#f0f921\"]],\"sequentialminus\":[[0.0,\"#0d0887\"],[0.1111111111111111,\"#46039f\"],[0.2222222222222222,\"#7201a8\"],[0.3333333333333333,\"#9c179e\"],[0.4444444444444444,\"#bd3786\"],[0.5555555555555556,\"#d8576b\"],[0.6666666666666666,\"#ed7953\"],[0.7777777777777778,\"#fb9f3a\"],[0.8888888888888888,\"#fdca26\"],[1.0,\"#f0f921\"]],\"diverging\":[[0,\"#8e0152\"],[0.1,\"#c51b7d\"],[0.2,\"#de77ae\"],[0.3,\"#f1b6da\"],[0.4,\"#fde0ef\"],[0.5,\"#f7f7f7\"],[0.6,\"#e6f5d0\"],[0.7,\"#b8e186\"],[0.8,\"#7fbc41\"],[0.9,\"#4d9221\"],[1,\"#276419\"]]},\"xaxis\":{\"gridcolor\":\"white\",\"linecolor\":\"white\",\"ticks\":\"\",\"title\":{\"standoff\":15},\"zerolinecolor\":\"white\",\"automargin\":true,\"zerolinewidth\":2},\"yaxis\":{\"gridcolor\":\"white\",\"linecolor\":\"white\",\"ticks\":\"\",\"title\":{\"standoff\":15},\"zerolinecolor\":\"white\",\"automargin\":true,\"zerolinewidth\":2},\"scene\":{\"xaxis\":{\"backgroundcolor\":\"#E5ECF6\",\"gridcolor\":\"white\",\"linecolor\":\"white\",\"showbackground\":true,\"ticks\":\"\",\"zerolinecolor\":\"white\",\"gridwidth\":2},\"yaxis\":{\"backgroundcolor\":\"#E5ECF6\",\"gridcolor\":\"white\",\"linecolor\":\"white\",\"showbackground\":true,\"ticks\":\"\",\"zerolinecolor\":\"white\",\"gridwidth\":2},\"zaxis\":{\"backgroundcolor\":\"#E5ECF6\",\"gridcolor\":\"white\",\"linecolor\":\"white\",\"showbackground\":true,\"ticks\":\"\",\"zerolinecolor\":\"white\",\"gridwidth\":2}},\"shapedefaults\":{\"line\":{\"color\":\"#2a3f5f\"}},\"annotationdefaults\":{\"arrowcolor\":\"#2a3f5f\",\"arrowhead\":0,\"arrowwidth\":1},\"geo\":{\"bgcolor\":\"white\",\"landcolor\":\"#E5ECF6\",\"subunitcolor\":\"white\",\"showland\":true,\"showlakes\":true,\"lakecolor\":\"white\"},\"title\":{\"x\":0.05},\"mapbox\":{\"style\":\"light\"}}},\"xaxis\":{\"anchor\":\"y\",\"domain\":[0.0,1.0],\"title\":{\"text\":\"Metascore Exists\"},\"categoryorder\":\"total descending\"},\"yaxis\":{\"anchor\":\"x\",\"domain\":[0.0,1.0],\"title\":{\"text\":\"Gross Revenue\"}},\"legend\":{\"tracegroupgap\":0},\"margin\":{\"t\":60},\"barmode\":\"relative\",\"title\":{\"text\":\"Metascore Exists vs Gross Revenue\"}},                        {\"responsive\": true}                    ).then(function(){\n",
       "                            \n",
       "var gd = document.getElementById('14ce38d1-ad3b-4dab-8bf4-6c20d929e3ca');\n",
       "var x = new MutationObserver(function (mutations, observer) {{\n",
       "        var display = window.getComputedStyle(gd).display;\n",
       "        if (!display || display === 'none') {{\n",
       "            console.log([gd, 'removed!']);\n",
       "            Plotly.purge(gd);\n",
       "            observer.disconnect();\n",
       "        }}\n",
       "}});\n",
       "\n",
       "// Listen for the removal of the full notebook cells\n",
       "var notebookContainer = gd.closest('#notebook-container');\n",
       "if (notebookContainer) {{\n",
       "    x.observe(notebookContainer, {childList: true});\n",
       "}}\n",
       "\n",
       "// Listen for the clearing of the current output cell\n",
       "var outputEl = gd.closest('.output');\n",
       "if (outputEl) {{\n",
       "    x.observe(outputEl, {childList: true});\n",
       "}}\n",
       "\n",
       "                        })                };                });            </script>        </div>"
      ]
     },
     "metadata": {},
     "output_type": "display_data"
    }
   ],
   "source": [
    "# Bar plot\n",
    "# Average Gross Revenue depending on whether Metascore exists or not\n",
    "# Movies with a Metascore gross higher on average\n",
    "\n",
    "fig = px.bar(data[['Metascore Exists','Gross Revenue']].groupby('Metascore Exists').mean().reset_index(), x='Metascore Exists', y='Gross Revenue')\n",
    "fig.update_layout(title='Metascore Exists vs Gross Revenue', xaxis={'categoryorder':'total descending'})\n",
    "fig.show()"
   ]
  },
  {
   "cell_type": "code",
   "execution_count": 19,
   "id": "1303179a",
   "metadata": {
    "execution": {
     "iopub.execute_input": "2024-01-05T16:40:25.599178Z",
     "iopub.status.busy": "2024-01-05T16:40:25.598840Z",
     "iopub.status.idle": "2024-01-05T16:40:25.673392Z",
     "shell.execute_reply": "2024-01-05T16:40:25.671638Z"
    },
    "papermill": {
     "duration": 0.088505,
     "end_time": "2024-01-05T16:40:25.675870",
     "exception": false,
     "start_time": "2024-01-05T16:40:25.587365",
     "status": "completed"
    },
    "tags": []
   },
   "outputs": [
    {
     "data": {
      "text/html": [
       "<div>                            <div id=\"963d952c-c66b-4f7f-b275-7b8b69330803\" class=\"plotly-graph-div\" style=\"height:525px; width:100%;\"></div>            <script type=\"text/javascript\">                require([\"plotly\"], function(Plotly) {                    window.PLOTLYENV=window.PLOTLYENV || {};                                    if (document.getElementById(\"963d952c-c66b-4f7f-b275-7b8b69330803\")) {                    Plotly.newPlot(                        \"963d952c-c66b-4f7f-b275-7b8b69330803\",                        [{\"hovertemplate\":\"Release Year=%{x}\\u003cbr\\u003eGross Revenue=%{y}\\u003cextra\\u003e\\u003c\\u002fextra\\u003e\",\"legendgroup\":\"\",\"line\":{\"color\":\"#636efa\",\"dash\":\"solid\"},\"marker\":{\"symbol\":\"circle\"},\"mode\":\"lines\",\"name\":\"\",\"orientation\":\"v\",\"showlegend\":false,\"x\":[1921,1924,1925,1926,1927,1928,1930,1931,1933,1934,1935,1936,1938,1939,1940,1941,1942,1944,1945,1946,1948,1949,1950,1951,1952,1953,1954,1956,1957,1958,1959,1960,1961,1962,1963,1964,1965,1966,1967,1968,1969,1970,1971,1972,1973,1974,1975,1976,1977,1978,1979,1980,1981,1982,1983,1984,1985,1986,1987,1988,1989,1990,1991,1992,1993,1994,1995,1996,1997,1998,1999,2000,2001,2002,2003,2004,2005,2006,2007,2008,2009,2010,2011,2012,2013,2014,2015,2016,2017,2018,2019],\"xaxis\":\"x\",\"y\":[5.45,0.977375,5.45,1.033895,0.53954,0.021877,3.27,0.024029000000000002,10.0,4.359999999999999,2.5375199999999998,0.163245,3.981,70.117493,16.2815144,1.585634,1.02456,5.039999999999999,9.459999999999999,13.551333333333332,5.013999999999999,0.449191,0.010177,5.03400275,9.606342666666665,30.5,11.661484000000002,93.74,19.147666666666666,7.669327666666667,31.3775,15.269100714285713,5.449999999999999,29.324714666666665,12.326039,42.31828583333333,96.64542866666666,11.517340333333332,47.908746666666666,32.495227,53.05280466666667,21.206791666666664,24.581160714285712,31.801639166666664,54.877696099999994,59.303999999999995,84.6813084,49.9645108,164.67625833333332,34.019832,49.52359772727272,92.21771966666665,97.84961249999999,74.4371638,81.7256432,41.560384444444445,56.469029,50.417419,34.127212666666665,60.61672144444444,78.14139322222222,94.786081875,64.99184625,74.1187147,56.70285742857143,79.00038199999999,52.667345866666665,25.387709555555556,84.61443693333334,36.7902258125,74.86544252941177,53.335434,87.39662158333333,62.439931833333326,78.23602699999999,51.66587571428571,68.25129626666667,52.12862799999999,42.49873752173913,107.53564411764705,122.35350841666667,124.49966855,68.2585145,127.12204894999999,51.294411839999995,91.84879003333334,111.92059122727272,112.85032282608695,108.4724864736842,186.268383,150.421418],\"yaxis\":\"y\",\"type\":\"scatter\"}],                        {\"template\":{\"data\":{\"histogram2dcontour\":[{\"type\":\"histogram2dcontour\",\"colorbar\":{\"outlinewidth\":0,\"ticks\":\"\"},\"colorscale\":[[0.0,\"#0d0887\"],[0.1111111111111111,\"#46039f\"],[0.2222222222222222,\"#7201a8\"],[0.3333333333333333,\"#9c179e\"],[0.4444444444444444,\"#bd3786\"],[0.5555555555555556,\"#d8576b\"],[0.6666666666666666,\"#ed7953\"],[0.7777777777777778,\"#fb9f3a\"],[0.8888888888888888,\"#fdca26\"],[1.0,\"#f0f921\"]]}],\"choropleth\":[{\"type\":\"choropleth\",\"colorbar\":{\"outlinewidth\":0,\"ticks\":\"\"}}],\"histogram2d\":[{\"type\":\"histogram2d\",\"colorbar\":{\"outlinewidth\":0,\"ticks\":\"\"},\"colorscale\":[[0.0,\"#0d0887\"],[0.1111111111111111,\"#46039f\"],[0.2222222222222222,\"#7201a8\"],[0.3333333333333333,\"#9c179e\"],[0.4444444444444444,\"#bd3786\"],[0.5555555555555556,\"#d8576b\"],[0.6666666666666666,\"#ed7953\"],[0.7777777777777778,\"#fb9f3a\"],[0.8888888888888888,\"#fdca26\"],[1.0,\"#f0f921\"]]}],\"heatmap\":[{\"type\":\"heatmap\",\"colorbar\":{\"outlinewidth\":0,\"ticks\":\"\"},\"colorscale\":[[0.0,\"#0d0887\"],[0.1111111111111111,\"#46039f\"],[0.2222222222222222,\"#7201a8\"],[0.3333333333333333,\"#9c179e\"],[0.4444444444444444,\"#bd3786\"],[0.5555555555555556,\"#d8576b\"],[0.6666666666666666,\"#ed7953\"],[0.7777777777777778,\"#fb9f3a\"],[0.8888888888888888,\"#fdca26\"],[1.0,\"#f0f921\"]]}],\"heatmapgl\":[{\"type\":\"heatmapgl\",\"colorbar\":{\"outlinewidth\":0,\"ticks\":\"\"},\"colorscale\":[[0.0,\"#0d0887\"],[0.1111111111111111,\"#46039f\"],[0.2222222222222222,\"#7201a8\"],[0.3333333333333333,\"#9c179e\"],[0.4444444444444444,\"#bd3786\"],[0.5555555555555556,\"#d8576b\"],[0.6666666666666666,\"#ed7953\"],[0.7777777777777778,\"#fb9f3a\"],[0.8888888888888888,\"#fdca26\"],[1.0,\"#f0f921\"]]}],\"contourcarpet\":[{\"type\":\"contourcarpet\",\"colorbar\":{\"outlinewidth\":0,\"ticks\":\"\"}}],\"contour\":[{\"type\":\"contour\",\"colorbar\":{\"outlinewidth\":0,\"ticks\":\"\"},\"colorscale\":[[0.0,\"#0d0887\"],[0.1111111111111111,\"#46039f\"],[0.2222222222222222,\"#7201a8\"],[0.3333333333333333,\"#9c179e\"],[0.4444444444444444,\"#bd3786\"],[0.5555555555555556,\"#d8576b\"],[0.6666666666666666,\"#ed7953\"],[0.7777777777777778,\"#fb9f3a\"],[0.8888888888888888,\"#fdca26\"],[1.0,\"#f0f921\"]]}],\"surface\":[{\"type\":\"surface\",\"colorbar\":{\"outlinewidth\":0,\"ticks\":\"\"},\"colorscale\":[[0.0,\"#0d0887\"],[0.1111111111111111,\"#46039f\"],[0.2222222222222222,\"#7201a8\"],[0.3333333333333333,\"#9c179e\"],[0.4444444444444444,\"#bd3786\"],[0.5555555555555556,\"#d8576b\"],[0.6666666666666666,\"#ed7953\"],[0.7777777777777778,\"#fb9f3a\"],[0.8888888888888888,\"#fdca26\"],[1.0,\"#f0f921\"]]}],\"mesh3d\":[{\"type\":\"mesh3d\",\"colorbar\":{\"outlinewidth\":0,\"ticks\":\"\"}}],\"scatter\":[{\"fillpattern\":{\"fillmode\":\"overlay\",\"size\":10,\"solidity\":0.2},\"type\":\"scatter\"}],\"parcoords\":[{\"type\":\"parcoords\",\"line\":{\"colorbar\":{\"outlinewidth\":0,\"ticks\":\"\"}}}],\"scatterpolargl\":[{\"type\":\"scatterpolargl\",\"marker\":{\"colorbar\":{\"outlinewidth\":0,\"ticks\":\"\"}}}],\"bar\":[{\"error_x\":{\"color\":\"#2a3f5f\"},\"error_y\":{\"color\":\"#2a3f5f\"},\"marker\":{\"line\":{\"color\":\"#E5ECF6\",\"width\":0.5},\"pattern\":{\"fillmode\":\"overlay\",\"size\":10,\"solidity\":0.2}},\"type\":\"bar\"}],\"scattergeo\":[{\"type\":\"scattergeo\",\"marker\":{\"colorbar\":{\"outlinewidth\":0,\"ticks\":\"\"}}}],\"scatterpolar\":[{\"type\":\"scatterpolar\",\"marker\":{\"colorbar\":{\"outlinewidth\":0,\"ticks\":\"\"}}}],\"histogram\":[{\"marker\":{\"pattern\":{\"fillmode\":\"overlay\",\"size\":10,\"solidity\":0.2}},\"type\":\"histogram\"}],\"scattergl\":[{\"type\":\"scattergl\",\"marker\":{\"colorbar\":{\"outlinewidth\":0,\"ticks\":\"\"}}}],\"scatter3d\":[{\"type\":\"scatter3d\",\"line\":{\"colorbar\":{\"outlinewidth\":0,\"ticks\":\"\"}},\"marker\":{\"colorbar\":{\"outlinewidth\":0,\"ticks\":\"\"}}}],\"scattermapbox\":[{\"type\":\"scattermapbox\",\"marker\":{\"colorbar\":{\"outlinewidth\":0,\"ticks\":\"\"}}}],\"scatterternary\":[{\"type\":\"scatterternary\",\"marker\":{\"colorbar\":{\"outlinewidth\":0,\"ticks\":\"\"}}}],\"scattercarpet\":[{\"type\":\"scattercarpet\",\"marker\":{\"colorbar\":{\"outlinewidth\":0,\"ticks\":\"\"}}}],\"carpet\":[{\"aaxis\":{\"endlinecolor\":\"#2a3f5f\",\"gridcolor\":\"white\",\"linecolor\":\"white\",\"minorgridcolor\":\"white\",\"startlinecolor\":\"#2a3f5f\"},\"baxis\":{\"endlinecolor\":\"#2a3f5f\",\"gridcolor\":\"white\",\"linecolor\":\"white\",\"minorgridcolor\":\"white\",\"startlinecolor\":\"#2a3f5f\"},\"type\":\"carpet\"}],\"table\":[{\"cells\":{\"fill\":{\"color\":\"#EBF0F8\"},\"line\":{\"color\":\"white\"}},\"header\":{\"fill\":{\"color\":\"#C8D4E3\"},\"line\":{\"color\":\"white\"}},\"type\":\"table\"}],\"barpolar\":[{\"marker\":{\"line\":{\"color\":\"#E5ECF6\",\"width\":0.5},\"pattern\":{\"fillmode\":\"overlay\",\"size\":10,\"solidity\":0.2}},\"type\":\"barpolar\"}],\"pie\":[{\"automargin\":true,\"type\":\"pie\"}]},\"layout\":{\"autotypenumbers\":\"strict\",\"colorway\":[\"#636efa\",\"#EF553B\",\"#00cc96\",\"#ab63fa\",\"#FFA15A\",\"#19d3f3\",\"#FF6692\",\"#B6E880\",\"#FF97FF\",\"#FECB52\"],\"font\":{\"color\":\"#2a3f5f\"},\"hovermode\":\"closest\",\"hoverlabel\":{\"align\":\"left\"},\"paper_bgcolor\":\"white\",\"plot_bgcolor\":\"#E5ECF6\",\"polar\":{\"bgcolor\":\"#E5ECF6\",\"angularaxis\":{\"gridcolor\":\"white\",\"linecolor\":\"white\",\"ticks\":\"\"},\"radialaxis\":{\"gridcolor\":\"white\",\"linecolor\":\"white\",\"ticks\":\"\"}},\"ternary\":{\"bgcolor\":\"#E5ECF6\",\"aaxis\":{\"gridcolor\":\"white\",\"linecolor\":\"white\",\"ticks\":\"\"},\"baxis\":{\"gridcolor\":\"white\",\"linecolor\":\"white\",\"ticks\":\"\"},\"caxis\":{\"gridcolor\":\"white\",\"linecolor\":\"white\",\"ticks\":\"\"}},\"coloraxis\":{\"colorbar\":{\"outlinewidth\":0,\"ticks\":\"\"}},\"colorscale\":{\"sequential\":[[0.0,\"#0d0887\"],[0.1111111111111111,\"#46039f\"],[0.2222222222222222,\"#7201a8\"],[0.3333333333333333,\"#9c179e\"],[0.4444444444444444,\"#bd3786\"],[0.5555555555555556,\"#d8576b\"],[0.6666666666666666,\"#ed7953\"],[0.7777777777777778,\"#fb9f3a\"],[0.8888888888888888,\"#fdca26\"],[1.0,\"#f0f921\"]],\"sequentialminus\":[[0.0,\"#0d0887\"],[0.1111111111111111,\"#46039f\"],[0.2222222222222222,\"#7201a8\"],[0.3333333333333333,\"#9c179e\"],[0.4444444444444444,\"#bd3786\"],[0.5555555555555556,\"#d8576b\"],[0.6666666666666666,\"#ed7953\"],[0.7777777777777778,\"#fb9f3a\"],[0.8888888888888888,\"#fdca26\"],[1.0,\"#f0f921\"]],\"diverging\":[[0,\"#8e0152\"],[0.1,\"#c51b7d\"],[0.2,\"#de77ae\"],[0.3,\"#f1b6da\"],[0.4,\"#fde0ef\"],[0.5,\"#f7f7f7\"],[0.6,\"#e6f5d0\"],[0.7,\"#b8e186\"],[0.8,\"#7fbc41\"],[0.9,\"#4d9221\"],[1,\"#276419\"]]},\"xaxis\":{\"gridcolor\":\"white\",\"linecolor\":\"white\",\"ticks\":\"\",\"title\":{\"standoff\":15},\"zerolinecolor\":\"white\",\"automargin\":true,\"zerolinewidth\":2},\"yaxis\":{\"gridcolor\":\"white\",\"linecolor\":\"white\",\"ticks\":\"\",\"title\":{\"standoff\":15},\"zerolinecolor\":\"white\",\"automargin\":true,\"zerolinewidth\":2},\"scene\":{\"xaxis\":{\"backgroundcolor\":\"#E5ECF6\",\"gridcolor\":\"white\",\"linecolor\":\"white\",\"showbackground\":true,\"ticks\":\"\",\"zerolinecolor\":\"white\",\"gridwidth\":2},\"yaxis\":{\"backgroundcolor\":\"#E5ECF6\",\"gridcolor\":\"white\",\"linecolor\":\"white\",\"showbackground\":true,\"ticks\":\"\",\"zerolinecolor\":\"white\",\"gridwidth\":2},\"zaxis\":{\"backgroundcolor\":\"#E5ECF6\",\"gridcolor\":\"white\",\"linecolor\":\"white\",\"showbackground\":true,\"ticks\":\"\",\"zerolinecolor\":\"white\",\"gridwidth\":2}},\"shapedefaults\":{\"line\":{\"color\":\"#2a3f5f\"}},\"annotationdefaults\":{\"arrowcolor\":\"#2a3f5f\",\"arrowhead\":0,\"arrowwidth\":1},\"geo\":{\"bgcolor\":\"white\",\"landcolor\":\"#E5ECF6\",\"subunitcolor\":\"white\",\"showland\":true,\"showlakes\":true,\"lakecolor\":\"white\"},\"title\":{\"x\":0.05},\"mapbox\":{\"style\":\"light\"}}},\"xaxis\":{\"anchor\":\"y\",\"domain\":[0.0,1.0],\"title\":{\"text\":\"Release Year\"}},\"yaxis\":{\"anchor\":\"x\",\"domain\":[0.0,1.0],\"title\":{\"text\":\"Gross Revenue\"}},\"legend\":{\"tracegroupgap\":0},\"margin\":{\"t\":60},\"title\":{\"text\":\"Average Gross Revenue Over Time\"}},                        {\"responsive\": true}                    ).then(function(){\n",
       "                            \n",
       "var gd = document.getElementById('963d952c-c66b-4f7f-b275-7b8b69330803');\n",
       "var x = new MutationObserver(function (mutations, observer) {{\n",
       "        var display = window.getComputedStyle(gd).display;\n",
       "        if (!display || display === 'none') {{\n",
       "            console.log([gd, 'removed!']);\n",
       "            Plotly.purge(gd);\n",
       "            observer.disconnect();\n",
       "        }}\n",
       "}});\n",
       "\n",
       "// Listen for the removal of the full notebook cells\n",
       "var notebookContainer = gd.closest('#notebook-container');\n",
       "if (notebookContainer) {{\n",
       "    x.observe(notebookContainer, {childList: true});\n",
       "}}\n",
       "\n",
       "// Listen for the clearing of the current output cell\n",
       "var outputEl = gd.closest('.output');\n",
       "if (outputEl) {{\n",
       "    x.observe(outputEl, {childList: true});\n",
       "}}\n",
       "\n",
       "                        })                };                });            </script>        </div>"
      ]
     },
     "metadata": {},
     "output_type": "display_data"
    }
   ],
   "source": [
    "# Trendline\n",
    "# Year vs Gross Revenue\n",
    "# Increasing over time\n",
    "\n",
    "fig = px.line(data[['Release Year','Gross Revenue']].groupby('Release Year').mean().reset_index(), x='Release Year', y='Gross Revenue')\n",
    "fig.update_layout(title='Average Gross Revenue Over Time')\n",
    "fig.show()"
   ]
  },
  {
   "cell_type": "markdown",
   "id": "ab9a10ee",
   "metadata": {
    "papermill": {
     "duration": 0.010886,
     "end_time": "2024-01-05T16:40:25.698098",
     "exception": false,
     "start_time": "2024-01-05T16:40:25.687212",
     "status": "completed"
    },
    "tags": []
   },
   "source": [
    "## Prediction Model\n",
    "\n",
    "Features that seem to have most trends: Release Year, Age Rating, Primary Genre, Votes, Metascore Exists\n",
    "\n",
    "Features that will also be considered: Runtime, IMDB Rating"
   ]
  },
  {
   "cell_type": "code",
   "execution_count": 20,
   "id": "a336b46f",
   "metadata": {
    "execution": {
     "iopub.execute_input": "2024-01-05T16:40:25.720783Z",
     "iopub.status.busy": "2024-01-05T16:40:25.720370Z",
     "iopub.status.idle": "2024-01-05T16:40:25.736282Z",
     "shell.execute_reply": "2024-01-05T16:40:25.734745Z"
    },
    "papermill": {
     "duration": 0.030523,
     "end_time": "2024-01-05T16:40:25.738877",
     "exception": false,
     "start_time": "2024-01-05T16:40:25.708354",
     "status": "completed"
    },
    "tags": []
   },
   "outputs": [
    {
     "data": {
      "text/html": [
       "<div>\n",
       "<style scoped>\n",
       "    .dataframe tbody tr th:only-of-type {\n",
       "        vertical-align: middle;\n",
       "    }\n",
       "\n",
       "    .dataframe tbody tr th {\n",
       "        vertical-align: top;\n",
       "    }\n",
       "\n",
       "    .dataframe thead th {\n",
       "        text-align: right;\n",
       "    }\n",
       "</style>\n",
       "<table border=\"1\" class=\"dataframe\">\n",
       "  <thead>\n",
       "    <tr style=\"text-align: right;\">\n",
       "      <th></th>\n",
       "      <th>Release Year</th>\n",
       "      <th>Age Rating</th>\n",
       "      <th>Runtime</th>\n",
       "      <th>IMDB Rating</th>\n",
       "      <th>Votes</th>\n",
       "      <th>Gross Revenue</th>\n",
       "      <th>Metascore Exists</th>\n",
       "      <th>Genres</th>\n",
       "      <th>Primary Genre</th>\n",
       "    </tr>\n",
       "  </thead>\n",
       "  <tbody>\n",
       "    <tr>\n",
       "      <th>0</th>\n",
       "      <td>1994</td>\n",
       "      <td>A</td>\n",
       "      <td>142</td>\n",
       "      <td>9.3</td>\n",
       "      <td>2343110</td>\n",
       "      <td>28.341469</td>\n",
       "      <td>True</td>\n",
       "      <td>1</td>\n",
       "      <td>Drama</td>\n",
       "    </tr>\n",
       "    <tr>\n",
       "      <th>1</th>\n",
       "      <td>1972</td>\n",
       "      <td>A</td>\n",
       "      <td>175</td>\n",
       "      <td>9.2</td>\n",
       "      <td>1620367</td>\n",
       "      <td>134.966411</td>\n",
       "      <td>True</td>\n",
       "      <td>2</td>\n",
       "      <td>Crime</td>\n",
       "    </tr>\n",
       "    <tr>\n",
       "      <th>2</th>\n",
       "      <td>2008</td>\n",
       "      <td>UA</td>\n",
       "      <td>152</td>\n",
       "      <td>9.0</td>\n",
       "      <td>2303232</td>\n",
       "      <td>534.858444</td>\n",
       "      <td>True</td>\n",
       "      <td>3</td>\n",
       "      <td>Action</td>\n",
       "    </tr>\n",
       "    <tr>\n",
       "      <th>3</th>\n",
       "      <td>1974</td>\n",
       "      <td>A</td>\n",
       "      <td>202</td>\n",
       "      <td>9.0</td>\n",
       "      <td>1129952</td>\n",
       "      <td>57.300000</td>\n",
       "      <td>True</td>\n",
       "      <td>2</td>\n",
       "      <td>Crime</td>\n",
       "    </tr>\n",
       "    <tr>\n",
       "      <th>4</th>\n",
       "      <td>1957</td>\n",
       "      <td>U</td>\n",
       "      <td>96</td>\n",
       "      <td>9.0</td>\n",
       "      <td>689845</td>\n",
       "      <td>4.360000</td>\n",
       "      <td>True</td>\n",
       "      <td>2</td>\n",
       "      <td>Crime</td>\n",
       "    </tr>\n",
       "  </tbody>\n",
       "</table>\n",
       "</div>"
      ],
      "text/plain": [
       "   Release Year Age Rating  Runtime  IMDB Rating    Votes  Gross Revenue  \\\n",
       "0          1994          A      142          9.3  2343110      28.341469   \n",
       "1          1972          A      175          9.2  1620367     134.966411   \n",
       "2          2008         UA      152          9.0  2303232     534.858444   \n",
       "3          1974          A      202          9.0  1129952      57.300000   \n",
       "4          1957          U       96          9.0   689845       4.360000   \n",
       "\n",
       "   Metascore Exists  Genres Primary Genre  \n",
       "0              True       1         Drama  \n",
       "1              True       2         Crime  \n",
       "2              True       3        Action  \n",
       "3              True       2         Crime  \n",
       "4              True       2         Crime  "
      ]
     },
     "execution_count": 20,
     "metadata": {},
     "output_type": "execute_result"
    }
   ],
   "source": [
    "data.head()"
   ]
  },
  {
   "cell_type": "markdown",
   "id": "1601dbb1",
   "metadata": {
    "papermill": {
     "duration": 0.070213,
     "end_time": "2024-01-05T16:40:25.819696",
     "exception": false,
     "start_time": "2024-01-05T16:40:25.749483",
     "status": "completed"
    },
    "tags": []
   },
   "source": [
    "### Data Transformation"
   ]
  },
  {
   "cell_type": "code",
   "execution_count": 21,
   "id": "8eb38040",
   "metadata": {
    "execution": {
     "iopub.execute_input": "2024-01-05T16:40:25.842759Z",
     "iopub.status.busy": "2024-01-05T16:40:25.841805Z",
     "iopub.status.idle": "2024-01-05T16:40:25.870516Z",
     "shell.execute_reply": "2024-01-05T16:40:25.869818Z"
    },
    "papermill": {
     "duration": 0.042757,
     "end_time": "2024-01-05T16:40:25.872973",
     "exception": false,
     "start_time": "2024-01-05T16:40:25.830216",
     "status": "completed"
    },
    "tags": []
   },
   "outputs": [
    {
     "data": {
      "text/html": [
       "<div>\n",
       "<style scoped>\n",
       "    .dataframe tbody tr th:only-of-type {\n",
       "        vertical-align: middle;\n",
       "    }\n",
       "\n",
       "    .dataframe tbody tr th {\n",
       "        vertical-align: top;\n",
       "    }\n",
       "\n",
       "    .dataframe thead th {\n",
       "        text-align: right;\n",
       "    }\n",
       "</style>\n",
       "<table border=\"1\" class=\"dataframe\">\n",
       "  <thead>\n",
       "    <tr style=\"text-align: right;\">\n",
       "      <th></th>\n",
       "      <th>Release Year</th>\n",
       "      <th>Age Rating</th>\n",
       "      <th>Runtime</th>\n",
       "      <th>IMDB Rating</th>\n",
       "      <th>Votes</th>\n",
       "      <th>Gross Revenue</th>\n",
       "      <th>Metascore Exists</th>\n",
       "      <th>Genres</th>\n",
       "      <th>Primary Genre_Action</th>\n",
       "      <th>Primary Genre_Adventure</th>\n",
       "      <th>Primary Genre_Animation</th>\n",
       "      <th>Primary Genre_Biography</th>\n",
       "      <th>Primary Genre_Comedy</th>\n",
       "      <th>Primary Genre_Crime</th>\n",
       "      <th>Primary Genre_Drama</th>\n",
       "      <th>Primary Genre_Family</th>\n",
       "      <th>Primary Genre_Film-Noir</th>\n",
       "      <th>Primary Genre_Horror</th>\n",
       "      <th>Primary Genre_Mystery</th>\n",
       "      <th>Primary Genre_Western</th>\n",
       "    </tr>\n",
       "  </thead>\n",
       "  <tbody>\n",
       "    <tr>\n",
       "      <th>0</th>\n",
       "      <td>1994</td>\n",
       "      <td>2</td>\n",
       "      <td>142</td>\n",
       "      <td>9.3</td>\n",
       "      <td>2343110</td>\n",
       "      <td>28.341469</td>\n",
       "      <td>True</td>\n",
       "      <td>1</td>\n",
       "      <td>False</td>\n",
       "      <td>False</td>\n",
       "      <td>False</td>\n",
       "      <td>False</td>\n",
       "      <td>False</td>\n",
       "      <td>False</td>\n",
       "      <td>True</td>\n",
       "      <td>False</td>\n",
       "      <td>False</td>\n",
       "      <td>False</td>\n",
       "      <td>False</td>\n",
       "      <td>False</td>\n",
       "    </tr>\n",
       "    <tr>\n",
       "      <th>1</th>\n",
       "      <td>1972</td>\n",
       "      <td>2</td>\n",
       "      <td>175</td>\n",
       "      <td>9.2</td>\n",
       "      <td>1620367</td>\n",
       "      <td>134.966411</td>\n",
       "      <td>True</td>\n",
       "      <td>2</td>\n",
       "      <td>False</td>\n",
       "      <td>False</td>\n",
       "      <td>False</td>\n",
       "      <td>False</td>\n",
       "      <td>False</td>\n",
       "      <td>True</td>\n",
       "      <td>False</td>\n",
       "      <td>False</td>\n",
       "      <td>False</td>\n",
       "      <td>False</td>\n",
       "      <td>False</td>\n",
       "      <td>False</td>\n",
       "    </tr>\n",
       "    <tr>\n",
       "      <th>2</th>\n",
       "      <td>2008</td>\n",
       "      <td>1</td>\n",
       "      <td>152</td>\n",
       "      <td>9.0</td>\n",
       "      <td>2303232</td>\n",
       "      <td>534.858444</td>\n",
       "      <td>True</td>\n",
       "      <td>3</td>\n",
       "      <td>True</td>\n",
       "      <td>False</td>\n",
       "      <td>False</td>\n",
       "      <td>False</td>\n",
       "      <td>False</td>\n",
       "      <td>False</td>\n",
       "      <td>False</td>\n",
       "      <td>False</td>\n",
       "      <td>False</td>\n",
       "      <td>False</td>\n",
       "      <td>False</td>\n",
       "      <td>False</td>\n",
       "    </tr>\n",
       "    <tr>\n",
       "      <th>3</th>\n",
       "      <td>1974</td>\n",
       "      <td>2</td>\n",
       "      <td>202</td>\n",
       "      <td>9.0</td>\n",
       "      <td>1129952</td>\n",
       "      <td>57.300000</td>\n",
       "      <td>True</td>\n",
       "      <td>2</td>\n",
       "      <td>False</td>\n",
       "      <td>False</td>\n",
       "      <td>False</td>\n",
       "      <td>False</td>\n",
       "      <td>False</td>\n",
       "      <td>True</td>\n",
       "      <td>False</td>\n",
       "      <td>False</td>\n",
       "      <td>False</td>\n",
       "      <td>False</td>\n",
       "      <td>False</td>\n",
       "      <td>False</td>\n",
       "    </tr>\n",
       "    <tr>\n",
       "      <th>4</th>\n",
       "      <td>1957</td>\n",
       "      <td>0</td>\n",
       "      <td>96</td>\n",
       "      <td>9.0</td>\n",
       "      <td>689845</td>\n",
       "      <td>4.360000</td>\n",
       "      <td>True</td>\n",
       "      <td>2</td>\n",
       "      <td>False</td>\n",
       "      <td>False</td>\n",
       "      <td>False</td>\n",
       "      <td>False</td>\n",
       "      <td>False</td>\n",
       "      <td>True</td>\n",
       "      <td>False</td>\n",
       "      <td>False</td>\n",
       "      <td>False</td>\n",
       "      <td>False</td>\n",
       "      <td>False</td>\n",
       "      <td>False</td>\n",
       "    </tr>\n",
       "  </tbody>\n",
       "</table>\n",
       "</div>"
      ],
      "text/plain": [
       "   Release Year  Age Rating  Runtime  IMDB Rating    Votes  Gross Revenue  \\\n",
       "0          1994           2      142          9.3  2343110      28.341469   \n",
       "1          1972           2      175          9.2  1620367     134.966411   \n",
       "2          2008           1      152          9.0  2303232     534.858444   \n",
       "3          1974           2      202          9.0  1129952      57.300000   \n",
       "4          1957           0       96          9.0   689845       4.360000   \n",
       "\n",
       "   Metascore Exists  Genres  Primary Genre_Action  Primary Genre_Adventure  \\\n",
       "0              True       1                 False                    False   \n",
       "1              True       2                 False                    False   \n",
       "2              True       3                  True                    False   \n",
       "3              True       2                 False                    False   \n",
       "4              True       2                 False                    False   \n",
       "\n",
       "   Primary Genre_Animation  Primary Genre_Biography  Primary Genre_Comedy  \\\n",
       "0                    False                    False                 False   \n",
       "1                    False                    False                 False   \n",
       "2                    False                    False                 False   \n",
       "3                    False                    False                 False   \n",
       "4                    False                    False                 False   \n",
       "\n",
       "   Primary Genre_Crime  Primary Genre_Drama  Primary Genre_Family  \\\n",
       "0                False                 True                 False   \n",
       "1                 True                False                 False   \n",
       "2                False                False                 False   \n",
       "3                 True                False                 False   \n",
       "4                 True                False                 False   \n",
       "\n",
       "   Primary Genre_Film-Noir  Primary Genre_Horror  Primary Genre_Mystery  \\\n",
       "0                    False                 False                  False   \n",
       "1                    False                 False                  False   \n",
       "2                    False                 False                  False   \n",
       "3                    False                 False                  False   \n",
       "4                    False                 False                  False   \n",
       "\n",
       "   Primary Genre_Western  \n",
       "0                  False  \n",
       "1                  False  \n",
       "2                  False  \n",
       "3                  False  \n",
       "4                  False  "
      ]
     },
     "execution_count": 21,
     "metadata": {},
     "output_type": "execute_result"
    }
   ],
   "source": [
    "prediction_data = data\n",
    "\n",
    "# Converting Age Rating into a numerical value\n",
    "prediction_data['Age Rating'] = prediction_data['Age Rating'].map({'U':0, 'UA':1, 'A':2})\n",
    "\n",
    "# One-hot encoding categorical variables for Genre\n",
    "prediction_data = pd.get_dummies(prediction_data, columns=['Primary Genre'])\n",
    "\n",
    "prediction_data.head()"
   ]
  },
  {
   "cell_type": "markdown",
   "id": "388aca7d",
   "metadata": {
    "papermill": {
     "duration": 0.010482,
     "end_time": "2024-01-05T16:40:25.895355",
     "exception": false,
     "start_time": "2024-01-05T16:40:25.884873",
     "status": "completed"
    },
    "tags": []
   },
   "source": [
    "### Random Forest Model"
   ]
  },
  {
   "cell_type": "code",
   "execution_count": 22,
   "id": "98cbfad1",
   "metadata": {
    "execution": {
     "iopub.execute_input": "2024-01-05T16:40:25.918610Z",
     "iopub.status.busy": "2024-01-05T16:40:25.918203Z",
     "iopub.status.idle": "2024-01-05T16:40:26.462446Z",
     "shell.execute_reply": "2024-01-05T16:40:26.461365Z"
    },
    "papermill": {
     "duration": 0.558626,
     "end_time": "2024-01-05T16:40:26.464813",
     "exception": false,
     "start_time": "2024-01-05T16:40:25.906187",
     "status": "completed"
    },
    "tags": []
   },
   "outputs": [],
   "source": [
    "from sklearn.model_selection import train_test_split\n",
    "from sklearn.ensemble import RandomForestRegressor"
   ]
  },
  {
   "cell_type": "code",
   "execution_count": 23,
   "id": "0606ed4c",
   "metadata": {
    "execution": {
     "iopub.execute_input": "2024-01-05T16:40:26.488364Z",
     "iopub.status.busy": "2024-01-05T16:40:26.487516Z",
     "iopub.status.idle": "2024-01-05T16:40:26.495477Z",
     "shell.execute_reply": "2024-01-05T16:40:26.494767Z"
    },
    "papermill": {
     "duration": 0.022223,
     "end_time": "2024-01-05T16:40:26.497837",
     "exception": false,
     "start_time": "2024-01-05T16:40:26.475614",
     "status": "completed"
    },
    "tags": []
   },
   "outputs": [],
   "source": [
    "# Splitting dataset into features (X) and target (y)\n",
    "X = prediction_data.drop('Gross Revenue', axis=1)\n",
    "y = prediction_data['Gross Revenue']\n",
    "\n",
    "# Splitting data into training and testing sets\n",
    "X_train, X_test, y_train, y_test = train_test_split(X, y, test_size=0.1, random_state=101)"
   ]
  },
  {
   "cell_type": "code",
   "execution_count": 24,
   "id": "3f524aef",
   "metadata": {
    "execution": {
     "iopub.execute_input": "2024-01-05T16:40:26.523407Z",
     "iopub.status.busy": "2024-01-05T16:40:26.522821Z",
     "iopub.status.idle": "2024-01-05T16:40:26.840002Z",
     "shell.execute_reply": "2024-01-05T16:40:26.838827Z"
    },
    "papermill": {
     "duration": 0.332638,
     "end_time": "2024-01-05T16:40:26.842031",
     "exception": false,
     "start_time": "2024-01-05T16:40:26.509393",
     "status": "completed"
    },
    "tags": []
   },
   "outputs": [
    {
     "data": {
      "text/html": [
       "<style>#sk-container-id-1 {color: black;background-color: white;}#sk-container-id-1 pre{padding: 0;}#sk-container-id-1 div.sk-toggleable {background-color: white;}#sk-container-id-1 label.sk-toggleable__label {cursor: pointer;display: block;width: 100%;margin-bottom: 0;padding: 0.3em;box-sizing: border-box;text-align: center;}#sk-container-id-1 label.sk-toggleable__label-arrow:before {content: \"▸\";float: left;margin-right: 0.25em;color: #696969;}#sk-container-id-1 label.sk-toggleable__label-arrow:hover:before {color: black;}#sk-container-id-1 div.sk-estimator:hover label.sk-toggleable__label-arrow:before {color: black;}#sk-container-id-1 div.sk-toggleable__content {max-height: 0;max-width: 0;overflow: hidden;text-align: left;background-color: #f0f8ff;}#sk-container-id-1 div.sk-toggleable__content pre {margin: 0.2em;color: black;border-radius: 0.25em;background-color: #f0f8ff;}#sk-container-id-1 input.sk-toggleable__control:checked~div.sk-toggleable__content {max-height: 200px;max-width: 100%;overflow: auto;}#sk-container-id-1 input.sk-toggleable__control:checked~label.sk-toggleable__label-arrow:before {content: \"▾\";}#sk-container-id-1 div.sk-estimator input.sk-toggleable__control:checked~label.sk-toggleable__label {background-color: #d4ebff;}#sk-container-id-1 div.sk-label input.sk-toggleable__control:checked~label.sk-toggleable__label {background-color: #d4ebff;}#sk-container-id-1 input.sk-hidden--visually {border: 0;clip: rect(1px 1px 1px 1px);clip: rect(1px, 1px, 1px, 1px);height: 1px;margin: -1px;overflow: hidden;padding: 0;position: absolute;width: 1px;}#sk-container-id-1 div.sk-estimator {font-family: monospace;background-color: #f0f8ff;border: 1px dotted black;border-radius: 0.25em;box-sizing: border-box;margin-bottom: 0.5em;}#sk-container-id-1 div.sk-estimator:hover {background-color: #d4ebff;}#sk-container-id-1 div.sk-parallel-item::after {content: \"\";width: 100%;border-bottom: 1px solid gray;flex-grow: 1;}#sk-container-id-1 div.sk-label:hover label.sk-toggleable__label {background-color: #d4ebff;}#sk-container-id-1 div.sk-serial::before {content: \"\";position: absolute;border-left: 1px solid gray;box-sizing: border-box;top: 0;bottom: 0;left: 50%;z-index: 0;}#sk-container-id-1 div.sk-serial {display: flex;flex-direction: column;align-items: center;background-color: white;padding-right: 0.2em;padding-left: 0.2em;position: relative;}#sk-container-id-1 div.sk-item {position: relative;z-index: 1;}#sk-container-id-1 div.sk-parallel {display: flex;align-items: stretch;justify-content: center;background-color: white;position: relative;}#sk-container-id-1 div.sk-item::before, #sk-container-id-1 div.sk-parallel-item::before {content: \"\";position: absolute;border-left: 1px solid gray;box-sizing: border-box;top: 0;bottom: 0;left: 50%;z-index: -1;}#sk-container-id-1 div.sk-parallel-item {display: flex;flex-direction: column;z-index: 1;position: relative;background-color: white;}#sk-container-id-1 div.sk-parallel-item:first-child::after {align-self: flex-end;width: 50%;}#sk-container-id-1 div.sk-parallel-item:last-child::after {align-self: flex-start;width: 50%;}#sk-container-id-1 div.sk-parallel-item:only-child::after {width: 0;}#sk-container-id-1 div.sk-dashed-wrapped {border: 1px dashed gray;margin: 0 0.4em 0.5em 0.4em;box-sizing: border-box;padding-bottom: 0.4em;background-color: white;}#sk-container-id-1 div.sk-label label {font-family: monospace;font-weight: bold;display: inline-block;line-height: 1.2em;}#sk-container-id-1 div.sk-label-container {text-align: center;}#sk-container-id-1 div.sk-container {/* jupyter's `normalize.less` sets `[hidden] { display: none; }` but bootstrap.min.css set `[hidden] { display: none !important; }` so we also need the `!important` here to be able to override the default hidden behavior on the sphinx rendered scikit-learn.org. See: https://github.com/scikit-learn/scikit-learn/issues/21755 */display: inline-block !important;position: relative;}#sk-container-id-1 div.sk-text-repr-fallback {display: none;}</style><div id=\"sk-container-id-1\" class=\"sk-top-container\"><div class=\"sk-text-repr-fallback\"><pre>RandomForestRegressor(random_state=101)</pre><b>In a Jupyter environment, please rerun this cell to show the HTML representation or trust the notebook. <br />On GitHub, the HTML representation is unable to render, please try loading this page with nbviewer.org.</b></div><div class=\"sk-container\" hidden><div class=\"sk-item\"><div class=\"sk-estimator sk-toggleable\"><input class=\"sk-toggleable__control sk-hidden--visually\" id=\"sk-estimator-id-1\" type=\"checkbox\" checked><label for=\"sk-estimator-id-1\" class=\"sk-toggleable__label sk-toggleable__label-arrow\">RandomForestRegressor</label><div class=\"sk-toggleable__content\"><pre>RandomForestRegressor(random_state=101)</pre></div></div></div></div></div>"
      ],
      "text/plain": [
       "RandomForestRegressor(random_state=101)"
      ]
     },
     "execution_count": 24,
     "metadata": {},
     "output_type": "execute_result"
    }
   ],
   "source": [
    "# Creating and training random forest model\n",
    "rf_model = RandomForestRegressor(n_estimators=100, random_state=101)\n",
    "rf_model.fit(X_train, y_train)"
   ]
  },
  {
   "cell_type": "code",
   "execution_count": 25,
   "id": "5d6f6933",
   "metadata": {
    "execution": {
     "iopub.execute_input": "2024-01-05T16:40:26.867109Z",
     "iopub.status.busy": "2024-01-05T16:40:26.866738Z",
     "iopub.status.idle": "2024-01-05T16:40:26.908146Z",
     "shell.execute_reply": "2024-01-05T16:40:26.906544Z"
    },
    "papermill": {
     "duration": 0.057427,
     "end_time": "2024-01-05T16:40:26.910963",
     "exception": false,
     "start_time": "2024-01-05T16:40:26.853536",
     "status": "completed"
    },
    "tags": []
   },
   "outputs": [
    {
     "name": "stdout",
     "output_type": "stream",
     "text": [
      "MSE:  2995.04\n",
      "MAE:  36.28\n",
      "R^2:  0.7\n",
      "Training score:  94.98%\n",
      "Testing score:  69.57%\n"
     ]
    }
   ],
   "source": [
    "# Making predictions and getting metrics\n",
    "from sklearn.metrics import mean_squared_error, mean_absolute_error, r2_score\n",
    "\n",
    "y_pred = rf_model.predict(X_test)\n",
    "\n",
    "mse = mean_squared_error(y_test, y_pred)\n",
    "mae = mean_absolute_error(y_test, y_pred)\n",
    "r2 = r2_score(y_test, y_pred)\n",
    "train_score = rf_model.score(X_train, y_train)\n",
    "test_score = rf_model.score(X_test, y_test)\n",
    "\n",
    "print('MSE: ', round(mse, 2))\n",
    "print('MAE: ', round(mae, 2))\n",
    "print('R^2: ', round(r2, 2))\n",
    "print('Training score: ', format(train_score, '.2%'))\n",
    "print('Testing score: ', format(test_score, '.2%'))"
   ]
  },
  {
   "cell_type": "markdown",
   "id": "ba4653b3",
   "metadata": {
    "papermill": {
     "duration": 0.012065,
     "end_time": "2024-01-05T16:40:26.935167",
     "exception": false,
     "start_time": "2024-01-05T16:40:26.923102",
     "status": "completed"
    },
    "tags": []
   },
   "source": [
    "## Conclusion & Results"
   ]
  },
  {
   "cell_type": "markdown",
   "id": "7ce38783",
   "metadata": {
    "papermill": {
     "duration": 0.011613,
     "end_time": "2024-01-05T16:40:26.958850",
     "exception": false,
     "start_time": "2024-01-05T16:40:26.947237",
     "status": "completed"
    },
    "tags": []
   },
   "source": [
    "I was able to create a random forest regression model that predicts the Gross Revenue of a movie given it's:\n",
    "- Release Year\n",
    "- Age Rating\n",
    "- Primary Genre\n",
    "- Runtime\n",
    "- IMDB Rating\n",
    "- Number of votes on IMDB\n",
    "- Whether it received a Metascore or not\n",
    "\n",
    "The model produced the following metrics:\n",
    "- Mean squared error: 2995.04 (in millions)\n",
    "- Mean absolute error: 36.28 (in millions)\n",
    "- R-squared: 0.7"
   ]
  }
 ],
 "metadata": {
  "kaggle": {
   "accelerator": "none",
   "dataSources": [
    {
     "datasetId": 1131493,
     "sourceId": 1898721,
     "sourceType": "datasetVersion"
    }
   ],
   "dockerImageVersionId": 30626,
   "isGpuEnabled": false,
   "isInternetEnabled": true,
   "language": "python",
   "sourceType": "notebook"
  },
  "kernelspec": {
   "display_name": "Python 3",
   "language": "python",
   "name": "python3"
  },
  "language_info": {
   "codemirror_mode": {
    "name": "ipython",
    "version": 3
   },
   "file_extension": ".py",
   "mimetype": "text/x-python",
   "name": "python",
   "nbconvert_exporter": "python",
   "pygments_lexer": "ipython3",
   "version": "3.10.12"
  },
  "papermill": {
   "default_parameters": {},
   "duration": 11.975933,
   "end_time": "2024-01-05T16:40:27.792802",
   "environment_variables": {},
   "exception": null,
   "input_path": "__notebook__.ipynb",
   "output_path": "__notebook__.ipynb",
   "parameters": {},
   "start_time": "2024-01-05T16:40:15.816869",
   "version": "2.4.0"
  }
 },
 "nbformat": 4,
 "nbformat_minor": 5
}
